{
 "cells": [
  {
   "cell_type": "markdown",
   "metadata": {},
   "source": [
    "#### Loading libraries"
   ]
  },
  {
   "cell_type": "code",
   "execution_count": 1,
   "metadata": {},
   "outputs": [],
   "source": [
    "# data processing and plotting libraries\n",
    "import numpy as np\n",
    "import os\n",
    "import matplotlib.pylab as plt\n",
    "import pandas as pd\n",
    "import seaborn as sns"
   ]
  },
  {
   "cell_type": "markdown",
   "metadata": {},
   "source": [
    "#### Define test errors for angle models"
   ]
  },
  {
   "cell_type": "code",
   "execution_count": 4,
   "metadata": {},
   "outputs": [],
   "source": [
    "#--- Test errors for contact angle ---#\n",
    "df_error_inner = pd.DataFrame({\"InceptionResNetV2\" : np.array([0.0262, 0.1003, 0.1748, 0.2309, 0.1839]),\n",
    "                              \"VGG19\" : np.array([0.0315, 0.0529, 0.0533, 0.0468, 0.0527]),\n",
    "                              \"Xception\" : np.array([0.0704, 0.1561, 0.2187, 0.2182, 0.2145])}, \n",
    "                              index = range(2, 7))\n",
    "#--- Test errors for tangential angle ---#\n",
    "df_error_tang = pd.DataFrame({\"InceptionResNetV2\" : np.array([0.0262, 0.1003, 0.1748, 0.2309, 0.1839]),\n",
    "                              \"VGG19\" : np.array([0.0315, 0.0529, 0.0533, 0.0468, 0.0527]),\n",
    "                              \"Xception\" : np.array([0.0704, 0.1561, 0.2187, 0.2182, 0.2145])}, \n",
    "                              index = range(2, 7))"
   ]
  },
  {
   "cell_type": "code",
   "execution_count": null,
   "metadata": {},
   "outputs": [],
   "source": []
  }
 ],
 "metadata": {
  "kernelspec": {
   "display_name": "Python 3",
   "language": "python",
   "name": "python3"
  },
  "language_info": {
   "codemirror_mode": {
    "name": "ipython",
    "version": 3
   },
   "file_extension": ".py",
   "mimetype": "text/x-python",
   "name": "python",
   "nbconvert_exporter": "python",
   "pygments_lexer": "ipython3",
   "version": "3.8.5"
  }
 },
 "nbformat": 4,
 "nbformat_minor": 4
}
