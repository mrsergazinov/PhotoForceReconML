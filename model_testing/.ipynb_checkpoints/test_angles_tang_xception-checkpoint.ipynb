{
 "cells": [
  {
   "cell_type": "markdown",
   "metadata": {},
   "source": [
    "#### Loading libraries"
   ]
  },
  {
   "cell_type": "code",
   "execution_count": 1,
   "metadata": {},
   "outputs": [],
   "source": [
    "# Load tensorflow\n",
    "import tensorflow as tf\n",
    "# Below command is to avoid the known bug which prevents computation on some GPU devices\n",
    "physical_devices = tf.config.experimental.list_physical_devices('GPU')\n",
    "assert len(physical_devices) > 0, \"Not enough GPU hardware devices available\"\n",
    "tf.config.experimental.set_memory_growth(physical_devices[0], True)\n",
    "# Load preprocessing tools\n",
    "from scipy.ndimage.filters import gaussian_filter\n",
    "from tensorflow.keras.utils import to_categorical\n",
    "from PIL import Image\n",
    "# Load model building blocks\n",
    "from tensorflow.keras import Input\n",
    "from tensorflow.keras.models import Model, load_model\n",
    "from tensorflow.keras.layers import Dense, Flatten, Dropout, GlobalAveragePooling2D\n",
    "from tensorflow.keras.callbacks import EarlyStopping\n",
    "from tensorflow.keras.callbacks import ModelCheckpoint\n",
    "# Load pre-trained model library\n",
    "from tensorflow.keras import applications\n",
    "# Load miscelaneous libraries\n",
    "import numpy as np\n",
    "import os\n",
    "import matplotlib.pylab as plt\n",
    "import gc\n",
    "# Settings to set the max output of numpy to infty\n",
    "# import sys\n",
    "# np.set_printoptions(threshold=sys.maxsize)"
   ]
  },
  {
   "cell_type": "markdown",
   "metadata": {},
   "source": [
    "#### Define paths"
   ]
  },
  {
   "cell_type": "code",
   "execution_count": 2,
   "metadata": {},
   "outputs": [],
   "source": [
    "image_path = os.path.join('/home', 'renat_sergazinov', \n",
    "                          'python-git-workspace', 'PhotoForceReconML', 'image_data', 'test')\n",
    "labels_path = os.path.join('/home', 'renat_sergazinov', \n",
    "                          'python-git-workspace', 'PhotoForceReconML', 'labels', 'test')\n",
    "models_path = os.path.join('/home', 'renat_sergazinov', \n",
    "                          'python-git-workspace', 'PhotoForceReconML', 'models')"
   ]
  },
  {
   "cell_type": "markdown",
   "metadata": {},
   "source": [
    "#### Define image processor and data generator"
   ]
  },
  {
   "cell_type": "code",
   "execution_count": 3,
   "metadata": {},
   "outputs": [],
   "source": [
    "%run data_loader.py"
   ]
  },
  {
   "cell_type": "markdown",
   "metadata": {},
   "source": [
    "#### Load the data"
   ]
  },
  {
   "cell_type": "code",
   "execution_count": 4,
   "metadata": {},
   "outputs": [],
   "source": [
    "# Extract image paths\n",
    "img_paths = {}\n",
    "for i in range(2, 7):\n",
    "    path_prefix = os.path.join(image_path, str(i))\n",
    "    img_paths[i] = [os.path.join(path_prefix, name) for name in sorted(os.listdir(path_prefix), key = sorter)]\n",
    "\n",
    "# Apply data generators\n",
    "gaussblur = GaussBlur(1)\n",
    "params = {'dim': (128, 128), \n",
    "          'n_channels': 3, \n",
    "          'rescale': 1 / 255, \n",
    "          'preprocessing_func': gaussblur.blur\n",
    "          }\n",
    "test_generator = {}\n",
    "for i in range(2, 7):test_generator[i] = DataGenerator(img_paths[i], **params)\n",
    "    \n",
    "# Load images (for all number of forces) as matrix\n",
    "X = dict()\n",
    "for i in range(2, 7): X[i] = test_generator[i].generate()"
   ]
  },
  {
   "cell_type": "code",
   "execution_count": 5,
   "metadata": {},
   "outputs": [],
   "source": [
    "# Load angle labels\n",
    "y_lai = dict()\n",
    "for i in range(2, 7): y_lai[i] = np.load(os.path.join(labels_path, str(i), 'angles_tang.npy'))"
   ]
  },
  {
   "cell_type": "markdown",
   "metadata": {},
   "source": [
    "#### Load and test models"
   ]
  },
  {
   "cell_type": "code",
   "execution_count": 8,
   "metadata": {},
   "outputs": [],
   "source": [
    "models_ai = dict()                         \n",
    "for i in range(2, 7): models_ai[i] = load_model(os.path.join(models_path, 'xception_angles_tang_'+str(i)+'.h5'))"
   ]
  },
  {
   "cell_type": "code",
   "execution_count": 9,
   "metadata": {},
   "outputs": [
    {
     "name": "stdout",
     "output_type": "stream",
     "text": [
      "Num forces:  2\n",
      "125/125 [==============================] - 3s 25ms/step - loss: 0.0307 - mean_absolute_error: 0.0307\n",
      "Num forces:  3\n",
      "125/125 [==============================] - 3s 25ms/step - loss: 0.1040 - mean_absolute_error: 0.1040\n",
      "Num forces:  4\n",
      "125/125 [==============================] - 3s 25ms/step - loss: 0.1632 - mean_absolute_error: 0.1632\n",
      "Num forces:  5\n",
      "125/125 [==============================] - 3s 26ms/step - loss: 0.1705 - mean_absolute_error: 0.1705\n",
      "Num forces:  6\n",
      "125/125 [==============================] - 3s 25ms/step - loss: 0.1777 - mean_absolute_error: 0.1777\n"
     ]
    }
   ],
   "source": [
    "for i in range(2, 7):\n",
    "    print(\"Num forces: \", i)\n",
    "    loss = models_ai[i].evaluate(X[i], y_lai[i])"
   ]
  },
  {
   "cell_type": "code",
   "execution_count": null,
   "metadata": {},
   "outputs": [],
   "source": []
  }
 ],
 "metadata": {
  "kernelspec": {
   "display_name": "Python 3",
   "language": "python",
   "name": "python3"
  },
  "language_info": {
   "codemirror_mode": {
    "name": "ipython",
    "version": 3
   },
   "file_extension": ".py",
   "mimetype": "text/x-python",
   "name": "python",
   "nbconvert_exporter": "python",
   "pygments_lexer": "ipython3",
   "version": "3.8.5"
  }
 },
 "nbformat": 4,
 "nbformat_minor": 2
}
