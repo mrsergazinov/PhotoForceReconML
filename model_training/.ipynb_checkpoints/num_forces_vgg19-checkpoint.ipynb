{
 "cells": [
  {
   "cell_type": "markdown",
   "metadata": {},
   "source": [
    "#### Loading the necessary libraries and packages"
   ]
  },
  {
   "cell_type": "code",
   "execution_count": 1,
   "metadata": {},
   "outputs": [],
   "source": [
    "# Load tensorflow\n",
    "import tensorflow as tf\n",
    "# Below command is to avoid the known bug which prevents computation on some GPU devices\n",
    "physical_devices = tf.config.experimental.list_physical_devices('GPU')\n",
    "assert len(physical_devices) > 0, \"Not enough GPU hardware devices available\"\n",
    "tf.config.experimental.set_memory_growth(physical_devices[0], True)\n",
    "# Load preprocessing tools\n",
    "from tensorflow.keras.preprocessing.image import ImageDataGenerator\n",
    "from scipy.ndimage.filters import gaussian_filter\n",
    "from PIL import Image\n",
    "from PIL.ImageOps import expand\n",
    "# Load model building blocks\n",
    "from tensorflow.keras import Input\n",
    "from tensorflow.keras.models import Model, load_model\n",
    "from tensorflow.keras.layers import Dense, Dropout, GlobalAveragePooling2D\n",
    "from tensorflow.keras.callbacks import EarlyStopping\n",
    "from tensorflow.keras.callbacks import ModelCheckpoint\n",
    "# Load pre-trained model library\n",
    "from tensorflow.keras import applications\n",
    "# Load miscelaneous libraries\n",
    "import numpy as np\n",
    "import os\n",
    "import matplotlib.pylab as plt\n",
    "import gc"
   ]
  },
  {
   "cell_type": "markdown",
   "metadata": {},
   "source": [
    "#### Define paths"
   ]
  },
  {
   "cell_type": "code",
   "execution_count": 2,
   "metadata": {},
   "outputs": [],
   "source": [
    "train_image_path = os.path.join('/home', 'renat_sergazinov', \n",
    "                          'python-git-workspace', 'PhotoForceReconML', 'image_data', 'train')\n",
    "val_image_path = os.path.join('/home', 'renat_sergazinov', \n",
    "                          'python-git-workspace', 'PhotoForceReconML', 'image_data', 'val')\n",
    "model_path = os.path.join('/home', 'renat_sergazinov', 'python-git-workspace', \n",
    "                          'PhotoForceReconML', 'models', 'vgg19_num_forces.h5')"
   ]
  },
  {
   "cell_type": "markdown",
   "metadata": {},
   "source": [
    "#### Data preprocessing and augmentation"
   ]
  },
  {
   "cell_type": "markdown",
   "metadata": {},
   "source": [
    "Load the data from the directory. The data are the images of particles split into subdirectories based on the number of forces acting on the particle. The labels are inferred from the subdirectory names. \n",
    "\n",
    "The size of all images is adjusted so that all images are 128*128 using nearest neighbor interpolation. Validation split is performed: 20% is set aside for validation. Additionally images are blurred using Gaussian blur with kernel radius = 1.The pixel values are scaled using 1/255 to be in the interval [0,1]."
   ]
  },
  {
   "cell_type": "code",
   "execution_count": 2,
   "metadata": {},
   "outputs": [],
   "source": [
    "# Define gaussian blur class\n",
    "class GaussBlur:\n",
    "    def __init__(self, radius):\n",
    "        self.radius = radius\n",
    "    def blur(self, image):\n",
    "        return gaussian_filter(image, sigma = self.radius)"
   ]
  },
  {
   "cell_type": "code",
   "execution_count": 3,
   "metadata": {},
   "outputs": [],
   "source": [
    "# Define datagen and gaussian blur classes\n",
    "gaussblur = GaussBlur(1)\n",
    "datagen = ImageDataGenerator(\n",
    "    rescale = 1 / 255,\n",
    "    preprocessing_function = gaussblur.blur)"
   ]
  },
  {
   "cell_type": "code",
   "execution_count": 4,
   "metadata": {},
   "outputs": [
    {
     "name": "stdout",
     "output_type": "stream",
     "text": [
      "Found 80000 images belonging to 5 classes.\n",
      "Found 20000 images belonging to 5 classes.\n"
     ]
    }
   ],
   "source": [
    "# Create directory iterator for reading in the data\n",
    "datagen_flow_train = datagen.flow_from_directory(os.path.join(os.getcwd(), 'image_data', 'train'), \n",
    "                                         target_size = (128, 128),\n",
    "                                         color_mode = \"rgb\",\n",
    "                                         class_mode = \"categorical\",\n",
    "                                         batch_size = 32,\n",
    "                                         shuffle = True,\n",
    "                                         seed = None,\n",
    "                                         follow_links = False,\n",
    "                                         interpolation = \"nearest\")\n",
    "datagen_flow_val = datagen.flow_from_directory(os.path.join(os.getcwd(), 'image_data', 'val'), \n",
    "                                         target_size = (128, 128),\n",
    "                                         color_mode = \"rgb\",\n",
    "                                         class_mode = \"categorical\",\n",
    "                                         batch_size = 32,\n",
    "                                         shuffle = True,\n",
    "                                         seed = None,\n",
    "                                         follow_links = False,\n",
    "                                         interpolation = \"nearest\")"
   ]
  },
  {
   "cell_type": "markdown",
   "metadata": {},
   "source": [
    "#### VGG19 Model building"
   ]
  },
  {
   "cell_type": "markdown",
   "metadata": {},
   "source": [
    "Convolutional neural network is defined and compiled in this step."
   ]
  },
  {
   "cell_type": "code",
   "execution_count": 5,
   "metadata": {},
   "outputs": [],
   "source": [
    "# Load VGG19 model to be the base model\n",
    "base_model = applications.VGG19(\n",
    "    weights='imagenet',  # Load weights pre-trained on ImageNet.\n",
    "    input_shape=(128, 128, 3),\n",
    "    include_top=False)"
   ]
  },
  {
   "cell_type": "code",
   "execution_count": 6,
   "metadata": {},
   "outputs": [
    {
     "name": "stdout",
     "output_type": "stream",
     "text": [
      "Model: \"vgg19\"\n",
      "_________________________________________________________________\n",
      "Layer (type)                 Output Shape              Param #   \n",
      "=================================================================\n",
      "input_1 (InputLayer)         [(None, 128, 128, 3)]     0         \n",
      "_________________________________________________________________\n",
      "block1_conv1 (Conv2D)        (None, 128, 128, 64)      1792      \n",
      "_________________________________________________________________\n",
      "block1_conv2 (Conv2D)        (None, 128, 128, 64)      36928     \n",
      "_________________________________________________________________\n",
      "block1_pool (MaxPooling2D)   (None, 64, 64, 64)        0         \n",
      "_________________________________________________________________\n",
      "block2_conv1 (Conv2D)        (None, 64, 64, 128)       73856     \n",
      "_________________________________________________________________\n",
      "block2_conv2 (Conv2D)        (None, 64, 64, 128)       147584    \n",
      "_________________________________________________________________\n",
      "block2_pool (MaxPooling2D)   (None, 32, 32, 128)       0         \n",
      "_________________________________________________________________\n",
      "block3_conv1 (Conv2D)        (None, 32, 32, 256)       295168    \n",
      "_________________________________________________________________\n",
      "block3_conv2 (Conv2D)        (None, 32, 32, 256)       590080    \n",
      "_________________________________________________________________\n",
      "block3_conv3 (Conv2D)        (None, 32, 32, 256)       590080    \n",
      "_________________________________________________________________\n",
      "block3_conv4 (Conv2D)        (None, 32, 32, 256)       590080    \n",
      "_________________________________________________________________\n",
      "block3_pool (MaxPooling2D)   (None, 16, 16, 256)       0         \n",
      "_________________________________________________________________\n",
      "block4_conv1 (Conv2D)        (None, 16, 16, 512)       1180160   \n",
      "_________________________________________________________________\n",
      "block4_conv2 (Conv2D)        (None, 16, 16, 512)       2359808   \n",
      "_________________________________________________________________\n",
      "block4_conv3 (Conv2D)        (None, 16, 16, 512)       2359808   \n",
      "_________________________________________________________________\n",
      "block4_conv4 (Conv2D)        (None, 16, 16, 512)       2359808   \n",
      "_________________________________________________________________\n",
      "block4_pool (MaxPooling2D)   (None, 8, 8, 512)         0         \n",
      "_________________________________________________________________\n",
      "block5_conv1 (Conv2D)        (None, 8, 8, 512)         2359808   \n",
      "_________________________________________________________________\n",
      "block5_conv2 (Conv2D)        (None, 8, 8, 512)         2359808   \n",
      "_________________________________________________________________\n",
      "block5_conv3 (Conv2D)        (None, 8, 8, 512)         2359808   \n",
      "_________________________________________________________________\n",
      "block5_conv4 (Conv2D)        (None, 8, 8, 512)         2359808   \n",
      "_________________________________________________________________\n",
      "block5_pool (MaxPooling2D)   (None, 4, 4, 512)         0         \n",
      "=================================================================\n",
      "Total params: 20,024,384\n",
      "Trainable params: 0\n",
      "Non-trainable params: 20,024,384\n",
      "_________________________________________________________________\n"
     ]
    }
   ],
   "source": [
    "# Freeze model weights\n",
    "base_model.trainable = False\n",
    "# Get output shape\n",
    "base_model.output_shape\n",
    "# Get model summary\n",
    "base_model.summary()"
   ]
  },
  {
   "cell_type": "code",
   "execution_count": 7,
   "metadata": {},
   "outputs": [],
   "source": [
    "# Determine number of classes\n",
    "num_classes = len(os.listdir(train_image_path))\n",
    "\n",
    "# Define the model\n",
    "inputs = Input(shape=(128, 128, 3))\n",
    "x = base_model(inputs, training = False)\n",
    "x = GlobalAveragePooling2D()(x)\n",
    "x = Dense(1024, activation='relu')(x)\n",
    "x = Dropout(0.5)(x)\n",
    "outputs = Dense(num_classes, activation='softmax')(x)\n",
    "\n",
    "model = Model(inputs, outputs)"
   ]
  },
  {
   "cell_type": "code",
   "execution_count": 8,
   "metadata": {},
   "outputs": [
    {
     "name": "stdout",
     "output_type": "stream",
     "text": [
      "Model: \"model\"\n",
      "_________________________________________________________________\n",
      "Layer (type)                 Output Shape              Param #   \n",
      "=================================================================\n",
      "input_2 (InputLayer)         [(None, 128, 128, 3)]     0         \n",
      "_________________________________________________________________\n",
      "vgg19 (Model)                (None, 4, 4, 512)         20024384  \n",
      "_________________________________________________________________\n",
      "global_average_pooling2d (Gl (None, 512)               0         \n",
      "_________________________________________________________________\n",
      "dense (Dense)                (None, 1024)              525312    \n",
      "_________________________________________________________________\n",
      "dropout (Dropout)            (None, 1024)              0         \n",
      "_________________________________________________________________\n",
      "dense_1 (Dense)              (None, 5)                 5125      \n",
      "=================================================================\n",
      "Total params: 20,554,821\n",
      "Trainable params: 530,437\n",
      "Non-trainable params: 20,024,384\n",
      "_________________________________________________________________\n"
     ]
    }
   ],
   "source": [
    "model.summary()"
   ]
  },
  {
   "cell_type": "markdown",
   "metadata": {},
   "source": [
    "#### VGG19 Model Training"
   ]
  },
  {
   "cell_type": "markdown",
   "metadata": {},
   "source": [
    "The model is trained using Adam optimizer. The loss is defined to be categorical crossentropy. Best model selection across training epochs is implemented with model checkpoint tracking the validation loss. Early stopping is set with patience of 20 epochs. "
   ]
  },
  {
   "cell_type": "code",
   "execution_count": 9,
   "metadata": {},
   "outputs": [],
   "source": [
    "# Compile model: define loss, optimizer\n",
    "model.compile(optimizer=tf.keras.optimizers.Adam(epsilon = 1e-07),\n",
    "              loss='categorical_crossentropy', \n",
    "              metrics=['accuracy', 'categorical_crossentropy'])"
   ]
  },
  {
   "cell_type": "code",
   "execution_count": 10,
   "metadata": {},
   "outputs": [
    {
     "name": "stdout",
     "output_type": "stream",
     "text": [
      "Epoch 1/100\n",
      "2500/2500 [==============================] - ETA: 0s - loss: 0.2642 - accuracy: 0.9028 - categorical_crossentropy: 0.2642\n",
      "Epoch 00001: val_loss improved from inf to 0.15688, saving model to /home/renat_sergazinov/python-git-workspace/PhotoForceReconML/models/vgg19_num_forces.h5\n",
      "2500/2500 [==============================] - 203s 81ms/step - loss: 0.2642 - accuracy: 0.9028 - categorical_crossentropy: 0.2642 - val_loss: 0.1569 - val_accuracy: 0.9506 - val_categorical_crossentropy: 0.1569\n",
      "Epoch 2/100\n",
      "2499/2500 [============================>.] - ETA: 0s - loss: 0.1126 - accuracy: 0.9590 - categorical_crossentropy: 0.1126\n",
      "Epoch 00002: val_loss improved from 0.15688 to 0.13607, saving model to /home/renat_sergazinov/python-git-workspace/PhotoForceReconML/models/vgg19_num_forces.h5\n",
      "2500/2500 [==============================] - 199s 80ms/step - loss: 0.1126 - accuracy: 0.9590 - categorical_crossentropy: 0.1126 - val_loss: 0.1361 - val_accuracy: 0.9578 - val_categorical_crossentropy: 0.1361\n",
      "Epoch 3/100\n",
      "2499/2500 [============================>.] - ETA: 0s - loss: 0.0957 - accuracy: 0.9644 - categorical_crossentropy: 0.0957\n",
      "Epoch 00003: val_loss did not improve from 0.13607\n",
      "2500/2500 [==============================] - 201s 81ms/step - loss: 0.0957 - accuracy: 0.9644 - categorical_crossentropy: 0.0957 - val_loss: 0.1456 - val_accuracy: 0.9553 - val_categorical_crossentropy: 0.1456\n",
      "Epoch 4/100\n",
      "2500/2500 [==============================] - ETA: 0s - loss: 0.0842 - accuracy: 0.9683 - categorical_crossentropy: 0.0842\n",
      "Epoch 00004: val_loss improved from 0.13607 to 0.12322, saving model to /home/renat_sergazinov/python-git-workspace/PhotoForceReconML/models/vgg19_num_forces.h5\n",
      "2500/2500 [==============================] - 200s 80ms/step - loss: 0.0842 - accuracy: 0.9683 - categorical_crossentropy: 0.0842 - val_loss: 0.1232 - val_accuracy: 0.9619 - val_categorical_crossentropy: 0.1232\n",
      "Epoch 5/100\n",
      "2500/2500 [==============================] - ETA: 0s - loss: 0.0780 - accuracy: 0.9711 - categorical_crossentropy: 0.0780\n",
      "Epoch 00005: val_loss did not improve from 0.12322\n",
      "2500/2500 [==============================] - 201s 80ms/step - loss: 0.0780 - accuracy: 0.9711 - categorical_crossentropy: 0.0780 - val_loss: 0.2114 - val_accuracy: 0.9456 - val_categorical_crossentropy: 0.2114\n",
      "Epoch 6/100\n",
      "2499/2500 [============================>.] - ETA: 0s - loss: 0.0748 - accuracy: 0.9723 - categorical_crossentropy: 0.0748\n",
      "Epoch 00006: val_loss did not improve from 0.12322\n",
      "2500/2500 [==============================] - 202s 81ms/step - loss: 0.0748 - accuracy: 0.9723 - categorical_crossentropy: 0.0748 - val_loss: 0.1462 - val_accuracy: 0.9540 - val_categorical_crossentropy: 0.1462\n",
      "Epoch 7/100\n",
      "2500/2500 [==============================] - ETA: 0s - loss: 0.0691 - accuracy: 0.9739 - categorical_crossentropy: 0.0691\n",
      "Epoch 00007: val_loss did not improve from 0.12322\n",
      "2500/2500 [==============================] - 201s 81ms/step - loss: 0.0691 - accuracy: 0.9739 - categorical_crossentropy: 0.0691 - val_loss: 0.1781 - val_accuracy: 0.9554 - val_categorical_crossentropy: 0.1781\n",
      "Epoch 8/100\n",
      "2500/2500 [==============================] - ETA: 0s - loss: 0.0661 - accuracy: 0.9757 - categorical_crossentropy: 0.0661\n",
      "Epoch 00008: val_loss did not improve from 0.12322\n",
      "2500/2500 [==============================] - 202s 81ms/step - loss: 0.0661 - accuracy: 0.9757 - categorical_crossentropy: 0.0661 - val_loss: 0.1499 - val_accuracy: 0.9654 - val_categorical_crossentropy: 0.1499\n",
      "Epoch 9/100\n",
      "2500/2500 [==============================] - ETA: 0s - loss: 0.0647 - accuracy: 0.9762 - categorical_crossentropy: 0.0647\n",
      "Epoch 00009: val_loss did not improve from 0.12322\n",
      "2500/2500 [==============================] - 203s 81ms/step - loss: 0.0647 - accuracy: 0.9762 - categorical_crossentropy: 0.0647 - val_loss: 0.1331 - val_accuracy: 0.9670 - val_categorical_crossentropy: 0.1331\n",
      "Epoch 10/100\n",
      "2499/2500 [============================>.] - ETA: 0s - loss: 0.0612 - accuracy: 0.9771 - categorical_crossentropy: 0.0612\n",
      "Epoch 00010: val_loss did not improve from 0.12322\n",
      "2500/2500 [==============================] - 201s 80ms/step - loss: 0.0612 - accuracy: 0.9771 - categorical_crossentropy: 0.0612 - val_loss: 0.1420 - val_accuracy: 0.9688 - val_categorical_crossentropy: 0.1420\n",
      "Epoch 11/100\n",
      "2500/2500 [==============================] - ETA: 0s - loss: 0.0565 - accuracy: 0.9792 - categorical_crossentropy: 0.0565\n",
      "Epoch 00011: val_loss did not improve from 0.12322\n",
      "2500/2500 [==============================] - 201s 80ms/step - loss: 0.0565 - accuracy: 0.9792 - categorical_crossentropy: 0.0565 - val_loss: 0.1286 - val_accuracy: 0.9695 - val_categorical_crossentropy: 0.1286\n",
      "Epoch 12/100\n",
      "2500/2500 [==============================] - ETA: 0s - loss: 0.0556 - accuracy: 0.9797 - categorical_crossentropy: 0.0556\n",
      "Epoch 00012: val_loss did not improve from 0.12322\n",
      "2500/2500 [==============================] - 203s 81ms/step - loss: 0.0556 - accuracy: 0.9797 - categorical_crossentropy: 0.0556 - val_loss: 0.1743 - val_accuracy: 0.9581 - val_categorical_crossentropy: 0.1743\n",
      "Epoch 13/100\n",
      "2500/2500 [==============================] - ETA: 0s - loss: 0.0550 - accuracy: 0.9800 - categorical_crossentropy: 0.0550\n",
      "Epoch 00013: val_loss improved from 0.12322 to 0.10964, saving model to /home/renat_sergazinov/python-git-workspace/PhotoForceReconML/models/vgg19_num_forces.h5\n",
      "2500/2500 [==============================] - 203s 81ms/step - loss: 0.0550 - accuracy: 0.9800 - categorical_crossentropy: 0.0550 - val_loss: 0.1096 - val_accuracy: 0.9718 - val_categorical_crossentropy: 0.1096\n",
      "Epoch 14/100\n",
      "2499/2500 [============================>.] - ETA: 0s - loss: 0.0517 - accuracy: 0.9809 - categorical_crossentropy: 0.0517\n",
      "Epoch 00014: val_loss did not improve from 0.10964\n",
      "2500/2500 [==============================] - 202s 81ms/step - loss: 0.0518 - accuracy: 0.9809 - categorical_crossentropy: 0.0518 - val_loss: 0.1666 - val_accuracy: 0.9653 - val_categorical_crossentropy: 0.1666\n",
      "Epoch 15/100\n",
      "2500/2500 [==============================] - ETA: 0s - loss: 0.0501 - accuracy: 0.9816 - categorical_crossentropy: 0.0501\n",
      "Epoch 00015: val_loss did not improve from 0.10964\n",
      "2500/2500 [==============================] - 200s 80ms/step - loss: 0.0501 - accuracy: 0.9816 - categorical_crossentropy: 0.0501 - val_loss: 0.1224 - val_accuracy: 0.9732 - val_categorical_crossentropy: 0.1224\n",
      "Epoch 16/100\n",
      "2500/2500 [==============================] - ETA: 0s - loss: 0.0489 - accuracy: 0.9824 - categorical_crossentropy: 0.0489\n",
      "Epoch 00016: val_loss did not improve from 0.10964\n",
      "2500/2500 [==============================] - 200s 80ms/step - loss: 0.0489 - accuracy: 0.9824 - categorical_crossentropy: 0.0489 - val_loss: 0.1212 - val_accuracy: 0.9722 - val_categorical_crossentropy: 0.1212\n",
      "Epoch 17/100\n",
      "2500/2500 [==============================] - ETA: 0s - loss: 0.0468 - accuracy: 0.9829 - categorical_crossentropy: 0.0468\n",
      "Epoch 00017: val_loss improved from 0.10964 to 0.10568, saving model to /home/renat_sergazinov/python-git-workspace/PhotoForceReconML/models/vgg19_num_forces.h5\n",
      "2500/2500 [==============================] - 196s 79ms/step - loss: 0.0468 - accuracy: 0.9829 - categorical_crossentropy: 0.0468 - val_loss: 0.1057 - val_accuracy: 0.9704 - val_categorical_crossentropy: 0.1057\n",
      "Epoch 18/100\n",
      "2500/2500 [==============================] - ETA: 0s - loss: 0.0468 - accuracy: 0.9832 - categorical_crossentropy: 0.0468\n",
      "Epoch 00018: val_loss did not improve from 0.10568\n",
      "2500/2500 [==============================] - 197s 79ms/step - loss: 0.0468 - accuracy: 0.9832 - categorical_crossentropy: 0.0468 - val_loss: 0.1527 - val_accuracy: 0.9674 - val_categorical_crossentropy: 0.1527\n",
      "Epoch 19/100\n",
      "2500/2500 [==============================] - ETA: 0s - loss: 0.0464 - accuracy: 0.9831 - categorical_crossentropy: 0.0464\n",
      "Epoch 00019: val_loss did not improve from 0.10568\n",
      "2500/2500 [==============================] - 200s 80ms/step - loss: 0.0464 - accuracy: 0.9831 - categorical_crossentropy: 0.0464 - val_loss: 0.1104 - val_accuracy: 0.9718 - val_categorical_crossentropy: 0.1104\n",
      "Epoch 20/100\n",
      "2500/2500 [==============================] - ETA: 0s - loss: 0.0450 - accuracy: 0.9838 - categorical_crossentropy: 0.0450\n",
      "Epoch 00020: val_loss improved from 0.10568 to 0.09191, saving model to /home/renat_sergazinov/python-git-workspace/PhotoForceReconML/models/vgg19_num_forces.h5\n",
      "2500/2500 [==============================] - 200s 80ms/step - loss: 0.0450 - accuracy: 0.9838 - categorical_crossentropy: 0.0450 - val_loss: 0.0919 - val_accuracy: 0.9768 - val_categorical_crossentropy: 0.0919\n",
      "Epoch 21/100\n",
      "2499/2500 [============================>.] - ETA: 0s - loss: 0.0440 - accuracy: 0.9845 - categorical_crossentropy: 0.0440\n",
      "Epoch 00021: val_loss did not improve from 0.09191\n",
      "2500/2500 [==============================] - 198s 79ms/step - loss: 0.0440 - accuracy: 0.9845 - categorical_crossentropy: 0.0440 - val_loss: 0.1071 - val_accuracy: 0.9736 - val_categorical_crossentropy: 0.1071\n",
      "Epoch 22/100\n",
      "2500/2500 [==============================] - ETA: 0s - loss: 0.0411 - accuracy: 0.9855 - categorical_crossentropy: 0.0411\n",
      "Epoch 00022: val_loss did not improve from 0.09191\n",
      "2500/2500 [==============================] - 195s 78ms/step - loss: 0.0411 - accuracy: 0.9855 - categorical_crossentropy: 0.0411 - val_loss: 0.1176 - val_accuracy: 0.9711 - val_categorical_crossentropy: 0.1176\n",
      "Epoch 23/100\n",
      "2500/2500 [==============================] - ETA: 0s - loss: 0.0408 - accuracy: 0.9854 - categorical_crossentropy: 0.0408\n",
      "Epoch 00023: val_loss did not improve from 0.09191\n",
      "2500/2500 [==============================] - 200s 80ms/step - loss: 0.0408 - accuracy: 0.9854 - categorical_crossentropy: 0.0408 - val_loss: 0.1048 - val_accuracy: 0.9716 - val_categorical_crossentropy: 0.1048\n",
      "Epoch 24/100\n",
      "2500/2500 [==============================] - ETA: 0s - loss: 0.0395 - accuracy: 0.9858 - categorical_crossentropy: 0.0395\n",
      "Epoch 00024: val_loss did not improve from 0.09191\n",
      "2500/2500 [==============================] - 198s 79ms/step - loss: 0.0395 - accuracy: 0.9858 - categorical_crossentropy: 0.0395 - val_loss: 0.1498 - val_accuracy: 0.9687 - val_categorical_crossentropy: 0.1498\n",
      "Epoch 25/100\n",
      "2500/2500 [==============================] - ETA: 0s - loss: 0.0394 - accuracy: 0.9857 - categorical_crossentropy: 0.0394\n",
      "Epoch 00025: val_loss did not improve from 0.09191\n",
      "2500/2500 [==============================] - 199s 79ms/step - loss: 0.0394 - accuracy: 0.9857 - categorical_crossentropy: 0.0394 - val_loss: 0.1037 - val_accuracy: 0.9750 - val_categorical_crossentropy: 0.1037\n",
      "Epoch 26/100\n",
      "2500/2500 [==============================] - ETA: 0s - loss: 0.0377 - accuracy: 0.9863 - categorical_crossentropy: 0.0377\n",
      "Epoch 00026: val_loss did not improve from 0.09191\n",
      "2500/2500 [==============================] - 200s 80ms/step - loss: 0.0377 - accuracy: 0.9863 - categorical_crossentropy: 0.0377 - val_loss: 0.1636 - val_accuracy: 0.9696 - val_categorical_crossentropy: 0.1636\n",
      "Epoch 27/100\n",
      "2500/2500 [==============================] - ETA: 0s - loss: 0.0393 - accuracy: 0.9862 - categorical_crossentropy: 0.0393\n",
      "Epoch 00027: val_loss did not improve from 0.09191\n",
      "2500/2500 [==============================] - 199s 80ms/step - loss: 0.0393 - accuracy: 0.9862 - categorical_crossentropy: 0.0393 - val_loss: 0.1510 - val_accuracy: 0.9718 - val_categorical_crossentropy: 0.1510\n",
      "Epoch 28/100\n",
      "2500/2500 [==============================] - ETA: 0s - loss: 0.0367 - accuracy: 0.9872 - categorical_crossentropy: 0.0367\n",
      "Epoch 00028: val_loss did not improve from 0.09191\n",
      "2500/2500 [==============================] - 197s 79ms/step - loss: 0.0367 - accuracy: 0.9872 - categorical_crossentropy: 0.0367 - val_loss: 0.1177 - val_accuracy: 0.9750 - val_categorical_crossentropy: 0.1177\n",
      "Epoch 29/100\n",
      "2500/2500 [==============================] - ETA: 0s - loss: 0.0378 - accuracy: 0.9869 - categorical_crossentropy: 0.0378\n",
      "Epoch 00029: val_loss did not improve from 0.09191\n",
      "2500/2500 [==============================] - 198s 79ms/step - loss: 0.0378 - accuracy: 0.9869 - categorical_crossentropy: 0.0378 - val_loss: 0.1289 - val_accuracy: 0.9730 - val_categorical_crossentropy: 0.1289\n",
      "Epoch 30/100\n",
      "2500/2500 [==============================] - ETA: 0s - loss: 0.0343 - accuracy: 0.9879 - categorical_crossentropy: 0.0343\n",
      "Epoch 00030: val_loss did not improve from 0.09191\n",
      "2500/2500 [==============================] - 199s 80ms/step - loss: 0.0343 - accuracy: 0.9879 - categorical_crossentropy: 0.0343 - val_loss: 0.2065 - val_accuracy: 0.9664 - val_categorical_crossentropy: 0.2065\n",
      "Epoch 31/100\n",
      "2500/2500 [==============================] - ETA: 0s - loss: 0.0355 - accuracy: 0.9874 - categorical_crossentropy: 0.0355\n",
      "Epoch 00031: val_loss did not improve from 0.09191\n",
      "2500/2500 [==============================] - 196s 78ms/step - loss: 0.0355 - accuracy: 0.9874 - categorical_crossentropy: 0.0355 - val_loss: 0.0978 - val_accuracy: 0.9773 - val_categorical_crossentropy: 0.0978\n",
      "Epoch 32/100\n",
      "2500/2500 [==============================] - ETA: 0s - loss: 0.0343 - accuracy: 0.9879 - categorical_crossentropy: 0.0343\n",
      "Epoch 00032: val_loss did not improve from 0.09191\n",
      "2500/2500 [==============================] - 200s 80ms/step - loss: 0.0343 - accuracy: 0.9879 - categorical_crossentropy: 0.0343 - val_loss: 0.1483 - val_accuracy: 0.9726 - val_categorical_crossentropy: 0.1483\n",
      "Epoch 33/100\n",
      "2500/2500 [==============================] - ETA: 0s - loss: 0.0349 - accuracy: 0.9876 - categorical_crossentropy: 0.0349\n",
      "Epoch 00033: val_loss did not improve from 0.09191\n",
      "2500/2500 [==============================] - 198s 79ms/step - loss: 0.0349 - accuracy: 0.9876 - categorical_crossentropy: 0.0349 - val_loss: 0.1441 - val_accuracy: 0.9732 - val_categorical_crossentropy: 0.1441\n",
      "Epoch 34/100\n",
      "2500/2500 [==============================] - ETA: 0s - loss: 0.0337 - accuracy: 0.9880 - categorical_crossentropy: 0.0337\n",
      "Epoch 00034: val_loss did not improve from 0.09191\n",
      "2500/2500 [==============================] - 198s 79ms/step - loss: 0.0337 - accuracy: 0.9880 - categorical_crossentropy: 0.0337 - val_loss: 0.1808 - val_accuracy: 0.9678 - val_categorical_crossentropy: 0.1808\n",
      "Epoch 35/100\n",
      "2500/2500 [==============================] - ETA: 0s - loss: 0.0320 - accuracy: 0.9888 - categorical_crossentropy: 0.0320\n",
      "Epoch 00035: val_loss did not improve from 0.09191\n",
      "2500/2500 [==============================] - 198s 79ms/step - loss: 0.0320 - accuracy: 0.9888 - categorical_crossentropy: 0.0320 - val_loss: 0.1322 - val_accuracy: 0.9746 - val_categorical_crossentropy: 0.1322\n",
      "Epoch 36/100\n",
      "2500/2500 [==============================] - ETA: 0s - loss: 0.0326 - accuracy: 0.9886 - categorical_crossentropy: 0.0326\n",
      "Epoch 00036: val_loss did not improve from 0.09191\n",
      "2500/2500 [==============================] - 198s 79ms/step - loss: 0.0326 - accuracy: 0.9886 - categorical_crossentropy: 0.0326 - val_loss: 0.1244 - val_accuracy: 0.9736 - val_categorical_crossentropy: 0.1244\n",
      "Epoch 37/100\n",
      "2500/2500 [==============================] - ETA: 0s - loss: 0.0320 - accuracy: 0.9889 - categorical_crossentropy: 0.0320\n",
      "Epoch 00037: val_loss did not improve from 0.09191\n",
      "2500/2500 [==============================] - 199s 80ms/step - loss: 0.0320 - accuracy: 0.9889 - categorical_crossentropy: 0.0320 - val_loss: 0.1199 - val_accuracy: 0.9729 - val_categorical_crossentropy: 0.1199\n",
      "Epoch 38/100\n",
      "2500/2500 [==============================] - ETA: 0s - loss: 0.0325 - accuracy: 0.9887 - categorical_crossentropy: 0.0325\n",
      "Epoch 00038: val_loss did not improve from 0.09191\n",
      "2500/2500 [==============================] - 199s 79ms/step - loss: 0.0325 - accuracy: 0.9887 - categorical_crossentropy: 0.0325 - val_loss: 0.1174 - val_accuracy: 0.9757 - val_categorical_crossentropy: 0.1174\n",
      "Epoch 39/100\n",
      "2499/2500 [============================>.] - ETA: 0s - loss: 0.0323 - accuracy: 0.9889 - categorical_crossentropy: 0.0323\n",
      "Epoch 00039: val_loss did not improve from 0.09191\n",
      "2500/2500 [==============================] - 200s 80ms/step - loss: 0.0323 - accuracy: 0.9889 - categorical_crossentropy: 0.0323 - val_loss: 0.0935 - val_accuracy: 0.9790 - val_categorical_crossentropy: 0.0935\n",
      "Epoch 40/100\n",
      "2499/2500 [============================>.] - ETA: 0s - loss: 0.0322 - accuracy: 0.9883 - categorical_crossentropy: 0.0322\n",
      "Epoch 00040: val_loss did not improve from 0.09191\n",
      "2500/2500 [==============================] - 200s 80ms/step - loss: 0.0321 - accuracy: 0.9883 - categorical_crossentropy: 0.0321 - val_loss: 0.1297 - val_accuracy: 0.9758 - val_categorical_crossentropy: 0.1297\n"
     ]
    },
    {
     "name": "stdout",
     "output_type": "stream",
     "text": [
      "Epoch 00040: early stopping\n"
     ]
    }
   ],
   "source": [
    "# Train model\n",
    "es = EarlyStopping(monitor='val_loss', mode='min', verbose = 1, patience = 20)\n",
    "mc = ModelCheckpoint(model_path, monitor='val_loss', mode='min', verbose=1, save_best_only=True)\n",
    "\n",
    "epochs = 100\n",
    "\n",
    "history = model.fit(datagen_flow_train,\n",
    "                            epochs = epochs,\n",
    "                            steps_per_epoch = len(datagen_flow_train),\n",
    "                            validation_data = datagen_flow_val,\n",
    "                            validation_steps = len(datagen_flow_val),\n",
    "                            callbacks=[es, mc]\n",
    "                           )"
   ]
  },
  {
   "cell_type": "code",
   "execution_count": 11,
   "metadata": {},
   "outputs": [
    {
     "data": {
      "image/png": "[encoded data removed]",
      "text/plain": [
       "<Figure size 432x288 with 1 Axes>"
      ]
     },
     "metadata": {
      "needs_background": "light"
     },
     "output_type": "display_data"
    }
   ],
   "source": [
    "plt.plot(history.history['loss'])\n",
    "plt.plot(history.history['val_loss'])\n",
    "plt.title('Model loss')\n",
    "plt.ylabel('Loss')\n",
    "plt.xlabel('Epoch')\n",
    "plt.legend(['Train', 'Validation'], loc='upper left')\n",
    "plt.show()"
   ]
  },
  {
   "cell_type": "code",
   "execution_count": 12,
   "metadata": {},
   "outputs": [
    {
     "data": {
      "image/png": "[encoded data removed]",
      "text/plain": [
       "<Figure size 432x288 with 1 Axes>"
      ]
     },
     "metadata": {
      "needs_background": "light"
     },
     "output_type": "display_data"
    }
   ],
   "source": [
    "plt.plot(history.history['accuracy'])\n",
    "plt.plot(history.history['val_accuracy'])\n",
    "plt.title('Model accuracy')\n",
    "plt.ylabel('Accuracy')\n",
    "plt.xlabel('Epoch')\n",
    "plt.legend(['Train', 'Validation'], loc='upper left')\n",
    "plt.show()"
   ]
  },
  {
   "cell_type": "markdown",
   "metadata": {},
   "source": [
    "#### VGG19 Model Fine-tuning"
   ]
  },
  {
   "cell_type": "code",
   "execution_count": 13,
   "metadata": {},
   "outputs": [
    {
     "name": "stdout",
     "output_type": "stream",
     "text": [
      "Model: \"model\"\n",
      "_________________________________________________________________\n",
      "Layer (type)                 Output Shape              Param #   \n",
      "=================================================================\n",
      "input_2 (InputLayer)         [(None, 128, 128, 3)]     0         \n",
      "_________________________________________________________________\n",
      "vgg19 (Model)                (None, 4, 4, 512)         20024384  \n",
      "_________________________________________________________________\n",
      "global_average_pooling2d (Gl (None, 512)               0         \n",
      "_________________________________________________________________\n",
      "dense (Dense)                (None, 1024)              525312    \n",
      "_________________________________________________________________\n",
      "dropout (Dropout)            (None, 1024)              0         \n",
      "_________________________________________________________________\n",
      "dense_1 (Dense)              (None, 5)                 5125      \n",
      "=================================================================\n",
      "Total params: 20,554,821\n",
      "Trainable params: 20,554,821\n",
      "Non-trainable params: 0\n",
      "_________________________________________________________________\n"
     ]
    }
   ],
   "source": [
    "base_model.trainable = True\n",
    "model.summary()"
   ]
  },
  {
   "cell_type": "code",
   "execution_count": 14,
   "metadata": {},
   "outputs": [],
   "source": [
    "# Compile model: define loss, optimizer\n",
    "model.compile(optimizer=tf.keras.optimizers.Adam(learning_rate=1e-06, epsilon = 1e-07),\n",
    "              loss='categorical_crossentropy', \n",
    "              metrics=['accuracy', 'categorical_crossentropy'])"
   ]
  },
  {
   "cell_type": "code",
   "execution_count": 15,
   "metadata": {},
   "outputs": [
    {
     "name": "stdout",
     "output_type": "stream",
     "text": [
      "Epoch 1/100\n",
      "2500/2500 [==============================] - ETA: 0s - loss: 0.0212 - accuracy: 0.9927 - categorical_crossentropy: 0.0212\n",
      "Epoch 00001: val_loss improved from inf to 0.05800, saving model to /home/renat_sergazinov/python-git-workspace/PhotoForceReconML/models/vgg19_num_forces.h5\n",
      "2500/2500 [==============================] - 278s 111ms/step - loss: 0.0212 - accuracy: 0.9927 - categorical_crossentropy: 0.0212 - val_loss: 0.0580 - val_accuracy: 0.9888 - val_categorical_crossentropy: 0.0580\n",
      "Epoch 2/100\n",
      "2500/2500 [==============================] - ETA: 0s - loss: 0.0085 - accuracy: 0.9971 - categorical_crossentropy: 0.0085\n",
      "Epoch 00002: val_loss did not improve from 0.05800\n",
      "2500/2500 [==============================] - 277s 111ms/step - loss: 0.0085 - accuracy: 0.9971 - categorical_crossentropy: 0.0085 - val_loss: 0.0652 - val_accuracy: 0.9887 - val_categorical_crossentropy: 0.0652\n",
      "Epoch 3/100\n",
      "2500/2500 [==============================] - ETA: 0s - loss: 0.0064 - accuracy: 0.9977 - categorical_crossentropy: 0.0064\n",
      "Epoch 00003: val_loss improved from 0.05800 to 0.02398, saving model to /home/renat_sergazinov/python-git-workspace/PhotoForceReconML/models/vgg19_num_forces.h5\n",
      "2500/2500 [==============================] - 277s 111ms/step - loss: 0.0064 - accuracy: 0.9977 - categorical_crossentropy: 0.0064 - val_loss: 0.0240 - val_accuracy: 0.9936 - val_categorical_crossentropy: 0.0240\n",
      "Epoch 4/100\n",
      "2500/2500 [==============================] - ETA: 0s - loss: 0.0047 - accuracy: 0.9985 - categorical_crossentropy: 0.0047\n",
      "Epoch 00004: val_loss did not improve from 0.02398\n",
      "2500/2500 [==============================] - 278s 111ms/step - loss: 0.0047 - accuracy: 0.9985 - categorical_crossentropy: 0.0047 - val_loss: 0.0538 - val_accuracy: 0.9889 - val_categorical_crossentropy: 0.0538\n",
      "Epoch 5/100\n",
      "2500/2500 [==============================] - ETA: 0s - loss: 0.0029 - accuracy: 0.9989 - categorical_crossentropy: 0.0029\n",
      "Epoch 00005: val_loss did not improve from 0.02398\n",
      "2500/2500 [==============================] - 277s 111ms/step - loss: 0.0029 - accuracy: 0.9989 - categorical_crossentropy: 0.0029 - val_loss: 0.0337 - val_accuracy: 0.9924 - val_categorical_crossentropy: 0.0337\n",
      "Epoch 6/100\n",
      "2500/2500 [==============================] - ETA: 0s - loss: 0.0032 - accuracy: 0.9990 - categorical_crossentropy: 0.0032\n",
      "Epoch 00006: val_loss improved from 0.02398 to 0.01122, saving model to /home/renat_sergazinov/python-git-workspace/PhotoForceReconML/models/vgg19_num_forces.h5\n",
      "2500/2500 [==============================] - 278s 111ms/step - loss: 0.0032 - accuracy: 0.9990 - categorical_crossentropy: 0.0032 - val_loss: 0.0112 - val_accuracy: 0.9965 - val_categorical_crossentropy: 0.0112\n",
      "Epoch 7/100\n",
      "2500/2500 [==============================] - ETA: 0s - loss: 0.0023 - accuracy: 0.9992 - categorical_crossentropy: 0.0023\n",
      "Epoch 00007: val_loss improved from 0.01122 to 0.00669, saving model to /home/renat_sergazinov/python-git-workspace/PhotoForceReconML/models/vgg19_num_forces.h5\n",
      "2500/2500 [==============================] - 277s 111ms/step - loss: 0.0023 - accuracy: 0.9992 - categorical_crossentropy: 0.0023 - val_loss: 0.0067 - val_accuracy: 0.9982 - val_categorical_crossentropy: 0.0067\n",
      "Epoch 8/100\n",
      "2500/2500 [==============================] - ETA: 0s - loss: 0.0018 - accuracy: 0.9995 - categorical_crossentropy: 0.0018\n",
      "Epoch 00008: val_loss did not improve from 0.00669\n",
      "2500/2500 [==============================] - 278s 111ms/step - loss: 0.0018 - accuracy: 0.9995 - categorical_crossentropy: 0.0018 - val_loss: 0.0120 - val_accuracy: 0.9965 - val_categorical_crossentropy: 0.0120\n",
      "Epoch 9/100\n",
      "2500/2500 [==============================] - ETA: 0s - loss: 0.0024 - accuracy: 0.9994 - categorical_crossentropy: 0.0024\n",
      "Epoch 00009: val_loss did not improve from 0.00669\n",
      "2500/2500 [==============================] - 278s 111ms/step - loss: 0.0024 - accuracy: 0.9994 - categorical_crossentropy: 0.0024 - val_loss: 0.0112 - val_accuracy: 0.9969 - val_categorical_crossentropy: 0.0112\n",
      "Epoch 10/100\n",
      "2500/2500 [==============================] - ETA: 0s - loss: 0.0013 - accuracy: 0.9996 - categorical_crossentropy: 0.0013\n",
      "Epoch 00010: val_loss improved from 0.00669 to 0.00521, saving model to /home/renat_sergazinov/python-git-workspace/PhotoForceReconML/models/vgg19_num_forces.h5\n",
      "2500/2500 [==============================] - 278s 111ms/step - loss: 0.0013 - accuracy: 0.9996 - categorical_crossentropy: 0.0013 - val_loss: 0.0052 - val_accuracy: 0.9984 - val_categorical_crossentropy: 0.0052\n",
      "Epoch 11/100\n",
      "2500/2500 [==============================] - ETA: 0s - loss: 0.0021 - accuracy: 0.9994 - categorical_crossentropy: 0.0021\n",
      "Epoch 00011: val_loss did not improve from 0.00521\n",
      "2500/2500 [==============================] - 278s 111ms/step - loss: 0.0021 - accuracy: 0.9994 - categorical_crossentropy: 0.0021 - val_loss: 0.0072 - val_accuracy: 0.9977 - val_categorical_crossentropy: 0.0072\n",
      "Epoch 12/100\n",
      "2500/2500 [==============================] - ETA: 0s - loss: 0.0011 - accuracy: 0.9996 - categorical_crossentropy: 0.0011\n",
      "Epoch 00012: val_loss did not improve from 0.00521\n",
      "2500/2500 [==============================] - 277s 111ms/step - loss: 0.0011 - accuracy: 0.9996 - categorical_crossentropy: 0.0011 - val_loss: 0.0053 - val_accuracy: 0.9984 - val_categorical_crossentropy: 0.0053\n",
      "Epoch 13/100\n",
      "2500/2500 [==============================] - ETA: 0s - loss: 4.0797e-04 - accuracy: 0.9999 - categorical_crossentropy: 4.0797e-04\n",
      "Epoch 00013: val_loss did not improve from 0.00521\n",
      "2500/2500 [==============================] - 278s 111ms/step - loss: 4.0797e-04 - accuracy: 0.9999 - categorical_crossentropy: 4.0797e-04 - val_loss: 0.0100 - val_accuracy: 0.9975 - val_categorical_crossentropy: 0.0100\n",
      "Epoch 14/100\n",
      "2500/2500 [==============================] - ETA: 0s - loss: 0.0020 - accuracy: 0.9994 - categorical_crossentropy: 0.0020\n",
      "Epoch 00014: val_loss did not improve from 0.00521\n",
      "2500/2500 [==============================] - 278s 111ms/step - loss: 0.0020 - accuracy: 0.9994 - categorical_crossentropy: 0.0020 - val_loss: 0.0063 - val_accuracy: 0.9981 - val_categorical_crossentropy: 0.0063\n",
      "Epoch 15/100\n",
      "2500/2500 [==============================] - ETA: 0s - loss: 7.3349e-04 - accuracy: 0.9998 - categorical_crossentropy: 7.3349e-04\n",
      "Epoch 00015: val_loss did not improve from 0.00521\n",
      "2500/2500 [==============================] - 277s 111ms/step - loss: 7.3349e-04 - accuracy: 0.9998 - categorical_crossentropy: 7.3349e-04 - val_loss: 0.0077 - val_accuracy: 0.9979 - val_categorical_crossentropy: 0.0077\n",
      "Epoch 16/100\n",
      "2500/2500 [==============================] - ETA: 0s - loss: 0.0015 - accuracy: 0.9996 - categorical_crossentropy: 0.0015\n",
      "Epoch 00016: val_loss improved from 0.00521 to 0.00346, saving model to /home/renat_sergazinov/python-git-workspace/PhotoForceReconML/models/vgg19_num_forces.h5\n",
      "2500/2500 [==============================] - 277s 111ms/step - loss: 0.0015 - accuracy: 0.9996 - categorical_crossentropy: 0.0015 - val_loss: 0.0035 - val_accuracy: 0.9987 - val_categorical_crossentropy: 0.0035\n",
      "Epoch 17/100\n",
      "2500/2500 [==============================] - ETA: 0s - loss: 8.1274e-04 - accuracy: 0.9998 - categorical_crossentropy: 8.1274e-04\n",
      "Epoch 00017: val_loss improved from 0.00346 to 0.00341, saving model to /home/renat_sergazinov/python-git-workspace/PhotoForceReconML/models/vgg19_num_forces.h5\n",
      "2500/2500 [==============================] - 278s 111ms/step - loss: 8.1274e-04 - accuracy: 0.9998 - categorical_crossentropy: 8.1274e-04 - val_loss: 0.0034 - val_accuracy: 0.9990 - val_categorical_crossentropy: 0.0034\n",
      "Epoch 18/100\n",
      "2500/2500 [==============================] - ETA: 0s - loss: 7.3565e-04 - accuracy: 0.9997 - categorical_crossentropy: 7.3565e-04\n",
      "Epoch 00018: val_loss did not improve from 0.00341\n",
      "2500/2500 [==============================] - 279s 111ms/step - loss: 7.3565e-04 - accuracy: 0.9997 - categorical_crossentropy: 7.3565e-04 - val_loss: 0.0042 - val_accuracy: 0.9987 - val_categorical_crossentropy: 0.0042\n",
      "Epoch 19/100\n",
      "2500/2500 [==============================] - ETA: 0s - loss: 0.0011 - accuracy: 0.9996 - categorical_crossentropy: 0.0011\n",
      "Epoch 00019: val_loss improved from 0.00341 to 0.00113, saving model to /home/renat_sergazinov/python-git-workspace/PhotoForceReconML/models/vgg19_num_forces.h5\n"
     ]
    },
    {
     "name": "stdout",
     "output_type": "stream",
     "text": [
      "2500/2500 [==============================] - 277s 111ms/step - loss: 0.0011 - accuracy: 0.9996 - categorical_crossentropy: 0.0011 - val_loss: 0.0011 - val_accuracy: 0.9997 - val_categorical_crossentropy: 0.0011\n",
      "Epoch 20/100\n",
      "2500/2500 [==============================] - ETA: 0s - loss: 7.4398e-04 - accuracy: 0.9997 - categorical_crossentropy: 7.4398e-04\n",
      "Epoch 00020: val_loss improved from 0.00113 to 0.00094, saving model to /home/renat_sergazinov/python-git-workspace/PhotoForceReconML/models/vgg19_num_forces.h5\n",
      "2500/2500 [==============================] - 279s 111ms/step - loss: 7.4398e-04 - accuracy: 0.9997 - categorical_crossentropy: 7.4398e-04 - val_loss: 9.4110e-04 - val_accuracy: 0.9997 - val_categorical_crossentropy: 9.4110e-04\n",
      "Epoch 21/100\n",
      "2500/2500 [==============================] - ETA: 0s - loss: 8.6323e-04 - accuracy: 0.9997 - categorical_crossentropy: 8.6323e-04\n",
      "Epoch 00021: val_loss did not improve from 0.00094\n",
      "2500/2500 [==============================] - 277s 111ms/step - loss: 8.6323e-04 - accuracy: 0.9997 - categorical_crossentropy: 8.6323e-04 - val_loss: 0.0028 - val_accuracy: 0.9990 - val_categorical_crossentropy: 0.0028\n",
      "Epoch 22/100\n",
      "2500/2500 [==============================] - ETA: 0s - loss: 9.3961e-04 - accuracy: 0.9996 - categorical_crossentropy: 9.3961e-04\n",
      "Epoch 00022: val_loss did not improve from 0.00094\n",
      "2500/2500 [==============================] - 278s 111ms/step - loss: 9.3961e-04 - accuracy: 0.9996 - categorical_crossentropy: 9.3961e-04 - val_loss: 0.0016 - val_accuracy: 0.9992 - val_categorical_crossentropy: 0.0016\n",
      "Epoch 23/100\n",
      "2500/2500 [==============================] - ETA: 0s - loss: 3.4709e-04 - accuracy: 0.9998 - categorical_crossentropy: 3.4709e-04\n",
      "Epoch 00023: val_loss did not improve from 0.00094\n",
      "2500/2500 [==============================] - 278s 111ms/step - loss: 3.4709e-04 - accuracy: 0.9998 - categorical_crossentropy: 3.4709e-04 - val_loss: 0.0059 - val_accuracy: 0.9981 - val_categorical_crossentropy: 0.0059\n",
      "Epoch 24/100\n",
      "2500/2500 [==============================] - ETA: 0s - loss: 2.4825e-04 - accuracy: 0.9999 - categorical_crossentropy: 2.4825e-04\n",
      "Epoch 00024: val_loss did not improve from 0.00094\n",
      "2500/2500 [==============================] - 278s 111ms/step - loss: 2.4825e-04 - accuracy: 0.9999 - categorical_crossentropy: 2.4825e-04 - val_loss: 0.0041 - val_accuracy: 0.9988 - val_categorical_crossentropy: 0.0041\n",
      "Epoch 25/100\n",
      "2500/2500 [==============================] - ETA: 0s - loss: 9.3629e-04 - accuracy: 0.9997 - categorical_crossentropy: 9.3629e-04\n",
      "Epoch 00025: val_loss improved from 0.00094 to 0.00058, saving model to /home/renat_sergazinov/python-git-workspace/PhotoForceReconML/models/vgg19_num_forces.h5\n",
      "2500/2500 [==============================] - 278s 111ms/step - loss: 9.3629e-04 - accuracy: 0.9997 - categorical_crossentropy: 9.3629e-04 - val_loss: 5.7912e-04 - val_accuracy: 0.9998 - val_categorical_crossentropy: 5.7912e-04\n",
      "Epoch 26/100\n",
      "2500/2500 [==============================] - ETA: 0s - loss: 6.7390e-04 - accuracy: 0.9998 - categorical_crossentropy: 6.7390e-04\n",
      "Epoch 00026: val_loss did not improve from 0.00058\n",
      "2500/2500 [==============================] - 278s 111ms/step - loss: 6.7390e-04 - accuracy: 0.9998 - categorical_crossentropy: 6.7390e-04 - val_loss: 6.6831e-04 - val_accuracy: 0.9998 - val_categorical_crossentropy: 6.6831e-04\n",
      "Epoch 27/100\n",
      "2500/2500 [==============================] - ETA: 0s - loss: 0.0011 - accuracy: 0.9997 - categorical_crossentropy: 0.0011\n",
      "Epoch 00027: val_loss improved from 0.00058 to 0.00038, saving model to /home/renat_sergazinov/python-git-workspace/PhotoForceReconML/models/vgg19_num_forces.h5\n",
      "2500/2500 [==============================] - 278s 111ms/step - loss: 0.0011 - accuracy: 0.9997 - categorical_crossentropy: 0.0011 - val_loss: 3.7525e-04 - val_accuracy: 0.9998 - val_categorical_crossentropy: 3.7525e-04\n",
      "Epoch 28/100\n",
      "2500/2500 [==============================] - ETA: 0s - loss: 3.5940e-04 - accuracy: 0.9998 - categorical_crossentropy: 3.5940e-04\n",
      "Epoch 00028: val_loss did not improve from 0.00038\n",
      "2500/2500 [==============================] - 277s 111ms/step - loss: 3.5940e-04 - accuracy: 0.9998 - categorical_crossentropy: 3.5940e-04 - val_loss: 0.0012 - val_accuracy: 0.9995 - val_categorical_crossentropy: 0.0012\n",
      "Epoch 29/100\n",
      "2500/2500 [==============================] - ETA: 0s - loss: 3.1273e-04 - accuracy: 0.9999 - categorical_crossentropy: 3.1273e-04\n",
      "Epoch 00029: val_loss improved from 0.00038 to 0.00028, saving model to /home/renat_sergazinov/python-git-workspace/PhotoForceReconML/models/vgg19_num_forces.h5\n",
      "2500/2500 [==============================] - 278s 111ms/step - loss: 3.1273e-04 - accuracy: 0.9999 - categorical_crossentropy: 3.1273e-04 - val_loss: 2.7817e-04 - val_accuracy: 0.9998 - val_categorical_crossentropy: 2.7817e-04\n",
      "Epoch 30/100\n",
      "2500/2500 [==============================] - ETA: 0s - loss: 5.3454e-04 - accuracy: 0.9998 - categorical_crossentropy: 5.3454e-04\n",
      "Epoch 00030: val_loss did not improve from 0.00028\n",
      "2500/2500 [==============================] - 278s 111ms/step - loss: 5.3454e-04 - accuracy: 0.9998 - categorical_crossentropy: 5.3454e-04 - val_loss: 0.0029 - val_accuracy: 0.9991 - val_categorical_crossentropy: 0.0029\n",
      "Epoch 31/100\n",
      "2500/2500 [==============================] - ETA: 0s - loss: 3.4587e-04 - accuracy: 0.9999 - categorical_crossentropy: 3.4587e-04\n",
      "Epoch 00031: val_loss did not improve from 0.00028\n",
      "2500/2500 [==============================] - 277s 111ms/step - loss: 3.4587e-04 - accuracy: 0.9999 - categorical_crossentropy: 3.4587e-04 - val_loss: 9.0925e-04 - val_accuracy: 0.9995 - val_categorical_crossentropy: 9.0925e-04\n",
      "Epoch 32/100\n",
      "2500/2500 [==============================] - ETA: 0s - loss: 1.2704e-04 - accuracy: 1.0000 - categorical_crossentropy: 1.2704e-04\n",
      "Epoch 00032: val_loss did not improve from 0.00028\n",
      "2500/2500 [==============================] - 278s 111ms/step - loss: 1.2704e-04 - accuracy: 1.0000 - categorical_crossentropy: 1.2704e-04 - val_loss: 4.0992e-04 - val_accuracy: 0.9998 - val_categorical_crossentropy: 4.0992e-04\n",
      "Epoch 33/100\n",
      "2500/2500 [==============================] - ETA: 0s - loss: 0.0012 - accuracy: 0.9998 - categorical_crossentropy: 0.0012\n",
      "Epoch 00033: val_loss did not improve from 0.00028\n",
      "2500/2500 [==============================] - 279s 112ms/step - loss: 0.0012 - accuracy: 0.9998 - categorical_crossentropy: 0.0012 - val_loss: 0.0025 - val_accuracy: 0.9991 - val_categorical_crossentropy: 0.0025\n",
      "Epoch 34/100\n",
      "2500/2500 [==============================] - ETA: 0s - loss: 1.7395e-04 - accuracy: 0.9999 - categorical_crossentropy: 1.7395e-04\n",
      "Epoch 00034: val_loss did not improve from 0.00028\n",
      "2500/2500 [==============================] - 277s 111ms/step - loss: 1.7395e-04 - accuracy: 0.9999 - categorical_crossentropy: 1.7395e-04 - val_loss: 0.0120 - val_accuracy: 0.9968 - val_categorical_crossentropy: 0.0120\n",
      "Epoch 35/100\n",
      "2500/2500 [==============================] - ETA: 0s - loss: 8.5707e-04 - accuracy: 0.9998 - categorical_crossentropy: 8.5707e-04\n",
      "Epoch 00035: val_loss improved from 0.00028 to 0.00023, saving model to /home/renat_sergazinov/python-git-workspace/PhotoForceReconML/models/vgg19_num_forces.h5\n",
      "2500/2500 [==============================] - 278s 111ms/step - loss: 8.5707e-04 - accuracy: 0.9998 - categorical_crossentropy: 8.5707e-04 - val_loss: 2.3212e-04 - val_accuracy: 0.9999 - val_categorical_crossentropy: 2.3212e-04\n",
      "Epoch 36/100\n",
      "2500/2500 [==============================] - ETA: 0s - loss: 6.9828e-04 - accuracy: 0.9998 - categorical_crossentropy: 6.9828e-04\n",
      "Epoch 00036: val_loss did not improve from 0.00023\n",
      "2500/2500 [==============================] - 278s 111ms/step - loss: 6.9828e-04 - accuracy: 0.9998 - categorical_crossentropy: 6.9828e-04 - val_loss: 0.0013 - val_accuracy: 0.9995 - val_categorical_crossentropy: 0.0013\n",
      "Epoch 37/100\n",
      "2500/2500 [==============================] - ETA: 0s - loss: 5.9456e-04 - accuracy: 0.9998 - categorical_crossentropy: 5.9456e-04\n",
      "Epoch 00037: val_loss did not improve from 0.00023\n",
      "2500/2500 [==============================] - 278s 111ms/step - loss: 5.9456e-04 - accuracy: 0.9998 - categorical_crossentropy: 5.9456e-04 - val_loss: 0.0014 - val_accuracy: 0.9997 - val_categorical_crossentropy: 0.0014\n"
     ]
    },
    {
     "name": "stdout",
     "output_type": "stream",
     "text": [
      "Epoch 38/100\n",
      "2500/2500 [==============================] - ETA: 0s - loss: 6.3423e-04 - accuracy: 0.9998 - categorical_crossentropy: 6.3423e-04\n",
      "Epoch 00038: val_loss did not improve from 0.00023\n",
      "2500/2500 [==============================] - 278s 111ms/step - loss: 6.3423e-04 - accuracy: 0.9998 - categorical_crossentropy: 6.3423e-04 - val_loss: 8.1221e-04 - val_accuracy: 0.9998 - val_categorical_crossentropy: 8.1221e-04\n",
      "Epoch 39/100\n",
      "2500/2500 [==============================] - ETA: 0s - loss: 4.3977e-04 - accuracy: 0.9998 - categorical_crossentropy: 4.3977e-04\n",
      "Epoch 00039: val_loss improved from 0.00023 to 0.00011, saving model to /home/renat_sergazinov/python-git-workspace/PhotoForceReconML/models/vgg19_num_forces.h5\n",
      "2500/2500 [==============================] - 278s 111ms/step - loss: 4.3977e-04 - accuracy: 0.9998 - categorical_crossentropy: 4.3977e-04 - val_loss: 1.0785e-04 - val_accuracy: 1.0000 - val_categorical_crossentropy: 1.0785e-04\n",
      "Epoch 40/100\n",
      "2500/2500 [==============================] - ETA: 0s - loss: 2.2479e-05 - accuracy: 1.0000 - categorical_crossentropy: 2.2479e-05\n",
      "Epoch 00040: val_loss improved from 0.00011 to 0.00003, saving model to /home/renat_sergazinov/python-git-workspace/PhotoForceReconML/models/vgg19_num_forces.h5\n",
      "2500/2500 [==============================] - 279s 112ms/step - loss: 2.2479e-05 - accuracy: 1.0000 - categorical_crossentropy: 2.2479e-05 - val_loss: 3.0539e-05 - val_accuracy: 1.0000 - val_categorical_crossentropy: 3.0539e-05\n",
      "Epoch 41/100\n",
      "2500/2500 [==============================] - ETA: 0s - loss: 6.6653e-04 - accuracy: 0.9998 - categorical_crossentropy: 6.6653e-04\n",
      "Epoch 00041: val_loss did not improve from 0.00003\n",
      "2500/2500 [==============================] - 278s 111ms/step - loss: 6.6653e-04 - accuracy: 0.9998 - categorical_crossentropy: 6.6653e-04 - val_loss: 4.2733e-04 - val_accuracy: 0.9998 - val_categorical_crossentropy: 4.2733e-04\n",
      "Epoch 42/100\n",
      "2500/2500 [==============================] - ETA: 0s - loss: 4.4312e-04 - accuracy: 0.9999 - categorical_crossentropy: 4.4312e-04\n",
      "Epoch 00042: val_loss did not improve from 0.00003\n",
      "2500/2500 [==============================] - 277s 111ms/step - loss: 4.4312e-04 - accuracy: 0.9999 - categorical_crossentropy: 4.4312e-04 - val_loss: 1.1811e-04 - val_accuracy: 0.9999 - val_categorical_crossentropy: 1.1811e-04\n",
      "Epoch 43/100\n",
      "2500/2500 [==============================] - ETA: 0s - loss: 3.1948e-06 - accuracy: 1.0000 - categorical_crossentropy: 3.1948e-06\n",
      "Epoch 00043: val_loss did not improve from 0.00003\n",
      "2500/2500 [==============================] - 277s 111ms/step - loss: 3.1948e-06 - accuracy: 1.0000 - categorical_crossentropy: 3.1948e-06 - val_loss: 5.4424e-05 - val_accuracy: 1.0000 - val_categorical_crossentropy: 5.4424e-05\n",
      "Epoch 44/100\n",
      "2500/2500 [==============================] - ETA: 0s - loss: 4.1383e-04 - accuracy: 0.9998 - categorical_crossentropy: 4.1383e-04\n",
      "Epoch 00044: val_loss did not improve from 0.00003\n",
      "2500/2500 [==============================] - 278s 111ms/step - loss: 4.1383e-04 - accuracy: 0.9998 - categorical_crossentropy: 4.1383e-04 - val_loss: 3.3774e-04 - val_accuracy: 0.9998 - val_categorical_crossentropy: 3.3774e-04\n",
      "Epoch 45/100\n",
      "2500/2500 [==============================] - ETA: 0s - loss: 4.6073e-04 - accuracy: 0.9999 - categorical_crossentropy: 4.6073e-04\n",
      "Epoch 00045: val_loss improved from 0.00003 to 0.00002, saving model to /home/renat_sergazinov/python-git-workspace/PhotoForceReconML/models/vgg19_num_forces.h5\n",
      "2500/2500 [==============================] - 278s 111ms/step - loss: 4.6073e-04 - accuracy: 0.9999 - categorical_crossentropy: 4.6073e-04 - val_loss: 1.7902e-05 - val_accuracy: 1.0000 - val_categorical_crossentropy: 1.7902e-05\n",
      "Epoch 46/100\n",
      "2500/2500 [==============================] - ETA: 0s - loss: 4.7509e-04 - accuracy: 0.9999 - categorical_crossentropy: 4.7509e-04\n",
      "Epoch 00046: val_loss did not improve from 0.00002\n",
      "2500/2500 [==============================] - 278s 111ms/step - loss: 4.7509e-04 - accuracy: 0.9999 - categorical_crossentropy: 4.7509e-04 - val_loss: 1.0726e-04 - val_accuracy: 0.9999 - val_categorical_crossentropy: 1.0726e-04\n",
      "Epoch 47/100\n",
      "2500/2500 [==============================] - ETA: 0s - loss: 6.0624e-04 - accuracy: 0.9999 - categorical_crossentropy: 6.0624e-04\n",
      "Epoch 00047: val_loss did not improve from 0.00002\n",
      "2500/2500 [==============================] - 278s 111ms/step - loss: 6.0624e-04 - accuracy: 0.9999 - categorical_crossentropy: 6.0624e-04 - val_loss: 0.0027 - val_accuracy: 0.9991 - val_categorical_crossentropy: 0.0027\n",
      "Epoch 48/100\n",
      "2500/2500 [==============================] - ETA: 0s - loss: 3.7061e-04 - accuracy: 0.9998 - categorical_crossentropy: 3.7061e-04\n",
      "Epoch 00048: val_loss did not improve from 0.00002\n",
      "2500/2500 [==============================] - 277s 111ms/step - loss: 3.7061e-04 - accuracy: 0.9998 - categorical_crossentropy: 3.7061e-04 - val_loss: 0.0118 - val_accuracy: 0.9973 - val_categorical_crossentropy: 0.0118\n",
      "Epoch 49/100\n",
      "2500/2500 [==============================] - ETA: 0s - loss: 6.3554e-05 - accuracy: 1.0000 - categorical_crossentropy: 6.3554e-05\n",
      "Epoch 00049: val_loss did not improve from 0.00002\n",
      "2500/2500 [==============================] - 277s 111ms/step - loss: 6.3554e-05 - accuracy: 1.0000 - categorical_crossentropy: 6.3554e-05 - val_loss: 2.0856e-04 - val_accuracy: 0.9998 - val_categorical_crossentropy: 2.0856e-04\n",
      "Epoch 50/100\n",
      "2500/2500 [==============================] - ETA: 0s - loss: 4.0246e-04 - accuracy: 0.9999 - categorical_crossentropy: 4.0246e-04\n",
      "Epoch 00050: val_loss did not improve from 0.00002\n",
      "2500/2500 [==============================] - 277s 111ms/step - loss: 4.0246e-04 - accuracy: 0.9999 - categorical_crossentropy: 4.0246e-04 - val_loss: 1.4425e-04 - val_accuracy: 0.9999 - val_categorical_crossentropy: 1.4425e-04\n",
      "Epoch 51/100\n",
      "2500/2500 [==============================] - ETA: 0s - loss: 3.5790e-06 - accuracy: 1.0000 - categorical_crossentropy: 3.5790e-06\n",
      "Epoch 00051: val_loss did not improve from 0.00002\n",
      "2500/2500 [==============================] - 277s 111ms/step - loss: 3.5790e-06 - accuracy: 1.0000 - categorical_crossentropy: 3.5790e-06 - val_loss: 2.4032e-05 - val_accuracy: 1.0000 - val_categorical_crossentropy: 2.4032e-05\n",
      "Epoch 52/100\n",
      "2500/2500 [==============================] - ETA: 0s - loss: 6.5231e-04 - accuracy: 0.9998 - categorical_crossentropy: 6.5231e-04\n",
      "Epoch 00052: val_loss did not improve from 0.00002\n",
      "2500/2500 [==============================] - 278s 111ms/step - loss: 6.5231e-04 - accuracy: 0.9998 - categorical_crossentropy: 6.5231e-04 - val_loss: 0.0043 - val_accuracy: 0.9989 - val_categorical_crossentropy: 0.0043\n",
      "Epoch 53/100\n",
      "2500/2500 [==============================] - ETA: 0s - loss: 4.1401e-05 - accuracy: 1.0000 - categorical_crossentropy: 4.1401e-05\n",
      "Epoch 00053: val_loss did not improve from 0.00002\n",
      "2500/2500 [==============================] - 277s 111ms/step - loss: 4.1401e-05 - accuracy: 1.0000 - categorical_crossentropy: 4.1401e-05 - val_loss: 6.4074e-04 - val_accuracy: 0.9997 - val_categorical_crossentropy: 6.4074e-04\n",
      "Epoch 54/100\n",
      "2500/2500 [==============================] - ETA: 0s - loss: 6.3837e-06 - accuracy: 1.0000 - categorical_crossentropy: 6.3837e-06\n",
      "Epoch 00054: val_loss did not improve from 0.00002\n",
      "2500/2500 [==============================] - 277s 111ms/step - loss: 6.3837e-06 - accuracy: 1.0000 - categorical_crossentropy: 6.3837e-06 - val_loss: 0.0012 - val_accuracy: 0.9996 - val_categorical_crossentropy: 0.0012\n",
      "Epoch 55/100\n",
      "2500/2500 [==============================] - ETA: 0s - loss: 5.6402e-04 - accuracy: 0.9999 - categorical_crossentropy: 5.6402e-04\n",
      "Epoch 00055: val_loss did not improve from 0.00002\n",
      "2500/2500 [==============================] - 277s 111ms/step - loss: 5.6402e-04 - accuracy: 0.9999 - categorical_crossentropy: 5.6402e-04 - val_loss: 2.0100e-04 - val_accuracy: 0.9998 - val_categorical_crossentropy: 2.0100e-04\n",
      "Epoch 00055: early stopping\n"
     ]
    }
   ],
   "source": [
    "# Train model\n",
    "es = EarlyStopping(monitor='val_loss', mode='min', verbose=1, patience=10)\n",
    "mc = ModelCheckpoint(model_path, monitor='val_loss', mode='min', verbose=1, save_best_only=True)\n",
    "\n",
    "epochs = 100\n",
    "\n",
    "history_tune = model.fit(datagen_flow_train,\n",
    "                            epochs = epochs,\n",
    "                            steps_per_epoch = len(datagen_flow_train),\n",
    "                            validation_data = datagen_flow_val,\n",
    "                            validation_steps = len(datagen_flow_val),\n",
    "                            callbacks=[es, mc]\n",
    "                           )"
   ]
  },
  {
   "cell_type": "code",
   "execution_count": 16,
   "metadata": {},
   "outputs": [
    {
     "data": {
      "image/png": "[encoded data removed]",
      "text/plain": [
       "<Figure size 432x288 with 1 Axes>"
      ]
     },
     "metadata": {
      "needs_background": "light"
     },
     "output_type": "display_data"
    }
   ],
   "source": [
    "plt.plot(history_tune.history['loss'])\n",
    "plt.plot(history_tune.history['val_loss'])\n",
    "plt.title('Model loss')\n",
    "plt.ylabel('Loss')\n",
    "plt.xlabel('Epoch')\n",
    "plt.legend(['Train', 'Validation'], loc='upper left')\n",
    "plt.show()"
   ]
  },
  {
   "cell_type": "code",
   "execution_count": 17,
   "metadata": {},
   "outputs": [
    {
     "data": {
      "image/png": "[encoded data removed]",
      "text/plain": [
       "<Figure size 432x288 with 1 Axes>"
      ]
     },
     "metadata": {
      "needs_background": "light"
     },
     "output_type": "display_data"
    }
   ],
   "source": [
    "plt.plot(history_tune.history['accuracy'])\n",
    "plt.plot(history_tune.history['val_accuracy'])\n",
    "plt.title('Model accuracy')\n",
    "plt.ylabel('Accuracy')\n",
    "plt.xlabel('Epoch')\n",
    "plt.legend(['Train', 'Validation'], loc='upper left')\n",
    "plt.show()"
   ]
  },
  {
   "cell_type": "code",
   "execution_count": null,
   "metadata": {},
   "outputs": [],
   "source": []
  }
 ],
 "metadata": {
  "kernelspec": {
   "display_name": "Python 3",
   "language": "python",
   "name": "python3"
  },
  "language_info": {
   "codemirror_mode": {
    "name": "ipython",
    "version": 3
   },
   "file_extension": ".py",
   "mimetype": "text/x-python",
   "name": "python",
   "nbconvert_exporter": "python",
   "pygments_lexer": "ipython3",
   "version": "3.8.5"
  }
 },
 "nbformat": 4,
 "nbformat_minor": 4
}
