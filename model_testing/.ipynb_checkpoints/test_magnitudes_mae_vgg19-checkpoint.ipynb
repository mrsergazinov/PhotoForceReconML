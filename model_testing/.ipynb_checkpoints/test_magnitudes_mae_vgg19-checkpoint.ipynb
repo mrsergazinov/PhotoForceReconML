{
 "cells": [
  {
   "cell_type": "markdown",
   "metadata": {},
   "source": [
    "#### Loading libraries"
   ]
  },
  {
   "cell_type": "code",
   "execution_count": 1,
   "metadata": {},
   "outputs": [],
   "source": [
    "# Load tensorflow\n",
    "import tensorflow as tf\n",
    "# Below command is to avoid the known bug which prevents computation on some GPU devices\n",
    "physical_devices = tf.config.experimental.list_physical_devices('GPU')\n",
    "assert len(physical_devices) > 0, \"Not enough GPU hardware devices available\"\n",
    "tf.config.experimental.set_memory_growth(physical_devices[0], True)\n",
    "# Load preprocessing tools\n",
    "from tensorflow.keras.utils import to_categorical\n",
    "# Load model building blocks\n",
    "from tensorflow.keras import Input\n",
    "from tensorflow.keras.models import Model, load_model\n",
    "from tensorflow.keras.layers import Dense, Flatten, Dropout, GlobalAveragePooling2D\n",
    "from tensorflow.keras.callbacks import EarlyStopping\n",
    "from tensorflow.keras.callbacks import ModelCheckpoint\n",
    "# Load pre-trained model library\n",
    "from tensorflow.keras import applications\n",
    "# Load miscelaneous libraries\n",
    "import numpy as np\n",
    "import pandas as pd\n",
    "import seaborn as sns\n",
    "import os\n",
    "import matplotlib.pylab as plt\n",
    "import gc"
   ]
  },
  {
   "cell_type": "markdown",
   "metadata": {},
   "source": [
    "#### Define paths"
   ]
  },
  {
   "cell_type": "code",
   "execution_count": 2,
   "metadata": {},
   "outputs": [],
   "source": [
    "image_path = os.path.join('/home', 'renat_sergazinov', \n",
    "                          'python-git-workspace', 'PhotoForceReconML', 'image_data', 'test')\n",
    "labels_path = os.path.join('/home', 'renat_sergazinov', \n",
    "                          'python-git-workspace', 'PhotoForceReconML', 'labels', 'test')\n",
    "models_path = os.path.join('/home', 'renat_sergazinov', \n",
    "                          'python-git-workspace', 'PhotoForceReconML', 'models')\n",
    "plots_path = os.path.join('/home', 'renat_sergazinov', \n",
    "                          'python-git-workspace', 'PhotoForceReconML', 'model_testing', 'plots')"
   ]
  },
  {
   "cell_type": "markdown",
   "metadata": {},
   "source": [
    "#### Define image processor and data generator"
   ]
  },
  {
   "cell_type": "code",
   "execution_count": 3,
   "metadata": {},
   "outputs": [],
   "source": [
    "%run '/home/renat_sergazinov/python-git-workspace/PhotoForceReconML/data_loader.py'"
   ]
  },
  {
   "cell_type": "markdown",
   "metadata": {},
   "source": [
    "#### Load the data"
   ]
  },
  {
   "cell_type": "code",
   "execution_count": 4,
   "metadata": {},
   "outputs": [],
   "source": [
    "#--- Load images ---#\n",
    "# Extract individual image paths\n",
    "img_paths = {}\n",
    "for k in range(2, 7):\n",
    "    path_prefix = os.path.join(image_path, str(k))\n",
    "    img_paths[k] = [os.path.join(path_prefix, name) for name in sorted(os.listdir(path_prefix), key = sorter)]\n",
    "# Create data generators\n",
    "gaussblur = GaussBlur(1)\n",
    "params = {'dim': (128, 128), 'n_channels': 3, 'rescale': 1 / 255, \n",
    "          'preprocessing_func': gaussblur.blur}\n",
    "# Load images (for all number of forces) as matrix\n",
    "X = dict()\n",
    "for k in range(2, 7): \n",
    "    test_generator = DataGenerator(img_paths[k], **params)   \n",
    "    X[k] = test_generator.generate()"
   ]
  },
  {
   "cell_type": "code",
   "execution_count": 5,
   "metadata": {},
   "outputs": [],
   "source": [
    "#--- Load magnitude labels ---#\n",
    "y_lm = dict()\n",
    "for k in range(2, 7): y_lm[k] = np.load(os.path.join(labels_path, str(k), 'mags.npy'))"
   ]
  },
  {
   "cell_type": "markdown",
   "metadata": {},
   "source": [
    "#### Load and test models"
   ]
  },
  {
   "cell_type": "code",
   "execution_count": 6,
   "metadata": {},
   "outputs": [],
   "source": [
    "#--- Load models ---#\n",
    "models_m = dict()                         \n",
    "for k in range(2, 7): models_m[k] = load_model(os.path.join(models_path, 'vgg19_mags_'+str(k)+'.h5'))"
   ]
  },
  {
   "cell_type": "code",
   "execution_count": 7,
   "metadata": {},
   "outputs": [
    {
     "name": "stdout",
     "output_type": "stream",
     "text": [
      "Num forces:  2\n",
      "125/125 [==============================] - 4s 32ms/step - loss: 0.0139 - mean_absolute_error: 0.0139\n",
      "Num forces:  3\n",
      "125/125 [==============================] - 4s 32ms/step - loss: 0.0291 - mean_absolute_error: 0.0291\n",
      "Num forces:  4\n",
      "125/125 [==============================] - 4s 32ms/step - loss: 0.0302 - mean_absolute_error: 0.0302\n",
      "Num forces:  5\n",
      "125/125 [==============================] - 4s 32ms/step - loss: 0.0345 - mean_absolute_error: 0.0345\n",
      "Num forces:  6\n",
      "125/125 [==============================] - 4s 32ms/step - loss: 0.0379 - mean_absolute_error: 0.0379\n"
     ]
    }
   ],
   "source": [
    "for i in range(2, 7):\n",
    "    print(\"Num forces: \", i)\n",
    "    loss = models_m[i].evaluate(X[i], y_lm[i])"
   ]
  },
  {
   "cell_type": "code",
   "execution_count": null,
   "metadata": {},
   "outputs": [],
   "source": []
  }
 ],
 "metadata": {
  "kernelspec": {
   "display_name": "Python 3",
   "language": "python",
   "name": "python3"
  },
  "language_info": {
   "codemirror_mode": {
    "name": "ipython",
    "version": 3
   },
   "file_extension": ".py",
   "mimetype": "text/x-python",
   "name": "python",
   "nbconvert_exporter": "python",
   "pygments_lexer": "ipython3",
   "version": "3.8.5"
  }
 },
 "nbformat": 4,
 "nbformat_minor": 2
}
