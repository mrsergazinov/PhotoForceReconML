{
 "cells": [
  {
   "cell_type": "markdown",
   "metadata": {},
   "source": [
    "#### Loading libraries"
   ]
  },
  {
   "cell_type": "code",
   "execution_count": 1,
   "metadata": {},
   "outputs": [],
   "source": [
    "import numpy as np\n",
    "import pandas as pd\n",
    "import seaborn as sns\n",
    "import os\n",
    "import matplotlib.pylab as plt"
   ]
  },
  {
   "cell_type": "markdown",
   "metadata": {},
   "source": [
    "#### Load data: position and tangent angles and magnitudes predictions"
   ]
  },
  {
   "cell_type": "code",
   "execution_count": 13,
   "metadata": {},
   "outputs": [],
   "source": [
    "ai_vgg19, ai_inception, ai_xception = dict(), dict(), dict()\n",
    "for i in range(2, 7):\n",
    "    ai_vgg19[i] = np.load(os.path.join(os.getcwd(), 'predictions', 'angles_inner_vgg19_'+str(i)+'.npy'))\n",
    "    ai_inception[i] = np.load(os.path.join(os.getcwd(), 'predictions', \n",
    "                                        'angles_inner_InceptionResNetV2_'+str(i)+'.npy'))\n",
    "    ai_xception[i] = np.load(os.path.join(os.getcwd(), 'predictions', 'angles_inner_xception_'+str(i)+'.npy'))\n",
    "at_vgg19, at_inception, at_xception = dict(), dict(), dict()\n",
    "for i in range(2, 7):\n",
    "    at_vgg19[i] = np.load(os.path.join(os.getcwd(), 'predictions', 'angles_tang_vgg19_'+str(i)+'.npy'))\n",
    "    at_inception[i] = np.load(os.path.join(os.getcwd(), 'predictions', \n",
    "                                        'angles_tang_InceptionResNetV2_'+str(i)+'.npy'))\n",
    "    at_xception[i] = np.load(os.path.join(os.getcwd(), 'predictions', 'angles_tang_xception_'+str(i)+'.npy'))\n",
    "m_vgg19, m_inception, m_xception = dict(), dict(), dict()\n",
    "for i in range(2, 7):\n",
    "    m_vgg19[i] = np.load(os.path.join(os.getcwd(), 'predictions', 'magnitudes_vgg19_'+str(i)+'.npy'))\n",
    "    m_inception[i] = np.load(os.path.join(os.getcwd(), 'predictions', \n",
    "                                        'magnitudes_inception_'+str(i)+'.npy'))\n",
    "    m_xception[i] = np.load(os.path.join(os.getcwd(), 'predictions', 'magnitudes_xception_'+str(i)+'.npy'))"
   ]
  },
  {
   "cell_type": "markdown",
   "metadata": {},
   "source": [
    "#### Calculate resultant force magnitude"
   ]
  },
  {
   "cell_type": "code",
   "execution_count": 40,
   "metadata": {},
   "outputs": [],
   "source": [
    "# Best model ensemble\n",
    "\n",
    "x = np.cos(ai_vgg19[2] + np.pi + at_xception[2]) * m_inception[2]\n",
    "y = np.sin(ai_vgg19[2] + np.pi + at_xception[2]) * m_inception[2]"
   ]
  },
  {
   "cell_type": "code",
   "execution_count": 41,
   "metadata": {},
   "outputs": [],
   "source": [
    "mags = np.sqrt(np.sum(x, axis = 1) ** 2 + np.sum(y, axis = 1) ** 2) /2"
   ]
  },
  {
   "cell_type": "code",
   "execution_count": 42,
   "metadata": {},
   "outputs": [
    {
     "data": {
      "image/png": "[encoded data removed]",
      "text/plain": [
       "<Figure size 432x288 with 1 Axes>"
      ]
     },
     "metadata": {
      "needs_background": "light"
     },
     "output_type": "display_data"
    }
   ],
   "source": [
    "n, bins, patches = plt.hist(mags, 50, density=True, facecolor='g', alpha=0.75)\n",
    "plt.xlabel('Sample')\n",
    "plt.ylabel('Probability')\n",
    "plt.title('Histogram')\n",
    "plt.grid(True)\n",
    "plt.show()"
   ]
  },
  {
   "cell_type": "code",
   "execution_count": 33,
   "metadata": {},
   "outputs": [],
   "source": [
    "ai = np.load('/home/renat_sergazinov/python-git-workspace/PhotoForceReconML/labels/test/2/angles_inner.npy')\n",
    "at = np.load('/home/renat_sergazinov/python-git-workspace/PhotoForceReconML/labels/test/2/angles_tang.npy')\n",
    "m = np.load('/home/renat_sergazinov/python-git-workspace/PhotoForceReconML/labels/test/2/mags.npy')"
   ]
  },
  {
   "cell_type": "code",
   "execution_count": 44,
   "metadata": {},
   "outputs": [],
   "source": [
    "x = np.cos(ai + np.pi + at) * m / 2\n",
    "y = np.sin(ai + np.pi + at) * m / 2"
   ]
  },
  {
   "cell_type": "code",
   "execution_count": 45,
   "metadata": {},
   "outputs": [],
   "source": [
    "mags = np.sqrt(np.sum(x, axis = 1) ** 2 + np.sum(y, axis = 1) ** 2)"
   ]
  },
  {
   "cell_type": "code",
   "execution_count": 46,
   "metadata": {},
   "outputs": [
    {
     "data": {
      "image/png": "[encoded data removed]",
      "text/plain": [
       "<Figure size 432x288 with 1 Axes>"
      ]
     },
     "metadata": {
      "needs_background": "light"
     },
     "output_type": "display_data"
    }
   ],
   "source": [
    "n, bins, patches = plt.hist(mags, 50, density=True, facecolor='g', alpha=0.75)\n",
    "plt.xlabel('Sample')\n",
    "plt.ylabel('Probability')\n",
    "plt.title('Histogram')\n",
    "plt.grid(True)\n",
    "plt.show()"
   ]
  },
  {
   "cell_type": "code",
   "execution_count": null,
   "metadata": {},
   "outputs": [],
   "source": []
  }
 ],
 "metadata": {
  "kernelspec": {
   "display_name": "Python 3",
   "language": "python",
   "name": "python3"
  },
  "language_info": {
   "codemirror_mode": {
    "name": "ipython",
    "version": 3
   },
   "file_extension": ".py",
   "mimetype": "text/x-python",
   "name": "python",
   "nbconvert_exporter": "python",
   "pygments_lexer": "ipython3",
   "version": "3.8.5"
  }
 },
 "nbformat": 4,
 "nbformat_minor": 4
}
