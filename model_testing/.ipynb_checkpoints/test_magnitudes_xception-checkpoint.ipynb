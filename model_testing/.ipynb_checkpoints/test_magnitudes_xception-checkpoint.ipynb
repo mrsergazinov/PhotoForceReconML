{
 "cells": [
  {
   "cell_type": "markdown",
   "metadata": {},
   "source": [
    "#### Loading libraries"
   ]
  },
  {
   "cell_type": "code",
   "execution_count": 1,
   "metadata": {},
   "outputs": [],
   "source": [
    "# Load tensorflow\n",
    "import tensorflow as tf\n",
    "# Below command is to avoid the known bug which prevents computation on some GPU devices\n",
    "physical_devices = tf.config.experimental.list_physical_devices('GPU')\n",
    "assert len(physical_devices) > 0, \"Not enough GPU hardware devices available\"\n",
    "tf.config.experimental.set_memory_growth(physical_devices[0], True)\n",
    "# Load preprocessing tools\n",
    "from scipy.ndimage.filters import gaussian_filter\n",
    "from tensorflow.keras.utils import to_categorical\n",
    "from PIL import Image\n",
    "# Load model building blocks\n",
    "from tensorflow.keras import Input\n",
    "from tensorflow.keras.models import Model, load_model\n",
    "from tensorflow.keras.layers import Dense, Flatten, Dropout, GlobalAveragePooling2D\n",
    "from tensorflow.keras.callbacks import EarlyStopping\n",
    "from tensorflow.keras.callbacks import ModelCheckpoint\n",
    "# Load pre-trained model library\n",
    "from tensorflow.keras import applications\n",
    "# Load miscelaneous libraries\n",
    "import numpy as np\n",
    "import pandas as pd\n",
    "import seaborn as sns\n",
    "import os\n",
    "import matplotlib.pylab as plt\n",
    "import gc"
   ]
  },
  {
   "cell_type": "markdown",
   "metadata": {},
   "source": [
    "#### Define paths"
   ]
  },
  {
   "cell_type": "code",
   "execution_count": 2,
   "metadata": {},
   "outputs": [],
   "source": [
    "image_path = os.path.join('/home', 'renat_sergazinov', \n",
    "                          'python-git-workspace', 'PhotoForceReconML', 'image_data', 'test')\n",
    "labels_path = os.path.join('/home', 'renat_sergazinov', \n",
    "                          'python-git-workspace', 'PhotoForceReconML', 'labels', 'test')\n",
    "models_path = os.path.join('/home', 'renat_sergazinov', \n",
    "                          'python-git-workspace', 'PhotoForceReconML', 'models')"
   ]
  },
  {
   "cell_type": "markdown",
   "metadata": {},
   "source": [
    "#### Define image processor and data generator"
   ]
  },
  {
   "cell_type": "code",
   "execution_count": 3,
   "metadata": {},
   "outputs": [],
   "source": [
    "%run '/home/renat_sergazinov/python-git-workspace/PhotoForceReconML/data_loader.py'"
   ]
  },
  {
   "cell_type": "markdown",
   "metadata": {},
   "source": [
    "#### Load the data"
   ]
  },
  {
   "cell_type": "code",
   "execution_count": 4,
   "metadata": {},
   "outputs": [],
   "source": [
    "#--- Load images ---#\n",
    "# Extract individual image paths\n",
    "img_paths = {}\n",
    "for k in range(2, 7):\n",
    "    path_prefix = os.path.join(image_path, str(k))\n",
    "    img_paths[k] = [os.path.join(path_prefix, name) for name in sorted(os.listdir(path_prefix), key = sorter)]\n",
    "# Create data generators\n",
    "gaussblur = GaussBlur(1)\n",
    "params = {'dim': (128, 128), 'n_channels': 3, 'rescale': 1 / 255, \n",
    "          'preprocessing_func': gaussblur.blur}\n",
    "# Load images (for all number of forces) as matrix\n",
    "X = dict()\n",
    "for k in range(2, 7): \n",
    "    test_generator = DataGenerator(img_paths[k], **params)   \n",
    "    X[k] = test_generator.generate()"
   ]
  },
  {
   "cell_type": "code",
   "execution_count": 5,
   "metadata": {},
   "outputs": [],
   "source": [
    "#--- Load magnitude labels ---#\n",
    "y_lm = dict()\n",
    "for k in range(2, 7): y_lm[k] = np.load(os.path.join(labels_path, str(k), 'mags.npy'))"
   ]
  },
  {
   "cell_type": "code",
   "execution_count": 6,
   "metadata": {},
   "outputs": [],
   "source": [
    "#--- Split magnitudes into bins ---#\n",
    "bins = {}\n",
    "bin_edges = np.linspace(0,1.5,30)\n",
    "for k in range(2, 7): bins[k] = np.digitize(np.mean(y_lm[k], 1), bins = np.linspace(0,1.5,30))"
   ]
  },
  {
   "cell_type": "markdown",
   "metadata": {},
   "source": [
    "#### Load and test models"
   ]
  },
  {
   "cell_type": "code",
   "execution_count": 7,
   "metadata": {},
   "outputs": [],
   "source": [
    "#--- Load models ---#\n",
    "models_m = dict()                         \n",
    "for k in range(2, 7): \n",
    "    models_m[k] = load_model(os.path.join(models_path, 'xception_mags_'+str(k)+'.h5'))\n",
    "    models_m[k].compile(metrics = ['mean_absolute_error', \"mean_absolute_percentage_error\"])"
   ]
  },
  {
   "cell_type": "code",
   "execution_count": 8,
   "metadata": {},
   "outputs": [
    {
     "name": "stdout",
     "output_type": "stream",
     "text": [
      "Num forces:  2\n",
      "Bin:  1\n",
      "14/14 [==============================] - 21s 2s/step - loss: 0.0000e+00 - mean_absolute_error: 0.0120 - mean_absolute_percentage_error: 48.5270\n",
      "Bin:  2\n",
      "15/15 [==============================] - 22s 1s/step - loss: 0.0000e+00 - mean_absolute_error: 0.0045 - mean_absolute_percentage_error: 6.5826\n",
      "Bin:  3\n",
      "10/10 [==============================] - 0s 24ms/step - loss: 0.0000e+00 - mean_absolute_error: 0.0040 - mean_absolute_percentage_error: 3.0729\n",
      "Bin:  4\n",
      "9/9 [==============================] - 0s 21ms/step - loss: 0.0000e+00 - mean_absolute_error: 0.0043 - mean_absolute_percentage_error: 2.3573\n",
      "Bin:  5\n",
      "15/15 [==============================] - 0s 23ms/step - loss: 0.0000e+00 - mean_absolute_error: 0.0046 - mean_absolute_percentage_error: 1.9614\n",
      "Bin:  6\n",
      "9/9 [==============================] - 0s 21ms/step - loss: 0.0000e+00 - mean_absolute_error: 0.0048 - mean_absolute_percentage_error: 1.6525\n",
      "Bin:  7\n",
      "14/14 [==============================] - 0s 23ms/step - loss: 0.0000e+00 - mean_absolute_error: 0.0056 - mean_absolute_percentage_error: 1.6809\n",
      "Bin:  8\n",
      "10/10 [==============================] - 0s 22ms/step - loss: 0.0000e+00 - mean_absolute_error: 0.0057 - mean_absolute_percentage_error: 1.4834\n",
      "Bin:  9\n",
      "12/12 [==============================] - 23s 2s/step - loss: 0.0000e+00 - mean_absolute_error: 0.0068 - mean_absolute_percentage_error: 1.5233\n",
      "Bin:  10\n",
      "9/9 [==============================] - 0s 23ms/step - loss: 0.0000e+00 - mean_absolute_error: 0.0082 - mean_absolute_percentage_error: 1.6489\n",
      "Bin:  11\n",
      "4/4 [==============================] - 24s 6s/step - loss: 0.0000e+00 - mean_absolute_error: 0.0099 - mean_absolute_percentage_error: 1.8478\n",
      "Bin:  12\n",
      "2/2 [==============================] - 24s 12s/step - loss: 0.0000e+00 - mean_absolute_error: 0.0100 - mean_absolute_percentage_error: 1.6707\n",
      "Bin:  13\n",
      "2/2 [==============================] - 0s 7ms/step - loss: 0.0000e+00 - mean_absolute_error: 0.0128 - mean_absolute_percentage_error: 1.9264\n",
      "Bin:  14\n",
      "1/1 [==============================] - 0s 3ms/step - loss: 0.0000e+00 - mean_absolute_error: 0.0180 - mean_absolute_percentage_error: 2.5331\n",
      "Bin:  15\n",
      "3/3 [==============================] - 23s 8s/step - loss: 0.0000e+00 - mean_absolute_error: 0.0152 - mean_absolute_percentage_error: 2.0326\n",
      "Bin:  16\n",
      "2/2 [==============================] - 0s 13ms/step - loss: 0.0000e+00 - mean_absolute_error: 0.0158 - mean_absolute_percentage_error: 1.9729\n",
      "Bin:  17\n",
      "2/2 [==============================] - 0s 7ms/step - loss: 0.0000e+00 - mean_absolute_error: 0.0162 - mean_absolute_percentage_error: 1.8714\n",
      "Bin:  18\n",
      "2/2 [==============================] - 0s 7ms/step - loss: 0.0000e+00 - mean_absolute_error: 0.0134 - mean_absolute_percentage_error: 1.4941\n",
      "Bin:  19\n",
      "1/1 [==============================] - 0s 1ms/step - loss: 0.0000e+00 - mean_absolute_error: 0.0233 - mean_absolute_percentage_error: 2.4302\n",
      "Bin:  20\n",
      "1/1 [==============================] - 0s 985us/step - loss: 0.0000e+00 - mean_absolute_error: 0.0224 - mean_absolute_percentage_error: 2.2761\n",
      "Num forces:  3\n",
      "Bin:  1\n",
      "1/1 [==============================] - 0s 1ms/step - loss: 0.0000e+00 - mean_absolute_error: 0.0081 - mean_absolute_percentage_error: 16.2610\n",
      "Bin:  2\n",
      "12/12 [==============================] - 0s 25ms/step - loss: 0.0000e+00 - mean_absolute_error: 0.0119 - mean_absolute_percentage_error: 17.4176\n",
      "Bin:  3\n",
      "12/12 [==============================] - 0s 24ms/step - loss: 0.0000e+00 - mean_absolute_error: 0.0142 - mean_absolute_percentage_error: 12.5195\n",
      "Bin:  4\n",
      "15/15 [==============================] - 0s 24ms/step - loss: 0.0000e+00 - mean_absolute_error: 0.0174 - mean_absolute_percentage_error: 10.5022\n",
      "Bin:  5\n",
      "12/12 [==============================] - 0s 24ms/step - loss: 0.0000e+00 - mean_absolute_error: 0.0186 - mean_absolute_percentage_error: 8.6331\n",
      "Bin:  6\n",
      "12/12 [==============================] - 0s 23ms/step - loss: 0.0000e+00 - mean_absolute_error: 0.0283 - mean_absolute_percentage_error: 10.8949\n",
      "Bin:  7\n",
      "9/9 [==============================] - 0s 23ms/step - loss: 0.0000e+00 - mean_absolute_error: 0.0286 - mean_absolute_percentage_error: 9.2126\n",
      "Bin:  8\n",
      "6/6 [==============================] - 0s 20ms/step - loss: 0.0000e+00 - mean_absolute_error: 0.0318 - mean_absolute_percentage_error: 8.8419\n",
      "Bin:  9\n",
      "9/9 [==============================] - 0s 21ms/step - loss: 0.0000e+00 - mean_absolute_error: 0.0470 - mean_absolute_percentage_error: 13.0442\n",
      "Bin:  10\n",
      "7/7 [==============================] - 0s 21ms/step - loss: 0.0000e+00 - mean_absolute_error: 0.0524 - mean_absolute_percentage_error: 16.0002\n",
      "Bin:  11\n",
      "2/2 [==============================] - 0s 7ms/step - loss: 0.0000e+00 - mean_absolute_error: 0.0389 - mean_absolute_percentage_error: 8.5158\n",
      "Bin:  12\n",
      "9/9 [==============================] - 0s 21ms/step - loss: 0.0000e+00 - mean_absolute_error: 0.0446 - mean_absolute_percentage_error: 8.1834\n",
      "Bin:  13\n",
      "8/8 [==============================] - 0s 21ms/step - loss: 0.0000e+00 - mean_absolute_error: 0.0408 - mean_absolute_percentage_error: 6.6222\n",
      "Bin:  14\n",
      "7/7 [==============================] - 0s 22ms/step - loss: 0.0000e+00 - mean_absolute_error: 0.0568 - mean_absolute_percentage_error: 9.9502\n",
      "Bin:  15\n",
      "4/4 [==============================] - 0s 18ms/step - loss: 0.0000e+00 - mean_absolute_error: 0.0489 - mean_absolute_percentage_error: 6.7357\n",
      "Bin:  16\n",
      "4/4 [==============================] - 0s 16ms/step - loss: 0.0000e+00 - mean_absolute_error: 0.0569 - mean_absolute_percentage_error: 6.9859\n",
      "Bin:  17\n",
      "4/4 [==============================] - 0s 18ms/step - loss: 0.0000e+00 - mean_absolute_error: 0.0524 - mean_absolute_percentage_error: 6.4924\n",
      "Bin:  22\n",
      "1/1 [==============================] - 0s 1ms/step - loss: 0.0000e+00 - mean_absolute_error: 0.0769 - mean_absolute_percentage_error: 6.8347\n",
      "Num forces:  4\n",
      "Bin:  1\n",
      "14/14 [==============================] - 0s 24ms/step - loss: 0.0000e+00 - mean_absolute_error: 0.0088 - mean_absolute_percentage_error: 44.8125\n",
      "Bin:  2\n",
      "19/19 [==============================] - 0s 24ms/step - loss: 0.0000e+00 - mean_absolute_error: 0.0123 - mean_absolute_percentage_error: 19.7765\n",
      "Bin:  3\n",
      "7/7 [==============================] - 0s 20ms/step - loss: 0.0000e+00 - mean_absolute_error: 0.0199 - mean_absolute_percentage_error: 19.3451\n",
      "Bin:  4\n",
      "13/13 [==============================] - 0s 24ms/step - loss: 0.0000e+00 - mean_absolute_error: 0.0211 - mean_absolute_percentage_error: 12.7774\n",
      "Bin:  5\n",
      "7/7 [==============================] - 0s 22ms/step - loss: 0.0000e+00 - mean_absolute_error: 0.0348 - mean_absolute_percentage_error: 16.1944\n",
      "Bin:  6\n",
      "12/12 [==============================] - 0s 24ms/step - loss: 0.0000e+00 - mean_absolute_error: 0.0426 - mean_absolute_percentage_error: 16.6730\n",
      "Bin:  7\n",
      "10/10 [==============================] - 0s 22ms/step - loss: 0.0000e+00 - mean_absolute_error: 0.0421 - mean_absolute_percentage_error: 13.7351\n",
      "Bin:  8\n",
      "4/4 [==============================] - 0s 18ms/step - loss: 0.0000e+00 - mean_absolute_error: 0.0571 - mean_absolute_percentage_error: 15.6973\n",
      "Bin:  9\n",
      "4/4 [==============================] - 0s 15ms/step - loss: 0.0000e+00 - mean_absolute_error: 0.0707 - mean_absolute_percentage_error: 16.8789\n",
      "Bin:  10\n",
      "4/4 [==============================] - 0s 16ms/step - loss: 0.0000e+00 - mean_absolute_error: 0.0505 - mean_absolute_percentage_error: 10.2725\n",
      "Bin:  11\n",
      "5/5 [==============================] - 0s 19ms/step - loss: 0.0000e+00 - mean_absolute_error: 0.0965 - mean_absolute_percentage_error: 20.7110\n",
      "Bin:  12\n",
      "2/2 [==============================] - 0s 10ms/step - loss: 0.0000e+00 - mean_absolute_error: 0.0876 - mean_absolute_percentage_error: 17.4756\n",
      "Bin:  13\n",
      "3/3 [==============================] - 0s 14ms/step - loss: 0.0000e+00 - mean_absolute_error: 0.1186 - mean_absolute_percentage_error: 19.1465\n",
      "Bin:  14\n",
      "4/4 [==============================] - 0s 19ms/step - loss: 0.0000e+00 - mean_absolute_error: 0.0955 - mean_absolute_percentage_error: 14.4254\n",
      "Bin:  15\n",
      "3/3 [==============================] - 0s 14ms/step - loss: 0.0000e+00 - mean_absolute_error: 0.1016 - mean_absolute_percentage_error: 13.7271\n",
      "Bin:  16\n"
     ]
    },
    {
     "name": "stdout",
     "output_type": "stream",
     "text": [
      "4/4 [==============================] - 0s 15ms/step - loss: 0.0000e+00 - mean_absolute_error: 0.1230 - mean_absolute_percentage_error: 15.5899\n",
      "Bin:  17\n",
      "4/4 [==============================] - 0s 19ms/step - loss: 0.0000e+00 - mean_absolute_error: 0.1185 - mean_absolute_percentage_error: 15.4990\n",
      "Bin:  18\n",
      "9/9 [==============================] - 0s 21ms/step - loss: 0.0000e+00 - mean_absolute_error: 0.1135 - mean_absolute_percentage_error: 13.3138\n",
      "Bin:  19\n",
      "4/4 [==============================] - 0s 18ms/step - loss: 0.0000e+00 - mean_absolute_error: 0.1526 - mean_absolute_percentage_error: 16.7655\n",
      "Bin:  20\n",
      "1/1 [==============================] - 0s 2ms/step - loss: 0.0000e+00 - mean_absolute_error: 0.2396 - mean_absolute_percentage_error: 29.9111\n",
      "Bin:  21\n",
      "1/1 [==============================] - 0s 975us/step - loss: 0.0000e+00 - mean_absolute_error: 0.1895 - mean_absolute_percentage_error: 16.4532\n",
      "Bin:  22\n",
      "1/1 [==============================] - 0s 1ms/step - loss: 0.0000e+00 - mean_absolute_error: 0.2152 - mean_absolute_percentage_error: 18.9159\n",
      "Bin:  28\n",
      "1/1 [==============================] - 0s 1ms/step - loss: 0.0000e+00 - mean_absolute_error: 0.2292 - mean_absolute_percentage_error: 15.7890\n",
      "Num forces:  5\n",
      "Bin:  1\n",
      "19/19 [==============================] - 0s 25ms/step - loss: 0.0000e+00 - mean_absolute_error: 0.0065 - mean_absolute_percentage_error: 36.9951\n",
      "Bin:  2\n",
      "19/19 [==============================] - 0s 25ms/step - loss: 0.0000e+00 - mean_absolute_error: 0.0156 - mean_absolute_percentage_error: 20.6587\n",
      "Bin:  3\n",
      "15/15 [==============================] - 0s 24ms/step - loss: 0.0000e+00 - mean_absolute_error: 0.0215 - mean_absolute_percentage_error: 19.0057\n",
      "Bin:  4\n",
      "12/12 [==============================] - 0s 24ms/step - loss: 0.0000e+00 - mean_absolute_error: 0.0306 - mean_absolute_percentage_error: 19.0172\n",
      "Bin:  5\n",
      "9/9 [==============================] - 0s 23ms/step - loss: 0.0000e+00 - mean_absolute_error: 0.0381 - mean_absolute_percentage_error: 19.0574\n",
      "Bin:  6\n",
      "8/8 [==============================] - 0s 22ms/step - loss: 0.0000e+00 - mean_absolute_error: 0.0405 - mean_absolute_percentage_error: 15.1421\n",
      "Bin:  7\n",
      "2/2 [==============================] - 0s 11ms/step - loss: 0.0000e+00 - mean_absolute_error: 0.0405 - mean_absolute_percentage_error: 11.7128\n",
      "Bin:  8\n",
      "3/3 [==============================] - 0s 14ms/step - loss: 0.0000e+00 - mean_absolute_error: 0.0579 - mean_absolute_percentage_error: 14.6283\n",
      "Bin:  9\n",
      "7/7 [==============================] - 0s 21ms/step - loss: 0.0000e+00 - mean_absolute_error: 0.0681 - mean_absolute_percentage_error: 16.4757\n",
      "Bin:  10\n",
      "7/7 [==============================] - 0s 20ms/step - loss: 0.0000e+00 - mean_absolute_error: 0.0664 - mean_absolute_percentage_error: 14.3615\n",
      "Bin:  11\n",
      "7/7 [==============================] - 0s 22ms/step - loss: 0.0000e+00 - mean_absolute_error: 0.0726 - mean_absolute_percentage_error: 13.3780\n",
      "Bin:  12\n",
      "7/7 [==============================] - 0s 21ms/step - loss: 0.0000e+00 - mean_absolute_error: 0.0907 - mean_absolute_percentage_error: 16.4672\n",
      "Bin:  13\n",
      "5/5 [==============================] - 0s 19ms/step - loss: 0.0000e+00 - mean_absolute_error: 0.0864 - mean_absolute_percentage_error: 14.3705\n",
      "Bin:  14\n",
      "6/6 [==============================] - 0s 20ms/step - loss: 0.0000e+00 - mean_absolute_error: 0.1180 - mean_absolute_percentage_error: 17.6692\n",
      "Bin:  15\n",
      "3/3 [==============================] - 0s 15ms/step - loss: 0.0000e+00 - mean_absolute_error: 0.0978 - mean_absolute_percentage_error: 14.4501\n",
      "Bin:  16\n",
      "2/2 [==============================] - 0s 7ms/step - loss: 0.0000e+00 - mean_absolute_error: 0.1173 - mean_absolute_percentage_error: 14.0219\n",
      "Bin:  17\n",
      "1/1 [==============================] - 0s 2ms/step - loss: 0.0000e+00 - mean_absolute_error: 0.1326 - mean_absolute_percentage_error: 15.2361\n",
      "Bin:  18\n",
      "1/1 [==============================] - 0s 2ms/step - loss: 0.0000e+00 - mean_absolute_error: 0.1655 - mean_absolute_percentage_error: 19.8732\n",
      "Num forces:  6\n",
      "Bin:  1\n",
      "1/1 [==============================] - 0s 2ms/step - loss: 0.0000e+00 - mean_absolute_error: 0.0114 - mean_absolute_percentage_error: 22.7976\n",
      "Bin:  2\n",
      "30/30 [==============================] - 1s 26ms/step - loss: 0.0000e+00 - mean_absolute_error: 0.0151 - mean_absolute_percentage_error: 18.6252\n",
      "Bin:  3\n",
      "9/9 [==============================] - 0s 23ms/step - loss: 0.0000e+00 - mean_absolute_error: 0.0223 - mean_absolute_percentage_error: 19.4550\n",
      "Bin:  4\n",
      "17/17 [==============================] - 0s 25ms/step - loss: 0.0000e+00 - mean_absolute_error: 0.0274 - mean_absolute_percentage_error: 16.2719\n",
      "Bin:  5\n",
      "22/22 [==============================] - 1s 26ms/step - loss: 0.0000e+00 - mean_absolute_error: 0.0423 - mean_absolute_percentage_error: 21.7044\n",
      "Bin:  6\n",
      "9/9 [==============================] - 0s 23ms/step - loss: 0.0000e+00 - mean_absolute_error: 0.0363 - mean_absolute_percentage_error: 13.5972\n",
      "Bin:  7\n",
      "5/5 [==============================] - 0s 20ms/step - loss: 0.0000e+00 - mean_absolute_error: 0.0452 - mean_absolute_percentage_error: 13.4602\n",
      "Bin:  8\n",
      "3/3 [==============================] - 0s 14ms/step - loss: 0.0000e+00 - mean_absolute_error: 0.0460 - mean_absolute_percentage_error: 11.9690\n",
      "Bin:  9\n",
      "4/4 [==============================] - 0s 16ms/step - loss: 0.0000e+00 - mean_absolute_error: 0.0560 - mean_absolute_percentage_error: 13.6474\n",
      "Bin:  10\n",
      "3/3 [==============================] - 0s 14ms/step - loss: 0.0000e+00 - mean_absolute_error: 0.0760 - mean_absolute_percentage_error: 17.3133\n",
      "Bin:  11\n",
      "6/6 [==============================] - 0s 20ms/step - loss: 0.0000e+00 - mean_absolute_error: 0.0750 - mean_absolute_percentage_error: 14.5815\n",
      "Bin:  12\n",
      "3/3 [==============================] - 0s 15ms/step - loss: 0.0000e+00 - mean_absolute_error: 0.0942 - mean_absolute_percentage_error: 16.5672\n",
      "Bin:  13\n",
      "3/3 [==============================] - 0s 14ms/step - loss: 0.0000e+00 - mean_absolute_error: 0.1178 - mean_absolute_percentage_error: 18.8599\n",
      "Bin:  14\n",
      "3/3 [==============================] - 0s 14ms/step - loss: 0.0000e+00 - mean_absolute_error: 0.1748 - mean_absolute_percentage_error: 29.7666\n",
      "Bin:  15\n",
      "2/2 [==============================] - 0s 12ms/step - loss: 0.0000e+00 - mean_absolute_error: 0.1182 - mean_absolute_percentage_error: 15.8758\n",
      "Bin:  16\n",
      "4/4 [==============================] - 0s 18ms/step - loss: 0.0000e+00 - mean_absolute_error: 0.1244 - mean_absolute_percentage_error: 16.0909\n",
      "Bin:  17\n",
      "2/2 [==============================] - 0s 11ms/step - loss: 0.0000e+00 - mean_absolute_error: 0.1371 - mean_absolute_percentage_error: 16.9246\n",
      "Bin:  18\n",
      "4/4 [==============================] - 0s 16ms/step - loss: 0.0000e+00 - mean_absolute_error: 0.1233 - mean_absolute_percentage_error: 13.4684\n",
      "Bin:  19\n",
      "2/2 [==============================] - 0s 6ms/step - loss: 0.0000e+00 - mean_absolute_error: 0.1637 - mean_absolute_percentage_error: 16.0440\n",
      "Bin:  20\n",
      "1/1 [==============================] - 0s 1ms/step - loss: 0.0000e+00 - mean_absolute_error: 0.1657 - mean_absolute_percentage_error: 15.2700\n"
     ]
    }
   ],
   "source": [
    "#--- Test models ---#\n",
    "error_mae = np.empty([len(bin_edges) - 1, 5]) * np.nan \n",
    "error_mape = np.empty([len(bin_edges) - 1, 5]) * np.nan\n",
    "for k in range(2, 7):\n",
    "    print(\"Num forces: \", k)\n",
    "    for i in range(1, len(bin_edges) - 1):\n",
    "        if (sum(bins[k] == i) > 0):\n",
    "            print(\"Bin: \", i)\n",
    "            loss = models_m[k].evaluate(X[k][bins[k] == i, ], y_lm[k][bins[k] == i, ])\n",
    "            error_mae[i - 1, k - 2] = loss[1]\n",
    "            error_mape[i - 1, k - 2] = loss[2]"
   ]
  },
  {
   "cell_type": "code",
   "execution_count": 9,
   "metadata": {},
   "outputs": [],
   "source": [
    "df_error_mae = pd.DataFrame(error_mae, columns = [str(i) + \" forces\" for i in range(2, 7)])\n",
    "df_error_mae[\"Mean bin magnitude\"] = (bin_edges[1:] - bin_edges[:-1]) / 2 + bin_edges[:-1]\n",
    "df_error_mae = pd.melt(df_error_mae, id_vars=[\"Mean bin magnitude\"], value_name=\"Mean absolute error\", var_name=\"Forces\")"
   ]
  },
  {
   "cell_type": "code",
   "execution_count": 10,
   "metadata": {},
   "outputs": [
    {
     "data": {
      "image/png": "[encoded data removed]",
      "text/plain": [
       "<Figure size 432x288 with 1 Axes>"
      ]
     },
     "metadata": {},
     "output_type": "display_data"
    }
   ],
   "source": [
    "sns.set_theme(style=\"whitegrid\")\n",
    "s = sns.lineplot(data=df_error_mae, x=\"Mean bin magnitude\", y=\"Mean absolute error\", hue=\"Forces\")\n",
    "s.set(ylim = (0,0.5))\n",
    "plt.legend(bbox_to_anchor=(1.02, 0.375), loc='upper left', borderaxespad=0)\n",
    "plt.savefig('magnitude_error_xception.pdf', dpi=300, bbox_inches='tight')"
   ]
  },
  {
   "cell_type": "code",
   "execution_count": 11,
   "metadata": {},
   "outputs": [],
   "source": [
    "df_error_mape = pd.DataFrame(error_mape, columns = [str(i) + \" forces\" for i in range(2, 7)])\n",
    "df_error_mape[\"Mean bin magnitude\"] = (bin_edges[1:] - bin_edges[:-1]) / 2 + bin_edges[:-1]\n",
    "df_error_mape = pd.melt(df_error_mape, id_vars=[\"Mean bin magnitude\"], value_name=\"Mean absolute percent error\", var_name=\"Forces\")"
   ]
  },
  {
   "cell_type": "code",
   "execution_count": 12,
   "metadata": {},
   "outputs": [
    {
     "data": {
      "image/png": "[encoded data removed]",
      "text/plain": [
       "<Figure size 432x288 with 1 Axes>"
      ]
     },
     "metadata": {},
     "output_type": "display_data"
    }
   ],
   "source": [
    "s = sns.lineplot(data=df_error_mape, x=\"Mean bin magnitude\", y=\"Mean absolute percent error\", hue=\"Forces\")\n",
    "s.set(ylim = (0,100))\n",
    "plt.legend(bbox_to_anchor=(1.02, 0.375), loc='upper left', borderaxespad=0)\n",
    "plt.savefig('magnitude_percent_error_xception.pdf', dpi=300, bbox_inches='tight')"
   ]
  },
  {
   "cell_type": "code",
   "execution_count": 13,
   "metadata": {},
   "outputs": [],
   "source": [
    "df_error_mae.to_pickle(\"magnitude_mae_xception.pkl\")"
   ]
  },
  {
   "cell_type": "code",
   "execution_count": 14,
   "metadata": {},
   "outputs": [],
   "source": [
    "df_error_mape.to_pickle(\"magnitude_mape_xception.pkl\")"
   ]
  },
  {
   "cell_type": "code",
   "execution_count": null,
   "metadata": {},
   "outputs": [],
   "source": []
  }
 ],
 "metadata": {
  "kernelspec": {
   "display_name": "Python 3",
   "language": "python",
   "name": "python3"
  },
  "language_info": {
   "codemirror_mode": {
    "name": "ipython",
    "version": 3
   },
   "file_extension": ".py",
   "mimetype": "text/x-python",
   "name": "python",
   "nbconvert_exporter": "python",
   "pygments_lexer": "ipython3",
   "version": "3.8.5"
  }
 },
 "nbformat": 4,
 "nbformat_minor": 2
}
