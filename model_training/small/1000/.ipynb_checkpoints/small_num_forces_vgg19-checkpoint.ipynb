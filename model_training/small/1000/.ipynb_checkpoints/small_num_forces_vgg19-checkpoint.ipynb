{
 "cells": [
  {
   "cell_type": "markdown",
   "metadata": {},
   "source": [
    "#### Loading the necessary libraries and packages"
   ]
  },
  {
   "cell_type": "code",
   "execution_count": 1,
   "metadata": {},
   "outputs": [],
   "source": [
    "# Load tensorflow\n",
    "import tensorflow as tf\n",
    "# Below command is to avoid the known bug which prevents computation on some GPU devices\n",
    "physical_devices = tf.config.experimental.list_physical_devices('GPU')\n",
    "assert len(physical_devices) > 0, \"Not enough GPU hardware devices available\"\n",
    "tf.config.experimental.set_memory_growth(physical_devices[0], True)\n",
    "# Load preprocessing tools\n",
    "from tensorflow.keras.preprocessing.image import ImageDataGenerator\n",
    "from scipy.ndimage.filters import gaussian_filter\n",
    "from PIL import Image\n",
    "from PIL.ImageOps import expand\n",
    "# Load model building blocks\n",
    "from tensorflow.keras import Input\n",
    "from tensorflow.keras.models import Model, load_model\n",
    "from tensorflow.keras.layers import Dense, Dropout, GlobalAveragePooling2D\n",
    "from tensorflow.keras.callbacks import EarlyStopping\n",
    "from tensorflow.keras.callbacks import ModelCheckpoint\n",
    "# Load pre-trained model library\n",
    "from tensorflow.keras import applications\n",
    "# Load miscelaneous libraries\n",
    "import numpy as np\n",
    "import os\n",
    "import matplotlib.pylab as plt\n",
    "import gc"
   ]
  },
  {
   "cell_type": "markdown",
   "metadata": {},
   "source": [
    "#### Define paths"
   ]
  },
  {
   "cell_type": "code",
   "execution_count": 2,
   "metadata": {},
   "outputs": [],
   "source": [
    "train_image_path = os.path.join('/home', 'renat_sergazinov', \n",
    "                          'python-git-workspace', 'PhotoForceReconML', 'image_data', 'small', '1000', 'train')\n",
    "val_image_path = os.path.join('/home', 'renat_sergazinov', \n",
    "                          'python-git-workspace', 'PhotoForceReconML', 'image_data', 'small', '1000', 'val')\n",
    "load_model_path = os.path.join('/home', 'renat_sergazinov', 'python-git-workspace', \n",
    "                               'PhotoForceReconML', 'models', 'vgg19_num_forces.h5')\n",
    "save_model_path = os.path.join('/home', 'renat_sergazinov', 'python-git-workspace', \n",
    "                               'PhotoForceReconML', 'models', 'small', '1000', 'vgg19_num_forces.h5')"
   ]
  },
  {
   "cell_type": "markdown",
   "metadata": {},
   "source": [
    "#### Data preprocessing and augmentation"
   ]
  },
  {
   "cell_type": "markdown",
   "metadata": {},
   "source": [
    "Load the data from the directory. The data are the images of particles split into subdirectories based on the number of forces acting on the particle. The labels are inferred from the subdirectory names. \n",
    "\n",
    "The size of all images is adjusted so that all images are 128*128 using nearest neighbor interpolation. Validation split is performed: 20% is set aside for validation. Additionally images are blurred using Gaussian blur with kernel radius = 1.The pixel values are scaled using 1/255 to be in the interval [0,1]."
   ]
  },
  {
   "cell_type": "code",
   "execution_count": null,
   "metadata": {},
   "outputs": [],
   "source": [
    "%run '/home/renat_sergazinov/python-git-workspace/PhotoForceReconML/data_loader.py'"
   ]
  },
  {
   "cell_type": "code",
   "execution_count": 4,
   "metadata": {},
   "outputs": [],
   "source": [
    "# Define datagen and gaussian blur classes\n",
    "gaussblur = GaussBlur(1)\n",
    "datagen = ImageDataGenerator(\n",
    "    rescale = 1 / 255,\n",
    "    preprocessing_function = gaussblur.blur)"
   ]
  },
  {
   "cell_type": "code",
   "execution_count": 5,
   "metadata": {},
   "outputs": [
    {
     "name": "stdout",
     "output_type": "stream",
     "text": [
      "Found 4000 images belonging to 5 classes.\n",
      "Found 1000 images belonging to 5 classes.\n"
     ]
    }
   ],
   "source": [
    "# Create directory iterator for reading in the data\n",
    "datagen_flow_train = datagen.flow_from_directory(train_image_path, \n",
    "                                         target_size = (128, 128),\n",
    "                                         color_mode = \"rgb\",\n",
    "                                         class_mode = \"categorical\",\n",
    "                                         batch_size = 32,\n",
    "                                         shuffle = True,\n",
    "                                         seed = None,\n",
    "                                         follow_links = False,\n",
    "                                         interpolation = \"nearest\")\n",
    "datagen_flow_val = datagen.flow_from_directory(val_image_path, \n",
    "                                         target_size = (128, 128),\n",
    "                                         color_mode = \"rgb\",\n",
    "                                         class_mode = \"categorical\",\n",
    "                                         batch_size = 32,\n",
    "                                         shuffle = True,\n",
    "                                         seed = None,\n",
    "                                         follow_links = False,\n",
    "                                         interpolation = \"nearest\")"
   ]
  },
  {
   "cell_type": "markdown",
   "metadata": {},
   "source": [
    "#### VGG19 Model building"
   ]
  },
  {
   "cell_type": "markdown",
   "metadata": {},
   "source": [
    "Convolutional neural network is loaded (pre-trained) and compiled in this step."
   ]
  },
  {
   "cell_type": "code",
   "execution_count": 6,
   "metadata": {},
   "outputs": [],
   "source": [
    "# Load VGG19 model to be the base model\n",
    "model = load_model(load_model_path)   "
   ]
  },
  {
   "cell_type": "code",
   "execution_count": 7,
   "metadata": {},
   "outputs": [
    {
     "name": "stdout",
     "output_type": "stream",
     "text": [
      "Model: \"model\"\n",
      "_________________________________________________________________\n",
      "Layer (type)                 Output Shape              Param #   \n",
      "=================================================================\n",
      "input_2 (InputLayer)         [(None, 128, 128, 3)]     0         \n",
      "_________________________________________________________________\n",
      "vgg19 (Model)                (None, 4, 4, 512)         20024384  \n",
      "_________________________________________________________________\n",
      "global_average_pooling2d (Gl (None, 512)               0         \n",
      "_________________________________________________________________\n",
      "dense (Dense)                (None, 1024)              525312    \n",
      "_________________________________________________________________\n",
      "dropout (Dropout)            (None, 1024)              0         \n",
      "_________________________________________________________________\n",
      "dense_1 (Dense)              (None, 5)                 5125      \n",
      "=================================================================\n",
      "Total params: 20,554,821\n",
      "Trainable params: 20,554,821\n",
      "Non-trainable params: 0\n",
      "_________________________________________________________________\n"
     ]
    }
   ],
   "source": [
    "model.summary()"
   ]
  },
  {
   "cell_type": "markdown",
   "metadata": {},
   "source": [
    "#### VGG19 Model Training"
   ]
  },
  {
   "cell_type": "markdown",
   "metadata": {},
   "source": [
    "The model is trained using Adam optimizer. The loss is defined to be categorical crossentropy. Best model selection across training epochs is implemented with model checkpoint tracking the validation loss. Early stopping is set with patience of 20 epochs. "
   ]
  },
  {
   "cell_type": "code",
   "execution_count": 8,
   "metadata": {},
   "outputs": [],
   "source": [
    "# Compile model: define loss, optimizer\n",
    "model.compile(optimizer=tf.keras.optimizers.Adam(learning_rate=1e-06, epsilon = 1e-07),\n",
    "              loss='categorical_crossentropy', \n",
    "              metrics=['accuracy', 'categorical_crossentropy'])"
   ]
  },
  {
   "cell_type": "code",
   "execution_count": 9,
   "metadata": {},
   "outputs": [
    {
     "name": "stdout",
     "output_type": "stream",
     "text": [
      "Epoch 1/1000\n",
      "125/125 [==============================] - ETA: 0s - loss: 1.0335 - accuracy: 0.9310 - categorical_crossentropy: 1.0335\n",
      "Epoch 00001: val_loss improved from inf to 0.42447, saving model to /home/renat_sergazinov/python-git-workspace/PhotoForceReconML/models/small/1000/vgg19_num_forces.h5\n",
      "125/125 [==============================] - 34s 273ms/step - loss: 1.0335 - accuracy: 0.9310 - categorical_crossentropy: 1.0335 - val_loss: 0.4245 - val_accuracy: 0.9330 - val_categorical_crossentropy: 0.4245\n",
      "Epoch 2/1000\n",
      "125/125 [==============================] - ETA: 0s - loss: 0.1083 - accuracy: 0.9768 - categorical_crossentropy: 0.1083\n",
      "Epoch 00002: val_loss improved from 0.42447 to 0.26000, saving model to /home/renat_sergazinov/python-git-workspace/PhotoForceReconML/models/small/1000/vgg19_num_forces.h5\n",
      "125/125 [==============================] - 15s 116ms/step - loss: 0.1083 - accuracy: 0.9768 - categorical_crossentropy: 0.1083 - val_loss: 0.2600 - val_accuracy: 0.9550 - val_categorical_crossentropy: 0.2600\n",
      "Epoch 3/1000\n",
      "125/125 [==============================] - ETA: 0s - loss: 0.0619 - accuracy: 0.9858 - categorical_crossentropy: 0.0619\n",
      "Epoch 00003: val_loss improved from 0.26000 to 0.22255, saving model to /home/renat_sergazinov/python-git-workspace/PhotoForceReconML/models/small/1000/vgg19_num_forces.h5\n",
      "125/125 [==============================] - 15s 119ms/step - loss: 0.0619 - accuracy: 0.9858 - categorical_crossentropy: 0.0619 - val_loss: 0.2225 - val_accuracy: 0.9630 - val_categorical_crossentropy: 0.2225\n",
      "Epoch 4/1000\n",
      "125/125 [==============================] - ETA: 0s - loss: 0.0358 - accuracy: 0.9877 - categorical_crossentropy: 0.0358\n",
      "Epoch 00004: val_loss improved from 0.22255 to 0.12986, saving model to /home/renat_sergazinov/python-git-workspace/PhotoForceReconML/models/small/1000/vgg19_num_forces.h5\n",
      "125/125 [==============================] - 15s 119ms/step - loss: 0.0358 - accuracy: 0.9877 - categorical_crossentropy: 0.0358 - val_loss: 0.1299 - val_accuracy: 0.9700 - val_categorical_crossentropy: 0.1299\n",
      "Epoch 5/1000\n",
      "125/125 [==============================] - ETA: 0s - loss: 0.0224 - accuracy: 0.9918 - categorical_crossentropy: 0.0224\n",
      "Epoch 00005: val_loss did not improve from 0.12986\n",
      "125/125 [==============================] - 14s 116ms/step - loss: 0.0224 - accuracy: 0.9918 - categorical_crossentropy: 0.0224 - val_loss: 0.1601 - val_accuracy: 0.9690 - val_categorical_crossentropy: 0.1601\n",
      "Epoch 6/1000\n",
      "125/125 [==============================] - ETA: 0s - loss: 0.0135 - accuracy: 0.9950 - categorical_crossentropy: 0.0135\n",
      "Epoch 00006: val_loss did not improve from 0.12986\n",
      "125/125 [==============================] - 15s 117ms/step - loss: 0.0135 - accuracy: 0.9950 - categorical_crossentropy: 0.0135 - val_loss: 0.1371 - val_accuracy: 0.9700 - val_categorical_crossentropy: 0.1371\n",
      "Epoch 7/1000\n",
      "125/125 [==============================] - ETA: 0s - loss: 0.0110 - accuracy: 0.9965 - categorical_crossentropy: 0.0110\n",
      "Epoch 00007: val_loss improved from 0.12986 to 0.12954, saving model to /home/renat_sergazinov/python-git-workspace/PhotoForceReconML/models/small/1000/vgg19_num_forces.h5\n",
      "125/125 [==============================] - 15s 119ms/step - loss: 0.0110 - accuracy: 0.9965 - categorical_crossentropy: 0.0110 - val_loss: 0.1295 - val_accuracy: 0.9760 - val_categorical_crossentropy: 0.1295\n",
      "Epoch 8/1000\n",
      "125/125 [==============================] - ETA: 0s - loss: 0.0101 - accuracy: 0.9960 - categorical_crossentropy: 0.0101\n",
      "Epoch 00008: val_loss did not improve from 0.12954\n",
      "125/125 [==============================] - 15s 117ms/step - loss: 0.0101 - accuracy: 0.9960 - categorical_crossentropy: 0.0101 - val_loss: 0.1352 - val_accuracy: 0.9750 - val_categorical_crossentropy: 0.1352\n",
      "Epoch 9/1000\n",
      "125/125 [==============================] - ETA: 0s - loss: 0.0082 - accuracy: 0.9970 - categorical_crossentropy: 0.0082\n",
      "Epoch 00009: val_loss did not improve from 0.12954\n",
      "125/125 [==============================] - 14s 115ms/step - loss: 0.0082 - accuracy: 0.9970 - categorical_crossentropy: 0.0082 - val_loss: 0.1730 - val_accuracy: 0.9710 - val_categorical_crossentropy: 0.1730\n",
      "Epoch 10/1000\n",
      "125/125 [==============================] - ETA: 0s - loss: 0.0071 - accuracy: 0.9962 - categorical_crossentropy: 0.0071\n",
      "Epoch 00010: val_loss improved from 0.12954 to 0.11650, saving model to /home/renat_sergazinov/python-git-workspace/PhotoForceReconML/models/small/1000/vgg19_num_forces.h5\n",
      "125/125 [==============================] - 15s 119ms/step - loss: 0.0071 - accuracy: 0.9962 - categorical_crossentropy: 0.0071 - val_loss: 0.1165 - val_accuracy: 0.9790 - val_categorical_crossentropy: 0.1165\n",
      "Epoch 11/1000\n",
      "125/125 [==============================] - ETA: 0s - loss: 0.0030 - accuracy: 0.9990 - categorical_crossentropy: 0.0030\n",
      "Epoch 00011: val_loss improved from 0.11650 to 0.09714, saving model to /home/renat_sergazinov/python-git-workspace/PhotoForceReconML/models/small/1000/vgg19_num_forces.h5\n",
      "125/125 [==============================] - 15s 119ms/step - loss: 0.0030 - accuracy: 0.9990 - categorical_crossentropy: 0.0030 - val_loss: 0.0971 - val_accuracy: 0.9800 - val_categorical_crossentropy: 0.0971\n",
      "Epoch 12/1000\n",
      "125/125 [==============================] - ETA: 0s - loss: 0.0039 - accuracy: 0.9992 - categorical_crossentropy: 0.0039\n",
      "Epoch 00012: val_loss did not improve from 0.09714\n",
      "125/125 [==============================] - 15s 116ms/step - loss: 0.0039 - accuracy: 0.9992 - categorical_crossentropy: 0.0039 - val_loss: 0.1437 - val_accuracy: 0.9730 - val_categorical_crossentropy: 0.1437\n",
      "Epoch 13/1000\n",
      "125/125 [==============================] - ETA: 0s - loss: 0.0060 - accuracy: 0.9985 - categorical_crossentropy: 0.0060\n",
      "Epoch 00013: val_loss did not improve from 0.09714\n",
      "125/125 [==============================] - 15s 117ms/step - loss: 0.0060 - accuracy: 0.9985 - categorical_crossentropy: 0.0060 - val_loss: 0.1856 - val_accuracy: 0.9660 - val_categorical_crossentropy: 0.1856\n",
      "Epoch 14/1000\n",
      "125/125 [==============================] - ETA: 0s - loss: 0.0038 - accuracy: 0.9975 - categorical_crossentropy: 0.0038\n",
      "Epoch 00014: val_loss did not improve from 0.09714\n",
      "125/125 [==============================] - 15s 117ms/step - loss: 0.0038 - accuracy: 0.9975 - categorical_crossentropy: 0.0038 - val_loss: 0.1386 - val_accuracy: 0.9770 - val_categorical_crossentropy: 0.1386\n",
      "Epoch 15/1000\n",
      "125/125 [==============================] - ETA: 0s - loss: 9.9368e-04 - accuracy: 0.9998 - categorical_crossentropy: 9.9368e-04\n",
      "Epoch 00015: val_loss did not improve from 0.09714\n",
      "125/125 [==============================] - 15s 118ms/step - loss: 9.9368e-04 - accuracy: 0.9998 - categorical_crossentropy: 9.9368e-04 - val_loss: 0.0997 - val_accuracy: 0.9810 - val_categorical_crossentropy: 0.0997\n",
      "Epoch 16/1000\n",
      "125/125 [==============================] - ETA: 0s - loss: 0.0018 - accuracy: 0.9995 - categorical_crossentropy: 0.0018\n",
      "Epoch 00016: val_loss did not improve from 0.09714\n",
      "125/125 [==============================] - 15s 118ms/step - loss: 0.0018 - accuracy: 0.9995 - categorical_crossentropy: 0.0018 - val_loss: 0.1498 - val_accuracy: 0.9730 - val_categorical_crossentropy: 0.1498\n",
      "Epoch 17/1000\n",
      "125/125 [==============================] - ETA: 0s - loss: 0.0019 - accuracy: 0.9995 - categorical_crossentropy: 0.0019\n",
      "Epoch 00017: val_loss did not improve from 0.09714\n",
      "125/125 [==============================] - 15s 117ms/step - loss: 0.0019 - accuracy: 0.9995 - categorical_crossentropy: 0.0019 - val_loss: 0.1779 - val_accuracy: 0.9670 - val_categorical_crossentropy: 0.1779\n",
      "Epoch 18/1000\n",
      "125/125 [==============================] - ETA: 0s - loss: 0.0028 - accuracy: 0.9992 - categorical_crossentropy: 0.0028\n",
      "Epoch 00018: val_loss improved from 0.09714 to 0.07323, saving model to /home/renat_sergazinov/python-git-workspace/PhotoForceReconML/models/small/1000/vgg19_num_forces.h5\n",
      "125/125 [==============================] - 15s 119ms/step - loss: 0.0028 - accuracy: 0.9992 - categorical_crossentropy: 0.0028 - val_loss: 0.0732 - val_accuracy: 0.9820 - val_categorical_crossentropy: 0.0732\n",
      "Epoch 19/1000\n",
      "125/125 [==============================] - ETA: 0s - loss: 0.0034 - accuracy: 0.9980 - categorical_crossentropy: 0.0034\n",
      "Epoch 00019: val_loss did not improve from 0.07323\n",
      "125/125 [==============================] - 15s 117ms/step - loss: 0.0034 - accuracy: 0.9980 - categorical_crossentropy: 0.0034 - val_loss: 0.1591 - val_accuracy: 0.9680 - val_categorical_crossentropy: 0.1591\n"
     ]
    },
    {
     "name": "stdout",
     "output_type": "stream",
     "text": [
      "Epoch 20/1000\n",
      "125/125 [==============================] - ETA: 0s - loss: 0.0021 - accuracy: 0.9992 - categorical_crossentropy: 0.0021\n",
      "Epoch 00020: val_loss did not improve from 0.07323\n",
      "125/125 [==============================] - 14s 111ms/step - loss: 0.0021 - accuracy: 0.9992 - categorical_crossentropy: 0.0021 - val_loss: 0.1391 - val_accuracy: 0.9710 - val_categorical_crossentropy: 0.1391\n",
      "Epoch 21/1000\n",
      "125/125 [==============================] - ETA: 0s - loss: 0.0018 - accuracy: 0.9992 - categorical_crossentropy: 0.0018\n",
      "Epoch 00021: val_loss did not improve from 0.07323\n",
      "125/125 [==============================] - 14s 112ms/step - loss: 0.0018 - accuracy: 0.9992 - categorical_crossentropy: 0.0018 - val_loss: 0.1420 - val_accuracy: 0.9680 - val_categorical_crossentropy: 0.1420\n",
      "Epoch 22/1000\n",
      "125/125 [==============================] - ETA: 0s - loss: 0.0024 - accuracy: 0.9995 - categorical_crossentropy: 0.0024\n",
      "Epoch 00022: val_loss did not improve from 0.07323\n",
      "125/125 [==============================] - 14s 111ms/step - loss: 0.0024 - accuracy: 0.9995 - categorical_crossentropy: 0.0024 - val_loss: 0.0820 - val_accuracy: 0.9780 - val_categorical_crossentropy: 0.0820\n",
      "Epoch 23/1000\n",
      "125/125 [==============================] - ETA: 0s - loss: 0.0021 - accuracy: 0.9992 - categorical_crossentropy: 0.0021\n",
      "Epoch 00023: val_loss did not improve from 0.07323\n",
      "125/125 [==============================] - 14s 112ms/step - loss: 0.0021 - accuracy: 0.9992 - categorical_crossentropy: 0.0021 - val_loss: 0.1303 - val_accuracy: 0.9740 - val_categorical_crossentropy: 0.1303\n",
      "Epoch 24/1000\n",
      "125/125 [==============================] - ETA: 0s - loss: 0.0014 - accuracy: 0.9995 - categorical_crossentropy: 0.0014\n",
      "Epoch 00024: val_loss did not improve from 0.07323\n",
      "125/125 [==============================] - 14s 112ms/step - loss: 0.0014 - accuracy: 0.9995 - categorical_crossentropy: 0.0014 - val_loss: 0.1343 - val_accuracy: 0.9770 - val_categorical_crossentropy: 0.1343\n",
      "Epoch 25/1000\n",
      "125/125 [==============================] - ETA: 0s - loss: 0.0017 - accuracy: 0.9992 - categorical_crossentropy: 0.0017\n",
      "Epoch 00025: val_loss did not improve from 0.07323\n",
      "125/125 [==============================] - 14s 111ms/step - loss: 0.0017 - accuracy: 0.9992 - categorical_crossentropy: 0.0017 - val_loss: 0.0912 - val_accuracy: 0.9810 - val_categorical_crossentropy: 0.0912\n",
      "Epoch 26/1000\n",
      "125/125 [==============================] - ETA: 0s - loss: 4.5638e-04 - accuracy: 1.0000 - categorical_crossentropy: 4.5638e-04\n",
      "Epoch 00026: val_loss did not improve from 0.07323\n",
      "125/125 [==============================] - 14s 112ms/step - loss: 4.5638e-04 - accuracy: 1.0000 - categorical_crossentropy: 4.5638e-04 - val_loss: 0.0903 - val_accuracy: 0.9820 - val_categorical_crossentropy: 0.0903\n",
      "Epoch 27/1000\n",
      "125/125 [==============================] - ETA: 0s - loss: 4.5538e-04 - accuracy: 1.0000 - categorical_crossentropy: 4.5538e-04\n",
      "Epoch 00027: val_loss did not improve from 0.07323\n",
      "125/125 [==============================] - 14s 113ms/step - loss: 4.5538e-04 - accuracy: 1.0000 - categorical_crossentropy: 4.5538e-04 - val_loss: 0.1160 - val_accuracy: 0.9740 - val_categorical_crossentropy: 0.1160\n",
      "Epoch 28/1000\n",
      "125/125 [==============================] - ETA: 0s - loss: 1.6841e-04 - accuracy: 1.0000 - categorical_crossentropy: 1.6841e-04\n",
      "Epoch 00028: val_loss did not improve from 0.07323\n",
      "125/125 [==============================] - 14s 112ms/step - loss: 1.6841e-04 - accuracy: 1.0000 - categorical_crossentropy: 1.6841e-04 - val_loss: 0.1251 - val_accuracy: 0.9740 - val_categorical_crossentropy: 0.1251\n",
      "Epoch 29/1000\n",
      "125/125 [==============================] - ETA: 0s - loss: 0.0018 - accuracy: 0.9995 - categorical_crossentropy: 0.0018\n",
      "Epoch 00029: val_loss did not improve from 0.07323\n",
      "125/125 [==============================] - 14s 112ms/step - loss: 0.0018 - accuracy: 0.9995 - categorical_crossentropy: 0.0018 - val_loss: 0.1153 - val_accuracy: 0.9790 - val_categorical_crossentropy: 0.1153\n",
      "Epoch 30/1000\n",
      "125/125 [==============================] - ETA: 0s - loss: 6.8141e-04 - accuracy: 1.0000 - categorical_crossentropy: 6.8141e-04\n",
      "Epoch 00030: val_loss did not improve from 0.07323\n",
      "125/125 [==============================] - 14s 111ms/step - loss: 6.8141e-04 - accuracy: 1.0000 - categorical_crossentropy: 6.8141e-04 - val_loss: 0.1283 - val_accuracy: 0.9730 - val_categorical_crossentropy: 0.1283\n",
      "Epoch 31/1000\n",
      "125/125 [==============================] - ETA: 0s - loss: 6.2895e-04 - accuracy: 0.9998 - categorical_crossentropy: 6.2895e-04\n",
      "Epoch 00031: val_loss did not improve from 0.07323\n",
      "125/125 [==============================] - 14s 111ms/step - loss: 6.2895e-04 - accuracy: 0.9998 - categorical_crossentropy: 6.2895e-04 - val_loss: 0.1494 - val_accuracy: 0.9700 - val_categorical_crossentropy: 0.1494\n",
      "Epoch 32/1000\n",
      "125/125 [==============================] - ETA: 0s - loss: 3.7919e-04 - accuracy: 1.0000 - categorical_crossentropy: 3.7919e-04\n",
      "Epoch 00032: val_loss did not improve from 0.07323\n",
      "125/125 [==============================] - 14s 111ms/step - loss: 3.7919e-04 - accuracy: 1.0000 - categorical_crossentropy: 3.7919e-04 - val_loss: 0.1095 - val_accuracy: 0.9780 - val_categorical_crossentropy: 0.1095\n",
      "Epoch 33/1000\n",
      "125/125 [==============================] - ETA: 0s - loss: 0.0033 - accuracy: 0.9987 - categorical_crossentropy: 0.0033\n",
      "Epoch 00033: val_loss did not improve from 0.07323\n",
      "125/125 [==============================] - 14s 112ms/step - loss: 0.0033 - accuracy: 0.9987 - categorical_crossentropy: 0.0033 - val_loss: 0.1255 - val_accuracy: 0.9730 - val_categorical_crossentropy: 0.1255\n",
      "Epoch 34/1000\n",
      "125/125 [==============================] - ETA: 0s - loss: 0.0011 - accuracy: 0.9998 - categorical_crossentropy: 0.0011\n",
      "Epoch 00034: val_loss did not improve from 0.07323\n",
      "125/125 [==============================] - 14s 112ms/step - loss: 0.0011 - accuracy: 0.9998 - categorical_crossentropy: 0.0011 - val_loss: 0.0879 - val_accuracy: 0.9790 - val_categorical_crossentropy: 0.0879\n",
      "Epoch 35/1000\n",
      "125/125 [==============================] - ETA: 0s - loss: 0.0089 - accuracy: 0.9973 - categorical_crossentropy: 0.0089\n",
      "Epoch 00035: val_loss did not improve from 0.07323\n",
      "125/125 [==============================] - 14s 112ms/step - loss: 0.0089 - accuracy: 0.9973 - categorical_crossentropy: 0.0089 - val_loss: 0.0955 - val_accuracy: 0.9780 - val_categorical_crossentropy: 0.0955\n",
      "Epoch 36/1000\n",
      "125/125 [==============================] - ETA: 0s - loss: 3.7436e-04 - accuracy: 1.0000 - categorical_crossentropy: 3.7436e-04\n",
      "Epoch 00036: val_loss did not improve from 0.07323\n",
      "125/125 [==============================] - 14s 111ms/step - loss: 3.7436e-04 - accuracy: 1.0000 - categorical_crossentropy: 3.7436e-04 - val_loss: 0.1329 - val_accuracy: 0.9770 - val_categorical_crossentropy: 0.1329\n",
      "Epoch 37/1000\n",
      "125/125 [==============================] - ETA: 0s - loss: 7.6427e-04 - accuracy: 0.9998 - categorical_crossentropy: 7.6427e-04\n",
      "Epoch 00037: val_loss did not improve from 0.07323\n",
      "125/125 [==============================] - 14s 112ms/step - loss: 7.6427e-04 - accuracy: 0.9998 - categorical_crossentropy: 7.6427e-04 - val_loss: 0.1571 - val_accuracy: 0.9720 - val_categorical_crossentropy: 0.1571\n",
      "Epoch 38/1000\n",
      "125/125 [==============================] - ETA: 0s - loss: 3.2001e-04 - accuracy: 1.0000 - categorical_crossentropy: 3.2001e-04\n",
      "Epoch 00038: val_loss did not improve from 0.07323\n",
      "125/125 [==============================] - 14s 111ms/step - loss: 3.2001e-04 - accuracy: 1.0000 - categorical_crossentropy: 3.2001e-04 - val_loss: 0.1504 - val_accuracy: 0.9760 - val_categorical_crossentropy: 0.1504\n",
      "Epoch 39/1000\n",
      "125/125 [==============================] - ETA: 0s - loss: 9.0607e-04 - accuracy: 0.9995 - categorical_crossentropy: 9.0607e-04\n",
      "Epoch 00039: val_loss did not improve from 0.07323\n",
      "125/125 [==============================] - 14s 111ms/step - loss: 9.0607e-04 - accuracy: 0.9995 - categorical_crossentropy: 9.0607e-04 - val_loss: 0.0818 - val_accuracy: 0.9860 - val_categorical_crossentropy: 0.0818\n",
      "Epoch 40/1000\n",
      "125/125 [==============================] - ETA: 0s - loss: 3.1005e-04 - accuracy: 1.0000 - categorical_crossentropy: 3.1005e-04\n",
      "Epoch 00040: val_loss did not improve from 0.07323\n",
      "125/125 [==============================] - 14s 110ms/step - loss: 3.1005e-04 - accuracy: 1.0000 - categorical_crossentropy: 3.1005e-04 - val_loss: 0.1843 - val_accuracy: 0.9700 - val_categorical_crossentropy: 0.1843\n"
     ]
    },
    {
     "name": "stdout",
     "output_type": "stream",
     "text": [
      "Epoch 41/1000\n",
      "125/125 [==============================] - ETA: 0s - loss: 1.0832e-04 - accuracy: 1.0000 - categorical_crossentropy: 1.0832e-04\n",
      "Epoch 00041: val_loss did not improve from 0.07323\n",
      "125/125 [==============================] - 14s 111ms/step - loss: 1.0832e-04 - accuracy: 1.0000 - categorical_crossentropy: 1.0832e-04 - val_loss: 0.1302 - val_accuracy: 0.9760 - val_categorical_crossentropy: 0.1302\n",
      "Epoch 42/1000\n",
      "125/125 [==============================] - ETA: 0s - loss: 1.3381e-04 - accuracy: 1.0000 - categorical_crossentropy: 1.3381e-04\n",
      "Epoch 00042: val_loss did not improve from 0.07323\n",
      "125/125 [==============================] - 14s 113ms/step - loss: 1.3381e-04 - accuracy: 1.0000 - categorical_crossentropy: 1.3381e-04 - val_loss: 0.1351 - val_accuracy: 0.9740 - val_categorical_crossentropy: 0.1351\n",
      "Epoch 43/1000\n",
      "125/125 [==============================] - ETA: 0s - loss: 3.0168e-05 - accuracy: 1.0000 - categorical_crossentropy: 3.0168e-05\n",
      "Epoch 00043: val_loss did not improve from 0.07323\n",
      "125/125 [==============================] - 14s 112ms/step - loss: 3.0168e-05 - accuracy: 1.0000 - categorical_crossentropy: 3.0168e-05 - val_loss: 0.1261 - val_accuracy: 0.9810 - val_categorical_crossentropy: 0.1261\n",
      "Epoch 44/1000\n",
      "125/125 [==============================] - ETA: 0s - loss: 0.0067 - accuracy: 0.9977 - categorical_crossentropy: 0.0067\n",
      "Epoch 00044: val_loss did not improve from 0.07323\n",
      "125/125 [==============================] - 14s 114ms/step - loss: 0.0067 - accuracy: 0.9977 - categorical_crossentropy: 0.0067 - val_loss: 0.1524 - val_accuracy: 0.9770 - val_categorical_crossentropy: 0.1524\n",
      "Epoch 45/1000\n",
      "125/125 [==============================] - ETA: 0s - loss: 8.1315e-04 - accuracy: 0.9998 - categorical_crossentropy: 8.1315e-04\n",
      "Epoch 00045: val_loss did not improve from 0.07323\n",
      "125/125 [==============================] - 14s 111ms/step - loss: 8.1315e-04 - accuracy: 0.9998 - categorical_crossentropy: 8.1315e-04 - val_loss: 0.1555 - val_accuracy: 0.9740 - val_categorical_crossentropy: 0.1555\n",
      "Epoch 46/1000\n",
      "125/125 [==============================] - ETA: 0s - loss: 2.6335e-04 - accuracy: 1.0000 - categorical_crossentropy: 2.6335e-04\n",
      "Epoch 00046: val_loss did not improve from 0.07323\n",
      "125/125 [==============================] - 14s 113ms/step - loss: 2.6335e-04 - accuracy: 1.0000 - categorical_crossentropy: 2.6335e-04 - val_loss: 0.1571 - val_accuracy: 0.9750 - val_categorical_crossentropy: 0.1571\n",
      "Epoch 47/1000\n",
      "125/125 [==============================] - ETA: 0s - loss: 2.0911e-04 - accuracy: 1.0000 - categorical_crossentropy: 2.0911e-04\n",
      "Epoch 00047: val_loss did not improve from 0.07323\n",
      "125/125 [==============================] - 14s 111ms/step - loss: 2.0911e-04 - accuracy: 1.0000 - categorical_crossentropy: 2.0911e-04 - val_loss: 0.1056 - val_accuracy: 0.9790 - val_categorical_crossentropy: 0.1056\n",
      "Epoch 48/1000\n",
      "125/125 [==============================] - ETA: 0s - loss: 2.5881e-04 - accuracy: 1.0000 - categorical_crossentropy: 2.5881e-04\n",
      "Epoch 00048: val_loss did not improve from 0.07323\n",
      "125/125 [==============================] - 14s 111ms/step - loss: 2.5881e-04 - accuracy: 1.0000 - categorical_crossentropy: 2.5881e-04 - val_loss: 0.0871 - val_accuracy: 0.9770 - val_categorical_crossentropy: 0.0871\n",
      "Epoch 49/1000\n",
      "125/125 [==============================] - ETA: 0s - loss: 1.4522e-04 - accuracy: 1.0000 - categorical_crossentropy: 1.4522e-04\n",
      "Epoch 00049: val_loss did not improve from 0.07323\n",
      "125/125 [==============================] - 14s 112ms/step - loss: 1.4522e-04 - accuracy: 1.0000 - categorical_crossentropy: 1.4522e-04 - val_loss: 0.1122 - val_accuracy: 0.9820 - val_categorical_crossentropy: 0.1122\n",
      "Epoch 50/1000\n",
      "125/125 [==============================] - ETA: 0s - loss: 8.9126e-05 - accuracy: 1.0000 - categorical_crossentropy: 8.9126e-05\n",
      "Epoch 00050: val_loss did not improve from 0.07323\n",
      "125/125 [==============================] - 14s 111ms/step - loss: 8.9126e-05 - accuracy: 1.0000 - categorical_crossentropy: 8.9126e-05 - val_loss: 0.1430 - val_accuracy: 0.9700 - val_categorical_crossentropy: 0.1430\n",
      "Epoch 51/1000\n",
      "125/125 [==============================] - ETA: 0s - loss: 3.0248e-05 - accuracy: 1.0000 - categorical_crossentropy: 3.0248e-05\n",
      "Epoch 00051: val_loss did not improve from 0.07323\n",
      "125/125 [==============================] - 14s 111ms/step - loss: 3.0248e-05 - accuracy: 1.0000 - categorical_crossentropy: 3.0248e-05 - val_loss: 0.0808 - val_accuracy: 0.9860 - val_categorical_crossentropy: 0.0808\n",
      "Epoch 52/1000\n",
      "125/125 [==============================] - ETA: 0s - loss: 0.0014 - accuracy: 0.9998 - categorical_crossentropy: 0.0014\n",
      "Epoch 00052: val_loss did not improve from 0.07323\n",
      "125/125 [==============================] - 14s 113ms/step - loss: 0.0014 - accuracy: 0.9998 - categorical_crossentropy: 0.0014 - val_loss: 0.1428 - val_accuracy: 0.9720 - val_categorical_crossentropy: 0.1428\n",
      "Epoch 53/1000\n",
      "125/125 [==============================] - ETA: 0s - loss: 5.5567e-04 - accuracy: 0.9998 - categorical_crossentropy: 5.5567e-04\n",
      "Epoch 00053: val_loss did not improve from 0.07323\n",
      "125/125 [==============================] - 14s 112ms/step - loss: 5.5567e-04 - accuracy: 0.9998 - categorical_crossentropy: 5.5567e-04 - val_loss: 0.0777 - val_accuracy: 0.9810 - val_categorical_crossentropy: 0.0777\n",
      "Epoch 54/1000\n",
      "125/125 [==============================] - ETA: 0s - loss: 0.0044 - accuracy: 0.9990 - categorical_crossentropy: 0.0044\n",
      "Epoch 00054: val_loss did not improve from 0.07323\n",
      "125/125 [==============================] - 14s 111ms/step - loss: 0.0044 - accuracy: 0.9990 - categorical_crossentropy: 0.0044 - val_loss: 0.1608 - val_accuracy: 0.9740 - val_categorical_crossentropy: 0.1608\n",
      "Epoch 55/1000\n",
      "125/125 [==============================] - ETA: 0s - loss: 0.0068 - accuracy: 0.9975 - categorical_crossentropy: 0.0068\n",
      "Epoch 00055: val_loss did not improve from 0.07323\n",
      "125/125 [==============================] - 14s 113ms/step - loss: 0.0068 - accuracy: 0.9975 - categorical_crossentropy: 0.0068 - val_loss: 0.1311 - val_accuracy: 0.9750 - val_categorical_crossentropy: 0.1311\n",
      "Epoch 56/1000\n",
      "125/125 [==============================] - ETA: 0s - loss: 2.3323e-04 - accuracy: 1.0000 - categorical_crossentropy: 2.3323e-04\n",
      "Epoch 00056: val_loss did not improve from 0.07323\n",
      "125/125 [==============================] - 14s 112ms/step - loss: 2.3323e-04 - accuracy: 1.0000 - categorical_crossentropy: 2.3323e-04 - val_loss: 0.0992 - val_accuracy: 0.9800 - val_categorical_crossentropy: 0.0992\n",
      "Epoch 57/1000\n",
      "125/125 [==============================] - ETA: 0s - loss: 9.1546e-05 - accuracy: 1.0000 - categorical_crossentropy: 9.1546e-05\n",
      "Epoch 00057: val_loss did not improve from 0.07323\n",
      "125/125 [==============================] - 14s 111ms/step - loss: 9.1546e-05 - accuracy: 1.0000 - categorical_crossentropy: 9.1546e-05 - val_loss: 0.1801 - val_accuracy: 0.9700 - val_categorical_crossentropy: 0.1801\n",
      "Epoch 58/1000\n",
      "125/125 [==============================] - ETA: 0s - loss: 3.9172e-04 - accuracy: 0.9998 - categorical_crossentropy: 3.9172e-04\n",
      "Epoch 00058: val_loss did not improve from 0.07323\n",
      "125/125 [==============================] - 14s 110ms/step - loss: 3.9172e-04 - accuracy: 0.9998 - categorical_crossentropy: 3.9172e-04 - val_loss: 0.2277 - val_accuracy: 0.9710 - val_categorical_crossentropy: 0.2277\n",
      "Epoch 59/1000\n",
      "125/125 [==============================] - ETA: 0s - loss: 0.0011 - accuracy: 0.9995 - categorical_crossentropy: 0.0011\n",
      "Epoch 00059: val_loss did not improve from 0.07323\n",
      "125/125 [==============================] - 14s 111ms/step - loss: 0.0011 - accuracy: 0.9995 - categorical_crossentropy: 0.0011 - val_loss: 0.1254 - val_accuracy: 0.9770 - val_categorical_crossentropy: 0.1254\n",
      "Epoch 60/1000\n",
      "125/125 [==============================] - ETA: 0s - loss: 0.0048 - accuracy: 0.9983 - categorical_crossentropy: 0.0048\n",
      "Epoch 00060: val_loss did not improve from 0.07323\n",
      "125/125 [==============================] - 14s 111ms/step - loss: 0.0048 - accuracy: 0.9983 - categorical_crossentropy: 0.0048 - val_loss: 0.1859 - val_accuracy: 0.9800 - val_categorical_crossentropy: 0.1859\n",
      "Epoch 61/1000\n",
      "125/125 [==============================] - ETA: 0s - loss: 0.0020 - accuracy: 0.9995 - categorical_crossentropy: 0.0020\n",
      "Epoch 00061: val_loss did not improve from 0.07323\n",
      "125/125 [==============================] - 14s 111ms/step - loss: 0.0020 - accuracy: 0.9995 - categorical_crossentropy: 0.0020 - val_loss: 0.1114 - val_accuracy: 0.9770 - val_categorical_crossentropy: 0.1114\n",
      "Epoch 62/1000\n",
      "125/125 [==============================] - ETA: 0s - loss: 0.0042 - accuracy: 0.9998 - categorical_crossentropy: 0.0042\n",
      "Epoch 00062: val_loss did not improve from 0.07323\n",
      "125/125 [==============================] - 14s 110ms/step - loss: 0.0042 - accuracy: 0.9998 - categorical_crossentropy: 0.0042 - val_loss: 0.0919 - val_accuracy: 0.9770 - val_categorical_crossentropy: 0.0919\n",
      "Epoch 63/1000\n",
      "125/125 [==============================] - ETA: 0s - loss: 0.0041 - accuracy: 0.9985 - categorical_crossentropy: 0.0041\n",
      "Epoch 00063: val_loss did not improve from 0.07323\n",
      "125/125 [==============================] - 14s 110ms/step - loss: 0.0041 - accuracy: 0.9985 - categorical_crossentropy: 0.0041 - val_loss: 0.1213 - val_accuracy: 0.9750 - val_categorical_crossentropy: 0.1213\n",
      "Epoch 64/1000\n",
      "125/125 [==============================] - ETA: 0s - loss: 5.5613e-05 - accuracy: 1.0000 - categorical_crossentropy: 5.5613e-05\n",
      "Epoch 00064: val_loss did not improve from 0.07323\n",
      "125/125 [==============================] - 14s 109ms/step - loss: 5.5613e-05 - accuracy: 1.0000 - categorical_crossentropy: 5.5613e-05 - val_loss: 0.1304 - val_accuracy: 0.9780 - val_categorical_crossentropy: 0.1304\n",
      "Epoch 65/1000\n",
      "125/125 [==============================] - ETA: 0s - loss: 3.8886e-05 - accuracy: 1.0000 - categorical_crossentropy: 3.8886e-05\n",
      "Epoch 00065: val_loss did not improve from 0.07323\n",
      "125/125 [==============================] - 14s 111ms/step - loss: 3.8886e-05 - accuracy: 1.0000 - categorical_crossentropy: 3.8886e-05 - val_loss: 0.1353 - val_accuracy: 0.9770 - val_categorical_crossentropy: 0.1353\n",
      "Epoch 66/1000\n",
      "125/125 [==============================] - ETA: 0s - loss: 6.3844e-05 - accuracy: 1.0000 - categorical_crossentropy: 6.3844e-05\n",
      "Epoch 00066: val_loss did not improve from 0.07323\n",
      "125/125 [==============================] - 14s 111ms/step - loss: 6.3844e-05 - accuracy: 1.0000 - categorical_crossentropy: 6.3844e-05 - val_loss: 0.1645 - val_accuracy: 0.9780 - val_categorical_crossentropy: 0.1645\n",
      "Epoch 67/1000\n",
      "125/125 [==============================] - ETA: 0s - loss: 3.2319e-05 - accuracy: 1.0000 - categorical_crossentropy: 3.2319e-05\n",
      "Epoch 00067: val_loss did not improve from 0.07323\n",
      "125/125 [==============================] - 14s 110ms/step - loss: 3.2319e-05 - accuracy: 1.0000 - categorical_crossentropy: 3.2319e-05 - val_loss: 0.1230 - val_accuracy: 0.9780 - val_categorical_crossentropy: 0.1230\n",
      "Epoch 68/1000\n",
      "125/125 [==============================] - ETA: 0s - loss: 5.4232e-05 - accuracy: 1.0000 - categorical_crossentropy: 5.4232e-05\n",
      "Epoch 00068: val_loss did not improve from 0.07323\n",
      "125/125 [==============================] - 14s 110ms/step - loss: 5.4232e-05 - accuracy: 1.0000 - categorical_crossentropy: 5.4232e-05 - val_loss: 0.1245 - val_accuracy: 0.9770 - val_categorical_crossentropy: 0.1245\n",
      "Epoch 00068: early stopping\n"
     ]
    }
   ],
   "source": [
    "# Train model\n",
    "es = EarlyStopping(monitor='val_loss', mode='min', verbose=1, patience=50)\n",
    "mc = ModelCheckpoint(save_model_path, monitor='val_loss', mode='min', verbose=1, save_best_only=True)\n",
    "\n",
    "epochs = 1000\n",
    "\n",
    "history = model.fit(datagen_flow_train,\n",
    "                            epochs = epochs,\n",
    "                            steps_per_epoch = len(datagen_flow_train),\n",
    "                            validation_data = datagen_flow_val,\n",
    "                            validation_steps = len(datagen_flow_val),\n",
    "                            callbacks=[es, mc]\n",
    "                           )"
   ]
  },
  {
   "cell_type": "code",
   "execution_count": 10,
   "metadata": {},
   "outputs": [
    {
     "data": {
      "image/png": "[encoded data removed]",
      "text/plain": [
       "<Figure size 432x288 with 1 Axes>"
      ]
     },
     "metadata": {
      "needs_background": "light"
     },
     "output_type": "display_data"
    }
   ],
   "source": [
    "plt.plot(history.history['accuracy'])\n",
    "plt.plot(history.history['val_accuracy'])\n",
    "plt.title('Model accuracy')\n",
    "plt.ylabel('Accuracy')\n",
    "plt.xlabel('Epoch')\n",
    "plt.legend(['Train', 'Validation'], loc='upper left')\n",
    "plt.show()"
   ]
  },
  {
   "cell_type": "code",
   "execution_count": null,
   "metadata": {},
   "outputs": [],
   "source": []
  }
 ],
 "metadata": {
  "kernelspec": {
   "display_name": "Python 3",
   "language": "python",
   "name": "python3"
  },
  "language_info": {
   "codemirror_mode": {
    "name": "ipython",
    "version": 3
   },
   "file_extension": ".py",
   "mimetype": "text/x-python",
   "name": "python",
   "nbconvert_exporter": "python",
   "pygments_lexer": "ipython3",
   "version": "3.7.6"
  }
 },
 "nbformat": 4,
 "nbformat_minor": 4
}
