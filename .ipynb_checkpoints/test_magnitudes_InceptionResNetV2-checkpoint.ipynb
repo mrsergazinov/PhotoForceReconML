{
 "cells": [
  {
   "cell_type": "markdown",
   "metadata": {},
   "source": [
    "#### Loading libraries"
   ]
  },
  {
   "cell_type": "code",
   "execution_count": 1,
   "metadata": {},
   "outputs": [],
   "source": [
    "# Load tensorflow\n",
    "import tensorflow as tf\n",
    "# Below command is to avoid the known bug which prevents computation on some GPU devices\n",
    "physical_devices = tf.config.experimental.list_physical_devices('GPU')\n",
    "assert len(physical_devices) > 0, \"Not enough GPU hardware devices available\"\n",
    "tf.config.experimental.set_memory_growth(physical_devices[0], True)\n",
    "# Load preprocessing tools\n",
    "from scipy.ndimage.filters import gaussian_filter\n",
    "from tensorflow.keras.utils import to_categorical\n",
    "from PIL import Image\n",
    "# Load model building blocks\n",
    "from tensorflow.keras import Input\n",
    "from tensorflow.keras.models import Model, load_model\n",
    "from tensorflow.keras.layers import Dense, Flatten, Dropout, GlobalAveragePooling2D\n",
    "from tensorflow.keras.callbacks import EarlyStopping\n",
    "from tensorflow.keras.callbacks import ModelCheckpoint\n",
    "# Load pre-trained model library\n",
    "from tensorflow.keras import applications\n",
    "# Load miscelaneous libraries\n",
    "import numpy as np\n",
    "import os\n",
    "import matplotlib.pylab as plt\n",
    "import gc\n",
    "# Settings to set the max output of numpy to infty\n",
    "# import sys\n",
    "# np.set_printoptions(threshold=sys.maxsize)"
   ]
  },
  {
   "cell_type": "markdown",
   "metadata": {},
   "source": [
    "#### Define image processor and data generator"
   ]
  },
  {
   "cell_type": "code",
   "execution_count": 2,
   "metadata": {},
   "outputs": [],
   "source": [
    "# Define gaussian blur class\n",
    "class GaussBlur:\n",
    "    def __init__(self, radius):\n",
    "        self.radius = radius\n",
    "    def blur(self, image):\n",
    "        return gaussian_filter(image, sigma = self.radius)"
   ]
  },
  {
   "cell_type": "code",
   "execution_count": 3,
   "metadata": {},
   "outputs": [],
   "source": [
    "# Define class for data generation\n",
    "class DataGenerator:\n",
    "    'Generates data for Keras'\n",
    "    def __init__(self, list_image_paths = None,  \n",
    "                 dim = None,\n",
    "                 n_channels = 3, \n",
    "                 rescale = 1, \n",
    "                 preprocessing_func = None):\n",
    "        'Initialization'\n",
    "        self.list_image_paths = list_image_paths\n",
    "        self.dim = dim\n",
    "        self.n_channels = n_channels\n",
    "        self.rescale = rescale\n",
    "        self.preprocessing_func = preprocessing_func\n",
    "\n",
    "    def generate(self):\n",
    "        'Generates data containing batch_size samples' # X : (n_samples, *dim, n_channels)\n",
    "        \n",
    "        # Initialisation\n",
    "        X = np.empty((len(self.list_image_paths), *self.dim, self.n_channels))\n",
    "        \n",
    "        # Generate data\n",
    "        for i, image_path in enumerate(self.list_image_paths):\n",
    "            # Load image and transform\n",
    "            image = Image.open(os.path.join(image_path))\n",
    "            if self.dim is not None:\n",
    "                image = image.resize(self.dim, resample = Image.NEAREST)\n",
    "            image = np.array(image)[:, :, :self.n_channels]\n",
    "            image = image * self.rescale\n",
    "            if self.preprocessing_func is not None:\n",
    "                image = self.preprocessing_func(image)\n",
    "            # Store sample\n",
    "            X[i,] = image\n",
    "\n",
    "        return X"
   ]
  },
  {
   "cell_type": "code",
   "execution_count": 4,
   "metadata": {},
   "outputs": [],
   "source": [
    "# Define algorithm for reordering the data based on the index array\n",
    "def reorder(ind, arr):\n",
    "    new_arr = np.zeros(arr.shape)\n",
    "    for i in range(len(arr)):\n",
    "        new_arr[i] = arr[ind[i]]\n",
    "    return new_arr  \n",
    "\n",
    "def order_labels(y_lai, y_lm, y_lat):\n",
    "    y_lm_reord = dict()\n",
    "    y_lai_reord = dict()\n",
    "    y_lat_reord = dict()\n",
    "    # Perform reording\n",
    "    for k in range(5):\n",
    "        i = k + 2\n",
    "        y_lai_reord[i] = np.sort(y_lai[i], axis = -1) \n",
    "        ind_matrix = np.argsort(y_lai[i], axis = -1)\n",
    "        y_lm_reord[i] = np.array([reorder(ind_matrix[j,:], y_lm[i][j,:]) for j in range(y_lm[i].shape[0])])\n",
    "        y_lat_reord[i] = np.array([reorder(ind_matrix[j,:], y_lat[i][j,:]) for j in range(y_lat[i].shape[0])])\n",
    "    return y_lai_reord, y_lm_reord, y_lat_reord"
   ]
  },
  {
   "cell_type": "code",
   "execution_count": 5,
   "metadata": {},
   "outputs": [],
   "source": [
    "# Define sorter of image names in order by image number (default is alphanumric)\n",
    "def sorter(item):\n",
    "    # Since highest marks first, least error = most marks\n",
    "    radius = float(item[1 : item.find('_')])\n",
    "    num_img = int(item[item.find('g') + 1 : item.find('j') - 1])\n",
    "    return (radius, num_img)"
   ]
  },
  {
   "cell_type": "markdown",
   "metadata": {},
   "source": [
    "#### Load the data"
   ]
  },
  {
   "cell_type": "code",
   "execution_count": 6,
   "metadata": {},
   "outputs": [],
   "source": [
    "# Extract image paths\n",
    "img_paths = {}\n",
    "for k in range(5):\n",
    "    i = k + 2\n",
    "    path_prefix = os.path.join(os.getcwd(), 'image_data', 'test', str(i))\n",
    "    img_paths[i] = [os.path.join(path_prefix, name) for name in sorted(os.listdir(path_prefix), key = sorter)]\n",
    "\n",
    "# Apply data generators\n",
    "gaussblur = GaussBlur(1)\n",
    "params = {'dim': (128, 128), \n",
    "          'n_channels': 3, \n",
    "          'rescale': 1 / 255, \n",
    "          'preprocessing_func': gaussblur.blur\n",
    "          }\n",
    "test_generator = {}\n",
    "for k in range(5):\n",
    "    i = k + 2\n",
    "    test_generator[i] = DataGenerator(img_paths[i], **params)\n",
    "    \n",
    "# Load images (for all number of forces) as matrix\n",
    "X = dict()\n",
    "for k in range(5):\n",
    "    i = k + 2\n",
    "    X[i] = test_generator[i].generate()"
   ]
  },
  {
   "cell_type": "code",
   "execution_count": 7,
   "metadata": {},
   "outputs": [],
   "source": [
    "# Load angle labels\n",
    "path_prefix = os.path.join(os.getcwd(), 'labels', 'test')\n",
    "y_lai = dict()\n",
    "for k in range(5):\n",
    "    i = k + 2\n",
    "    path = os.path.join(path_prefix, str(i))\n",
    "    y_lai[i] = np.load(os.path.join(path,'mags.npy'))"
   ]
  },
  {
   "cell_type": "code",
   "execution_count": 8,
   "metadata": {},
   "outputs": [],
   "source": [
    "# Load models\n",
    "models_path = os.path.join(os.getcwd(), 'models')\n",
    "\n",
    "model_class = load_model(os.path.join(models_path, 'InceptionResNetV2_num_forces.h5'))                       "
   ]
  },
  {
   "cell_type": "code",
   "execution_count": 9,
   "metadata": {},
   "outputs": [],
   "source": [
    "# predict class\n",
    "predicted_class = dict()\n",
    "indices_correct_class = dict()\n",
    "indices_incorrect_class = dict()\n",
    "predicted_incorrect_class = dict()\n",
    "for k in range(5):\n",
    "    i = k + 2\n",
    "    predicted_class[i] = model_class.predict(X[i]).argmax(-1)+2\n",
    "    indices_correct_class[i] = np.argwhere(predicted_class[i] == i).flatten().tolist()\n",
    "    indices_incorrect_class[i] = np.argwhere(predicted_class[i] != i).flatten().tolist()\n",
    "    predicted_incorrect_class[i] = predicted_class[i][indices_incorrect_class[i]]"
   ]
  },
  {
   "cell_type": "code",
   "execution_count": 10,
   "metadata": {},
   "outputs": [],
   "source": [
    "models_ai = dict()                         \n",
    "for k in range(5):\n",
    "     i = k + 2\n",
    "     models_ai[i] = load_model(os.path.join(models_path, 'InceptionResNetV2_mags_'+str(i)+'.h5'))"
   ]
  },
  {
   "cell_type": "code",
   "execution_count": 11,
   "metadata": {},
   "outputs": [
    {
     "name": "stdout",
     "output_type": "stream",
     "text": [
      "Num forces:  2\n",
      "125/125 [==============================] - 5s 40ms/step - loss: 0.0037 - mean_absolute_error: 0.0037\n",
      "Num forces:  3\n",
      "125/125 [==============================] - 5s 40ms/step - loss: 0.0208 - mean_absolute_error: 0.0208\n",
      "Num forces:  4\n",
      "125/125 [==============================] - 124s 994ms/step - loss: 0.0378 - mean_absolute_error: 0.0378\n",
      "Num forces:  5\n",
      "125/125 [==============================] - 134s 1s/step - loss: 0.0352 - mean_absolute_error: 0.0352\n",
      "Num forces:  6\n",
      "124/124 [==============================] - 139s 1s/step - loss: 0.0417 - mean_absolute_error: 0.0417\n"
     ]
    }
   ],
   "source": [
    "for k in range(5):\n",
    "    i = k + 2\n",
    "    print(\"Num forces: \", i)\n",
    "    loss = models_ai[i].evaluate(X[i][indices_correct_class[i], ], y_lai[i][indices_correct_class[i], ])"
   ]
  },
  {
   "cell_type": "code",
   "execution_count": 12,
   "metadata": {},
   "outputs": [
    {
     "name": "stdout",
     "output_type": "stream",
     "text": [
      "Num forces:  2\n",
      "Num forces:  3\n",
      "Num forces:  4\n",
      "Predicted:  [[0.76645267 0.88127315 1.0849022 ]]\n",
      "True:  [0.72908997 0.98566124 0.66852237 1.40436357]\n",
      "Difference:  1.0550092805167846\n",
      "Num forces:  5\n",
      "Predicted:  [[0.01686719 0.02409827 0.0208751  0.02136923 0.01936121 0.01986308]]\n",
      "True:  [0.02380837 0.01757172 0.01935316 0.01808236 0.02317286]\n",
      "Difference:  0.020445616477124298\n",
      "Predicted:  [[0.25989276 0.1546325  0.17716785 0.17853102]]\n",
      "True:  [0.25515731 0.1081789  0.16584061 0.15330085 0.09681757]\n",
      "Difference:  0.009071141272995797\n",
      "Predicted:  [[0.26113212 0.15436623 0.18400538 0.18955013]]\n",
      "True:  [0.25515731 0.1081789  0.16584061 0.15330085 0.09681757]\n",
      "Difference:  0.009758681267287406\n",
      "Predicted:  [[0.24547476 0.14580731 0.17487916 0.17727056]]\n",
      "True:  [0.25515731 0.1081789  0.16584061 0.15330085 0.09681757]\n",
      "Difference:  0.03586342909953388\n",
      "Predicted:  [[0.09789623 0.05366202 0.06335273 0.05334696]]\n",
      "True:  [0.11617361 0.0554022  0.06942852 0.05282908 0.04048098]\n",
      "Difference:  0.06605644600360222\n",
      "Predicted:  [[0.11000109 0.05654811 0.06359935 0.05742487]]\n",
      "True:  [0.11617361 0.0554022  0.06942852 0.05282908 0.04048098]\n",
      "Difference:  0.04674099462001152\n",
      "Predicted:  [[0.02212892 0.02172824 0.01827248 0.03176143]]\n",
      "True:  [0.03385615 0.01331474 0.01646681 0.01968375 0.01826141]\n",
      "Difference:  0.007691770466582676\n",
      "Predicted:  [[0.02680784 0.02872319 0.02606344 0.03814563]]\n",
      "True:  [0.03385615 0.01331474 0.01646681 0.01968375 0.01826141]\n",
      "Difference:  0.01815725895522366\n",
      "Predicted:  [[0.02632417 0.02453361 0.02055278 0.03087356]]\n",
      "True:  [0.03385615 0.01331474 0.01646681 0.01968375 0.01826141]\n",
      "Difference:  0.0007012713229490319\n",
      "Predicted:  [[0.10049805 0.06398892 0.07286224 0.08324559 0.08006589 0.08961797]]\n",
      "True:  [0.11186049 0.05978533 0.10393431 0.08611521 0.07105284]\n",
      "Difference:  0.05753048301826402\n",
      "Predicted:  [[0.8751083  0.6602867  0.7996023  0.79553694]]\n",
      "True:  [0.78964349 0.73999365 0.75391857 0.60767796 0.70456984]\n",
      "Difference:  0.46526909466546273\n",
      "Predicted:  [[0.8938933  0.69256943 0.7063455  0.8408748 ]]\n",
      "True:  [0.70456984 0.78964349 0.73999365 0.75391857 0.60767796]\n",
      "Difference:  0.46212030049126795\n",
      "Predicted:  [[0.90233064 0.67309624 0.6930726  0.9206879 ]]\n",
      "True:  [0.70456984 0.78964349 0.73999365 0.75391857 0.60767796]\n",
      "Difference:  0.4066162168578451\n",
      "Num forces:  6\n",
      "Predicted:  [[0.45314908 0.42594603 0.309188   0.3483325  0.40969414]]\n",
      "True:  [0.41882512 0.40080054 0.38630147 0.24691964 0.3362308  0.30206279]\n",
      "Difference:  0.14483054792105365\n",
      "Predicted:  [[0.20594463 0.26800433 0.20805311 0.20753998 0.31357998]]\n",
      "True:  [0.20889899 0.26655272 0.1428542  0.2173013  0.32561239 0.18297912]\n",
      "Difference:  0.14107670176669984\n",
      "Predicted:  [[0.19864115 0.26249662 0.19503699 0.20694464 0.30883303]]\n",
      "True:  [0.20889899 0.26655272 0.1428542  0.2173013  0.32561239 0.18297912]\n",
      "Difference:  0.17224623549625306\n",
      "Predicted:  [[0.17540875 0.23355544 0.1794258  0.19616203 0.27433947]]\n",
      "True:  [0.20889899 0.26655272 0.1428542  0.2173013  0.32561239 0.18297912]\n",
      "Difference:  0.2853071867291632\n",
      "Predicted:  [[0.17899889 0.25136226 0.18625842 0.19815695 0.28947544]]\n",
      "True:  [0.20889899 0.26655272 0.1428542  0.2173013  0.32561239 0.18297912]\n",
      "Difference:  0.2399467407529059\n",
      "Predicted:  [[0.9877119  0.76612514 0.6688507  0.7929135  0.78025186]]\n",
      "True:  [1.34856364 0.30336567 0.59685524 0.67864365 0.7512316  0.66119928]\n",
      "Difference:  0.34400613124404966\n",
      "Predicted:  [[1.0335885  0.78586036 0.7002689  0.8425718  0.7755115 ]]\n",
      "True:  [1.34856364 0.30336567 0.59685524 0.67864365 0.7512316  0.66119928]\n",
      "Difference:  0.202057908130036\n",
      "Predicted:  [[0.9808527  0.83088744 0.7005531  0.83634245 0.850158  ]]\n",
      "True:  [1.34856364 0.30336567 0.59685524 0.67864365 0.7512316  0.66119928]\n",
      "Difference:  0.14106566722427427\n",
      "Predicted:  [[0.98085415 0.8537909  0.70982975 0.8209937  0.8510928 ]]\n",
      "True:  [1.34856364 0.30336567 0.59685524 0.67864365 0.7512316  0.66119928]\n",
      "Difference:  0.12329776103530943\n",
      "Predicted:  [[0.9643853  0.8292325  0.72235864 0.7977394  0.7902607 ]]\n",
      "True:  [1.34856364 0.30336567 0.59685524 0.67864365 0.7512316  0.66119928]\n",
      "Difference:  0.23588235194717466\n",
      "Predicted:  [[0.9059769  0.8411935  0.6997803  0.71739846 0.8292959 ]]\n",
      "True:  [1.34856364 0.30336567 0.59685524 0.67864365 0.7512316  0.66119928]\n",
      "Difference:  0.34621412570510923\n",
      "Predicted:  [[0.9887748  0.8293737  0.73932105 0.7820814  0.8853004 ]]\n",
      "True:  [1.34856364 0.30336567 0.59685524 0.67864365 0.7512316  0.66119928]\n",
      "Difference:  0.1150074702027899\n",
      "Predicted:  [[0.88978577 0.8825834  0.70765483 0.7407499  0.91258025]]\n",
      "True:  [1.34856364 0.30336567 0.59685524 0.67864365 0.7512316  0.66119928]\n",
      "Difference:  0.20650489146743833\n",
      "Predicted:  [[0.8896723 0.8640153 0.7099041 0.7357764 0.9192871]]\n",
      "True:  [1.34856364 0.30336567 0.59685524 0.67864365 0.7512316  0.66119928]\n",
      "Difference:  0.22120387370620787\n",
      "Predicted:  [[0.8153932  0.8659613  0.6623441  0.70404136 0.89781785]]\n",
      "True:  [1.34856364 0.30336567 0.59685524 0.67864365 0.7512316  0.66119928]\n",
      "Difference:  0.3943012457612616\n",
      "Predicted:  [[0.76480484 0.8780043  0.62580734 0.68608016 0.938833  ]]\n",
      "True:  [1.34856364 0.30336567 0.59685524 0.67864365 0.7512316  0.66119928]\n",
      "Difference:  0.44632942492996275\n",
      "Predicted:  [[0.89707875 0.8728636  0.67405117 0.7325813  0.89255154]]\n",
      "True:  [1.34856364 0.30336567 0.59685524 0.67864365 0.7512316  0.66119928]\n",
      "Difference:  0.27073247249160826\n",
      "Predicted:  [[0.23999672 0.2249065  0.22796416 0.21331799 0.33927712]]\n",
      "True:  [0.276269   0.0736892  0.19277494 0.2597067  0.22133745 0.38076494]\n",
      "Difference:  0.15907969461536609\n",
      "Predicted:  [[0.2475563  0.20491156 0.21948773 0.21822944 0.32650495]]\n",
      "True:  [0.276269   0.0736892  0.19277494 0.2597067  0.22133745 0.38076494]\n",
      "Difference:  0.18785228715992175\n",
      "Predicted:  [[0.2729633  0.20501736 0.21277294 0.21626502 0.32558173]]\n",
      "True:  [0.276269   0.0736892  0.19277494 0.2597067  0.22133745 0.38076494]\n",
      "Difference:  0.17194190012073718\n",
      "Predicted:  [[0.27788907 0.18883169 0.2164503  0.21452299 0.326322  ]]\n",
      "True:  [0.276269   0.0736892  0.19277494 0.2597067  0.22133745 0.38076494]\n",
      "Difference:  0.1805262802705785\n",
      "Predicted:  [[0.29016957 0.19581869 0.24177152 0.21541807 0.34452164]]\n",
      "True:  [0.276269   0.0736892  0.19277494 0.2597067  0.22133745 0.38076494]\n",
      "Difference:  0.11684277044391833\n",
      "Predicted:  [[0.26310658 0.21900687 0.25179496 0.20428106 0.35780436]]\n",
      "True:  [0.276269   0.0736892  0.19277494 0.2597067  0.22133745 0.38076494]\n",
      "Difference:  0.10854842649555407\n",
      "Predicted:  [[0.2629935  0.1828638  0.2543189  0.20395872 0.34036824]]\n",
      "True:  [0.276269   0.0736892  0.19277494 0.2597067  0.22133745 0.38076494]\n",
      "Difference:  0.16003897176838122\n",
      "Predicted:  [[0.28459328 0.19137457 0.25715154 0.20268303 0.34925896]]\n",
      "True:  [0.276269   0.0736892  0.19277494 0.2597067  0.22133745 0.38076494]\n",
      "Difference:  0.11948087202167712\n",
      "Predicted:  [[0.2930616  0.19932741 0.2677598  0.20226842 0.33443195]]\n",
      "True:  [0.276269   0.0736892  0.19277494 0.2597067  0.22133745 0.38076494]\n",
      "Difference:  0.10769298063373767\n",
      "Predicted:  [[0.27334172 0.20140669 0.24605638 0.21461833 0.31933647]]\n",
      "True:  [0.276269   0.0736892  0.19277494 0.2597067  0.22133745 0.38076494]\n",
      "Difference:  0.1497826813325902\n",
      "Predicted:  [[0.2654147  0.18847618 0.24369878 0.19989742 0.3125487 ]]\n",
      "True:  [0.276269   0.0736892  0.19277494 0.2597067  0.22133745 0.38076494]\n",
      "Difference:  0.1945064304933568\n",
      "Predicted:  [[0.25949597 0.1957834  0.22921044 0.19792463 0.32167107]]\n",
      "True:  [0.276269   0.0736892  0.19277494 0.2597067  0.22133745 0.38076494]\n",
      "Difference:  0.2004566429719945\n",
      "Predicted:  [[0.25212455 0.18909207 0.23665795 0.19653141 0.31718668]]\n",
      "True:  [0.276269   0.0736892  0.19277494 0.2597067  0.22133745 0.38076494]\n",
      "Difference:  0.21294953809833728\n",
      "Predicted:  [[0.244665   0.19271651 0.22197166 0.20419419 0.32334915]]\n",
      "True:  [0.276269   0.0736892  0.19277494 0.2597067  0.22133745 0.38076494]\n",
      "Difference:  0.2176457880601903\n",
      "Predicted:  [[0.2623664  0.21018845 0.23236743 0.21031082 0.35543695]]\n",
      "True:  [0.276269   0.0736892  0.19277494 0.2597067  0.22133745 0.38076494]\n",
      "Difference:  0.13387217508411609\n",
      "Predicted:  [[0.26553148 0.21093318 0.2310158  0.21475545 0.33550078]]\n",
      "True:  [0.276269   0.0736892  0.19277494 0.2597067  0.22133745 0.38076494]\n",
      "Difference:  0.146805548535349\n",
      "Predicted:  [[0.2567687  0.21050435 0.21040824 0.22205395 0.3177696 ]]\n",
      "True:  [0.276269   0.0736892  0.19277494 0.2597067  0.22133745 0.38076494]\n",
      "Difference:  0.1870373724565526\n",
      "Predicted:  [[0.26501927 0.1977264  0.21688119 0.21503446 0.31533286]]\n",
      "True:  [0.276269   0.0736892  0.19277494 0.2597067  0.22133745 0.38076494]\n",
      "Difference:  0.19454803453541003\n"
     ]
    }
   ],
   "source": [
    "diffs = []\n",
    "for k in range(5):\n",
    "    i = k + 2\n",
    "    print(\"Num forces: \", i)\n",
    "    if (len(indices_incorrect_class[i]) > 0):\n",
    "        for j in range(len(indices_incorrect_class[i])):\n",
    "            predicted_mags = models_ai[predicted_incorrect_class[i][j]].predict(X[i][None, indices_incorrect_class[i][j], ])\n",
    "            true_mags = y_lai[i][indices_incorrect_class[i][j], ]\n",
    "            diff = abs(np.sum(predicted_mags) - np.sum(true_mags))\n",
    "            diffs.append(diff)\n",
    "            print(\"Predicted: \", predicted_mags)\n",
    "            print(\"True: \", true_mags)\n",
    "            print(\"Difference: \", diff)      "
   ]
  },
  {
   "cell_type": "code",
   "execution_count": 13,
   "metadata": {},
   "outputs": [
    {
     "name": "stdout",
     "output_type": "stream",
     "text": [
      "Average difference:  0.19674798197232662\n"
     ]
    }
   ],
   "source": [
    "print(\"Average difference: \", sum(diffs) / len(diffs))"
   ]
  },
  {
   "cell_type": "code",
   "execution_count": 14,
   "metadata": {},
   "outputs": [
    {
     "data": {
      "text/plain": [
       "{2: [],\n",
       " 3: [],\n",
       " 4: [1141],\n",
       " 5: [323, 497, 498, 499, 972, 973, 1115, 1116, 1119, 1459, 1712, 1714, 1715],\n",
       " 6: [219,\n",
       "  464,\n",
       "  465,\n",
       "  466,\n",
       "  467,\n",
       "  2107,\n",
       "  2108,\n",
       "  2109,\n",
       "  2110,\n",
       "  2111,\n",
       "  2112,\n",
       "  2113,\n",
       "  2114,\n",
       "  2115,\n",
       "  2116,\n",
       "  2117,\n",
       "  2118,\n",
       "  3421,\n",
       "  3422,\n",
       "  3423,\n",
       "  3424,\n",
       "  3426,\n",
       "  3427,\n",
       "  3428,\n",
       "  3429,\n",
       "  3430,\n",
       "  3431,\n",
       "  3432,\n",
       "  3433,\n",
       "  3434,\n",
       "  3435,\n",
       "  3436,\n",
       "  3437,\n",
       "  3438,\n",
       "  3439]}"
      ]
     },
     "execution_count": 14,
     "metadata": {},
     "output_type": "execute_result"
    }
   ],
   "source": [
    "indices_incorrect_class"
   ]
  },
  {
   "cell_type": "code",
   "execution_count": 15,
   "metadata": {},
   "outputs": [
    {
     "data": {
      "text/plain": [
       "{2: array([], dtype=int64),\n",
       " 3: array([], dtype=int64),\n",
       " 4: array([3]),\n",
       " 5: array([6, 4, 4, 4, 4, 4, 4, 4, 4, 6, 4, 4, 4]),\n",
       " 6: array([5, 5, 5, 5, 5, 5, 5, 5, 5, 5, 5, 5, 5, 5, 5, 5, 5, 5, 5, 5, 5, 5,\n",
       "        5, 5, 5, 5, 5, 5, 5, 5, 5, 5, 5, 5, 5])}"
      ]
     },
     "execution_count": 15,
     "metadata": {},
     "output_type": "execute_result"
    }
   ],
   "source": [
    "predicted_incorrect_class"
   ]
  },
  {
   "cell_type": "code",
   "execution_count": null,
   "metadata": {},
   "outputs": [],
   "source": []
  }
 ],
 "metadata": {
  "kernelspec": {
   "display_name": "Python 3",
   "language": "python",
   "name": "python3"
  },
  "language_info": {
   "codemirror_mode": {
    "name": "ipython",
    "version": 3
   },
   "file_extension": ".py",
   "mimetype": "text/x-python",
   "name": "python",
   "nbconvert_exporter": "python",
   "pygments_lexer": "ipython3",
   "version": "3.8.5"
  }
 },
 "nbformat": 4,
 "nbformat_minor": 2
}
