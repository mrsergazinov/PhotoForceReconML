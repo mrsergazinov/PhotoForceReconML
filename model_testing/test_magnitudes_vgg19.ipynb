{
 "cells": [
  {
   "cell_type": "markdown",
   "metadata": {},
   "source": [
    "#### Loading libraries"
   ]
  },
  {
   "cell_type": "code",
   "execution_count": 1,
   "metadata": {},
   "outputs": [],
   "source": [
    "# Load tensorflow\n",
    "import tensorflow as tf\n",
    "# Below command is to avoid the known bug which prevents computation on some GPU devices\n",
    "physical_devices = tf.config.experimental.list_physical_devices('GPU')\n",
    "assert len(physical_devices) > 0, \"Not enough GPU hardware devices available\"\n",
    "tf.config.experimental.set_memory_growth(physical_devices[0], True)\n",
    "# Load preprocessing tools\n",
    "from scipy.ndimage.filters import gaussian_filter\n",
    "from tensorflow.keras.utils import to_categorical\n",
    "from PIL import Image\n",
    "# Load model building blocks\n",
    "from tensorflow.keras import Input\n",
    "from tensorflow.keras.models import Model, load_model\n",
    "from tensorflow.keras.layers import Dense, Flatten, Dropout, GlobalAveragePooling2D\n",
    "from tensorflow.keras.callbacks import EarlyStopping\n",
    "from tensorflow.keras.callbacks import ModelCheckpoint\n",
    "# Load pre-trained model library\n",
    "from tensorflow.keras import applications\n",
    "# Load miscelaneous libraries\n",
    "import numpy as np\n",
    "import os\n",
    "import matplotlib.pylab as plt\n",
    "import pandas as pd\n",
    "import seaborn as sns\n",
    "import gc"
   ]
  },
  {
   "cell_type": "markdown",
   "metadata": {},
   "source": [
    "#### Define paths"
   ]
  },
  {
   "cell_type": "code",
   "execution_count": 2,
   "metadata": {},
   "outputs": [],
   "source": [
    "image_path = os.path.join('/home', 'renat_sergazinov', \n",
    "                          'python-git-workspace', 'PhotoForceReconML', 'image_data', 'test')\n",
    "labels_path = os.path.join('/home', 'renat_sergazinov', \n",
    "                          'python-git-workspace', 'PhotoForceReconML', 'labels', 'test')\n",
    "models_path = os.path.join('/home', 'renat_sergazinov', \n",
    "                          'python-git-workspace', 'PhotoForceReconML', 'models')"
   ]
  },
  {
   "cell_type": "markdown",
   "metadata": {},
   "source": [
    "#### Define image processor and data generator"
   ]
  },
  {
   "cell_type": "code",
   "execution_count": 3,
   "metadata": {},
   "outputs": [],
   "source": [
    "%run '/home/renat_sergazinov/python-git-workspace/PhotoForceReconML/data_loader.py'"
   ]
  },
  {
   "cell_type": "markdown",
   "metadata": {},
   "source": [
    "#### Load the data"
   ]
  },
  {
   "cell_type": "code",
   "execution_count": 4,
   "metadata": {},
   "outputs": [],
   "source": [
    "#--- Load images ---#\n",
    "# Extract individual image paths\n",
    "img_paths = {}\n",
    "for k in range(2, 7):\n",
    "    path_prefix = os.path.join(image_path, str(k))\n",
    "    img_paths[k] = [os.path.join(path_prefix, name) for name in sorted(os.listdir(path_prefix), key = sorter)]\n",
    "# Create data generators\n",
    "gaussblur = GaussBlur(1)\n",
    "params = {'dim': (128, 128), 'n_channels': 3, 'rescale': 1 / 255, \n",
    "          'preprocessing_func': gaussblur.blur}\n",
    "# Load images (for all number of forces) as matrix\n",
    "X = dict()\n",
    "for k in range(2, 7): \n",
    "    test_generator = DataGenerator(img_paths[k], **params)   \n",
    "    X[k] = test_generator.generate()"
   ]
  },
  {
   "cell_type": "code",
   "execution_count": 5,
   "metadata": {},
   "outputs": [],
   "source": [
    "#--- Load magnitude labels ---#\n",
    "y_lm = dict()\n",
    "for k in range(2, 7): y_lm[k] = np.load(os.path.join(labels_path, str(k), 'mags.npy'))"
   ]
  },
  {
   "cell_type": "code",
   "execution_count": 33,
   "metadata": {},
   "outputs": [],
   "source": [
    "#--- Split magnitudes into bins ---#\n",
    "bins = {}\n",
    "bin_edges = np.linspace(0,1.5,30)\n",
    "for k in range(2, 7): bins[k] = np.digitize(np.mean(y_lm[k], 1), bins = bin_edges)"
   ]
  },
  {
   "cell_type": "markdown",
   "metadata": {},
   "source": [
    "#### Load and test models"
   ]
  },
  {
   "cell_type": "code",
   "execution_count": 7,
   "metadata": {},
   "outputs": [],
   "source": [
    "#--- Load models ---#\n",
    "models_m = dict()                         \n",
    "for k in range(2, 7): \n",
    "    models_m[k] = load_model(os.path.join(models_path, 'vgg19_mags_'+str(k)+'.h5'))\n",
    "    models_m[k].compile(metrics = ['mean_absolute_error', \"mean_absolute_percentage_error\"])"
   ]
  },
  {
   "cell_type": "code",
   "execution_count": 31,
   "metadata": {},
   "outputs": [
    {
     "name": "stdout",
     "output_type": "stream",
     "text": [
      "Num forces:  2\n",
      "Bin:  1\n",
      "14/14 [==============================] - 0s 32ms/step - loss: 0.0000e+00 - mean_absolute_error: 0.0429 - mean_absolute_percentage_error: 157.4326\n",
      "Bin:  2\n",
      "15/15 [==============================] - 0s 33ms/step - loss: 0.0000e+00 - mean_absolute_error: 0.0207 - mean_absolute_percentage_error: 31.7409\n",
      "Bin:  3\n",
      "10/10 [==============================] - 0s 31ms/step - loss: 0.0000e+00 - mean_absolute_error: 0.0027 - mean_absolute_percentage_error: 2.0713\n",
      "Bin:  4\n",
      "9/9 [==============================] - 0s 30ms/step - loss: 0.0000e+00 - mean_absolute_error: 0.0053 - mean_absolute_percentage_error: 2.8711\n",
      "Bin:  5\n",
      "15/15 [==============================] - 0s 32ms/step - loss: 0.0000e+00 - mean_absolute_error: 0.0059 - mean_absolute_percentage_error: 2.4939\n",
      "Bin:  6\n",
      "9/9 [==============================] - 0s 29ms/step - loss: 0.0000e+00 - mean_absolute_error: 0.0061 - mean_absolute_percentage_error: 2.1020\n",
      "Bin:  7\n",
      "14/14 [==============================] - 0s 31ms/step - loss: 0.0000e+00 - mean_absolute_error: 0.0072 - mean_absolute_percentage_error: 2.1540\n",
      "Bin:  8\n",
      "10/10 [==============================] - 0s 30ms/step - loss: 0.0000e+00 - mean_absolute_error: 0.0091 - mean_absolute_percentage_error: 2.3553\n",
      "Bin:  9\n",
      "12/12 [==============================] - 0s 32ms/step - loss: 0.0000e+00 - mean_absolute_error: 0.0098 - mean_absolute_percentage_error: 2.2041\n",
      "Bin:  10\n",
      "9/9 [==============================] - 0s 29ms/step - loss: 0.0000e+00 - mean_absolute_error: 0.0109 - mean_absolute_percentage_error: 2.1890\n",
      "Bin:  11\n",
      "4/4 [==============================] - 0s 27ms/step - loss: 0.0000e+00 - mean_absolute_error: 0.0132 - mean_absolute_percentage_error: 2.4591\n",
      "Bin:  12\n",
      "2/2 [==============================] - 0s 17ms/step - loss: 0.0000e+00 - mean_absolute_error: 0.0168 - mean_absolute_percentage_error: 2.8003\n",
      "Bin:  13\n",
      "2/2 [==============================] - 0s 8ms/step - loss: 0.0000e+00 - mean_absolute_error: 0.0237 - mean_absolute_percentage_error: 3.5725\n",
      "Bin:  14\n",
      "1/1 [==============================] - 0s 2ms/step - loss: 0.0000e+00 - mean_absolute_error: 0.0216 - mean_absolute_percentage_error: 3.0379\n",
      "Bin:  15\n",
      "3/3 [==============================] - 0s 20ms/step - loss: 0.0000e+00 - mean_absolute_error: 0.0211 - mean_absolute_percentage_error: 2.8200\n",
      "Bin:  16\n",
      "2/2 [==============================] - 0s 17ms/step - loss: 0.0000e+00 - mean_absolute_error: 0.0198 - mean_absolute_percentage_error: 2.4732\n",
      "Bin:  17\n",
      "2/2 [==============================] - 0s 9ms/step - loss: 0.0000e+00 - mean_absolute_error: 0.0199 - mean_absolute_percentage_error: 2.2958\n",
      "Bin:  18\n",
      "2/2 [==============================] - 0s 8ms/step - loss: 0.0000e+00 - mean_absolute_error: 0.0207 - mean_absolute_percentage_error: 2.2996\n",
      "Bin:  19\n",
      "1/1 [==============================] - 0s 1ms/step - loss: 0.0000e+00 - mean_absolute_error: 0.0204 - mean_absolute_percentage_error: 2.1329\n",
      "Bin:  20\n",
      "1/1 [==============================] - 0s 2ms/step - loss: 0.0000e+00 - mean_absolute_error: 0.0219 - mean_absolute_percentage_error: 2.2247\n",
      "Num forces:  3\n",
      "Bin:  1\n",
      "1/1 [==============================] - 0s 2ms/step - loss: 0.0000e+00 - mean_absolute_error: 0.0659 - mean_absolute_percentage_error: 131.8866\n",
      "Bin:  2\n",
      "12/12 [==============================] - 0s 31ms/step - loss: 0.0000e+00 - mean_absolute_error: 0.0348 - mean_absolute_percentage_error: 55.6628\n",
      "Bin:  3\n",
      "12/12 [==============================] - 0s 31ms/step - loss: 0.0000e+00 - mean_absolute_error: 0.0148 - mean_absolute_percentage_error: 14.2371\n",
      "Bin:  4\n",
      "15/15 [==============================] - 0s 32ms/step - loss: 0.0000e+00 - mean_absolute_error: 0.0122 - mean_absolute_percentage_error: 7.1113\n",
      "Bin:  5\n",
      "12/12 [==============================] - 0s 31ms/step - loss: 0.0000e+00 - mean_absolute_error: 0.0123 - mean_absolute_percentage_error: 5.5007\n",
      "Bin:  6\n",
      "12/12 [==============================] - 0s 33ms/step - loss: 0.0000e+00 - mean_absolute_error: 0.0201 - mean_absolute_percentage_error: 7.2097\n",
      "Bin:  7\n",
      "9/9 [==============================] - 0s 31ms/step - loss: 0.0000e+00 - mean_absolute_error: 0.0215 - mean_absolute_percentage_error: 6.3600\n",
      "Bin:  8\n",
      "6/6 [==============================] - 0s 28ms/step - loss: 0.0000e+00 - mean_absolute_error: 0.0261 - mean_absolute_percentage_error: 6.5801\n",
      "Bin:  9\n",
      "9/9 [==============================] - 0s 29ms/step - loss: 0.0000e+00 - mean_absolute_error: 0.0426 - mean_absolute_percentage_error: 11.0656\n",
      "Bin:  10\n",
      "7/7 [==============================] - 0s 31ms/step - loss: 0.0000e+00 - mean_absolute_error: 0.0503 - mean_absolute_percentage_error: 13.3918\n",
      "Bin:  11\n",
      "2/2 [==============================] - 0s 8ms/step - loss: 0.0000e+00 - mean_absolute_error: 0.0355 - mean_absolute_percentage_error: 6.7302\n",
      "Bin:  12\n",
      "9/9 [==============================] - 0s 29ms/step - loss: 0.0000e+00 - mean_absolute_error: 0.0355 - mean_absolute_percentage_error: 5.9793\n",
      "Bin:  13\n",
      "8/8 [==============================] - 0s 29ms/step - loss: 0.0000e+00 - mean_absolute_error: 0.0381 - mean_absolute_percentage_error: 5.7625\n",
      "Bin:  14\n",
      "7/7 [==============================] - 0s 31ms/step - loss: 0.0000e+00 - mean_absolute_error: 0.0507 - mean_absolute_percentage_error: 9.0239\n",
      "Bin:  15\n",
      "4/4 [==============================] - 0s 25ms/step - loss: 0.0000e+00 - mean_absolute_error: 0.0400 - mean_absolute_percentage_error: 5.1723\n",
      "Bin:  16\n",
      "4/4 [==============================] - 0s 20ms/step - loss: 0.0000e+00 - mean_absolute_error: 0.0397 - mean_absolute_percentage_error: 4.7168\n",
      "Bin:  17\n",
      "4/4 [==============================] - 0s 25ms/step - loss: 0.0000e+00 - mean_absolute_error: 0.0452 - mean_absolute_percentage_error: 5.5919\n",
      "Bin:  22\n",
      "1/1 [==============================] - 0s 2ms/step - loss: 0.0000e+00 - mean_absolute_error: 0.0773 - mean_absolute_percentage_error: 6.7944\n",
      "Num forces:  4\n",
      "Bin:  1\n",
      "14/14 [==============================] - 0s 31ms/step - loss: 0.0000e+00 - mean_absolute_error: 0.0304 - mean_absolute_percentage_error: 177.7917\n",
      "Bin:  2\n",
      "19/19 [==============================] - 1s 32ms/step - loss: 0.0000e+00 - mean_absolute_error: 0.0139 - mean_absolute_percentage_error: 24.3989\n",
      "Bin:  3\n",
      "7/7 [==============================] - 0s 28ms/step - loss: 0.0000e+00 - mean_absolute_error: 0.0114 - mean_absolute_percentage_error: 12.5539\n",
      "Bin:  4\n",
      "13/13 [==============================] - 0s 31ms/step - loss: 0.0000e+00 - mean_absolute_error: 0.0116 - mean_absolute_percentage_error: 6.6848\n",
      "Bin:  5\n",
      "7/7 [==============================] - 0s 30ms/step - loss: 0.0000e+00 - mean_absolute_error: 0.0160 - mean_absolute_percentage_error: 6.9520\n",
      "Bin:  6\n",
      "12/12 [==============================] - 0s 32ms/step - loss: 0.0000e+00 - mean_absolute_error: 0.0198 - mean_absolute_percentage_error: 7.3019\n",
      "Bin:  7\n",
      "10/10 [==============================] - 0s 30ms/step - loss: 0.0000e+00 - mean_absolute_error: 0.0155 - mean_absolute_percentage_error: 4.9118\n",
      "Bin:  8\n",
      "4/4 [==============================] - 0s 25ms/step - loss: 0.0000e+00 - mean_absolute_error: 0.0213 - mean_absolute_percentage_error: 5.4842\n",
      "Bin:  9\n",
      "4/4 [==============================] - 0s 21ms/step - loss: 0.0000e+00 - mean_absolute_error: 0.0286 - mean_absolute_percentage_error: 6.5781\n",
      "Bin:  10\n",
      "4/4 [==============================] - 0s 21ms/step - loss: 0.0000e+00 - mean_absolute_error: 0.0232 - mean_absolute_percentage_error: 4.7648\n",
      "Bin:  11\n",
      "5/5 [==============================] - 0s 26ms/step - loss: 0.0000e+00 - mean_absolute_error: 0.0425 - mean_absolute_percentage_error: 8.4378\n",
      "Bin:  12\n",
      "2/2 [==============================] - 0s 17ms/step - loss: 0.0000e+00 - mean_absolute_error: 0.0375 - mean_absolute_percentage_error: 6.8598\n",
      "Bin:  13\n",
      "3/3 [==============================] - 0s 19ms/step - loss: 0.0000e+00 - mean_absolute_error: 0.0420 - mean_absolute_percentage_error: 6.4917\n",
      "Bin:  14\n",
      "4/4 [==============================] - 0s 25ms/step - loss: 0.0000e+00 - mean_absolute_error: 0.0286 - mean_absolute_percentage_error: 4.4190\n",
      "Bin:  15\n",
      "3/3 [==============================] - 0s 19ms/step - loss: 0.0000e+00 - mean_absolute_error: 0.0390 - mean_absolute_percentage_error: 4.9567\n",
      "Bin:  16\n",
      "4/4 [==============================] - 0s 21ms/step - loss: 0.0000e+00 - mean_absolute_error: 0.0515 - mean_absolute_percentage_error: 6.3440\n",
      "Bin:  17\n",
      "4/4 [==============================] - 0s 25ms/step - loss: 0.0000e+00 - mean_absolute_error: 0.0647 - mean_absolute_percentage_error: 7.6654\n",
      "Bin:  18\n",
      "9/9 [==============================] - 0s 28ms/step - loss: 0.0000e+00 - mean_absolute_error: 0.0608 - mean_absolute_percentage_error: 6.5963\n",
      "Bin:  19\n",
      "4/4 [==============================] - 0s 25ms/step - loss: 0.0000e+00 - mean_absolute_error: 0.0802 - mean_absolute_percentage_error: 8.7205\n",
      "Bin:  20\n",
      "1/1 [==============================] - 0s 2ms/step - loss: 0.0000e+00 - mean_absolute_error: 0.1327 - mean_absolute_percentage_error: 14.4879\n",
      "Bin:  21\n",
      "1/1 [==============================] - 0s 2ms/step - loss: 0.0000e+00 - mean_absolute_error: 0.1190 - mean_absolute_percentage_error: 10.6780\n",
      "Bin:  22\n",
      "1/1 [==============================] - 0s 2ms/step - loss: 0.0000e+00 - mean_absolute_error: 0.1238 - mean_absolute_percentage_error: 9.8947\n",
      "Bin:  28\n",
      "1/1 [==============================] - 0s 2ms/step - loss: 0.0000e+00 - mean_absolute_error: 0.2351 - mean_absolute_percentage_error: 14.9375\n",
      "Num forces:  5\n",
      "Bin:  1\n",
      "19/19 [==============================] - 1s 33ms/step - loss: 0.0000e+00 - mean_absolute_error: 0.0254 - mean_absolute_percentage_error: 142.1646\n",
      "Bin:  2\n",
      "19/19 [==============================] - 1s 32ms/step - loss: 0.0000e+00 - mean_absolute_error: 0.0111 - mean_absolute_percentage_error: 14.0384\n",
      "Bin:  3\n",
      "15/15 [==============================] - 0s 32ms/step - loss: 0.0000e+00 - mean_absolute_error: 0.0140 - mean_absolute_percentage_error: 12.1502\n",
      "Bin:  4\n",
      "12/12 [==============================] - 0s 32ms/step - loss: 0.0000e+00 - mean_absolute_error: 0.0185 - mean_absolute_percentage_error: 11.7350\n",
      "Bin:  5\n",
      "9/9 [==============================] - 0s 31ms/step - loss: 0.0000e+00 - mean_absolute_error: 0.0257 - mean_absolute_percentage_error: 13.1133\n",
      "Bin:  6\n",
      "8/8 [==============================] - 0s 29ms/step - loss: 0.0000e+00 - mean_absolute_error: 0.0252 - mean_absolute_percentage_error: 9.6393\n",
      "Bin:  7\n",
      "2/2 [==============================] - 0s 17ms/step - loss: 0.0000e+00 - mean_absolute_error: 0.0282 - mean_absolute_percentage_error: 8.4081\n",
      "Bin:  8\n",
      "3/3 [==============================] - 0s 19ms/step - loss: 0.0000e+00 - mean_absolute_error: 0.0368 - mean_absolute_percentage_error: 8.9146\n",
      "Bin:  9\n",
      "7/7 [==============================] - 0s 28ms/step - loss: 0.0000e+00 - mean_absolute_error: 0.0491 - mean_absolute_percentage_error: 11.5004\n",
      "Bin:  10\n",
      "7/7 [==============================] - 0s 28ms/step - loss: 0.0000e+00 - mean_absolute_error: 0.0583 - mean_absolute_percentage_error: 12.1659\n",
      "Bin:  11\n",
      "7/7 [==============================] - 0s 30ms/step - loss: 0.0000e+00 - mean_absolute_error: 0.0527 - mean_absolute_percentage_error: 9.1338\n",
      "Bin:  12\n",
      "7/7 [==============================] - 0s 28ms/step - loss: 0.0000e+00 - mean_absolute_error: 0.0744 - mean_absolute_percentage_error: 12.8516\n",
      "Bin:  13\n",
      "5/5 [==============================] - 0s 27ms/step - loss: 0.0000e+00 - mean_absolute_error: 0.0684 - mean_absolute_percentage_error: 10.8184\n",
      "Bin:  14\n",
      "6/6 [==============================] - 0s 28ms/step - loss: 0.0000e+00 - mean_absolute_error: 0.0725 - mean_absolute_percentage_error: 10.3269\n",
      "Bin:  15\n",
      "3/3 [==============================] - 0s 21ms/step - loss: 0.0000e+00 - mean_absolute_error: 0.0736 - mean_absolute_percentage_error: 10.3840\n",
      "Bin:  16\n",
      "2/2 [==============================] - 0s 8ms/step - loss: 0.0000e+00 - mean_absolute_error: 0.0765 - mean_absolute_percentage_error: 9.1633\n",
      "Bin:  17\n",
      "1/1 [==============================] - 0s 2ms/step - loss: 0.0000e+00 - mean_absolute_error: 0.0957 - mean_absolute_percentage_error: 10.1431\n",
      "Bin:  18\n",
      "1/1 [==============================] - 0s 2ms/step - loss: 0.0000e+00 - mean_absolute_error: 0.1018 - mean_absolute_percentage_error: 11.9858\n",
      "Num forces:  6\n",
      "Bin:  1\n",
      "1/1 [==============================] - 0s 1ms/step - loss: 0.0000e+00 - mean_absolute_error: 0.0181 - mean_absolute_percentage_error: 43.8310\n",
      "Bin:  2\n",
      "30/30 [==============================] - 1s 34ms/step - loss: 0.0000e+00 - mean_absolute_error: 0.0138 - mean_absolute_percentage_error: 18.4168\n",
      "Bin:  3\n",
      "9/9 [==============================] - 0s 31ms/step - loss: 0.0000e+00 - mean_absolute_error: 0.0178 - mean_absolute_percentage_error: 15.3968\n",
      "Bin:  4\n",
      "17/17 [==============================] - 1s 33ms/step - loss: 0.0000e+00 - mean_absolute_error: 0.0212 - mean_absolute_percentage_error: 12.0498\n",
      "Bin:  5\n",
      "22/22 [==============================] - 1s 34ms/step - loss: 0.0000e+00 - mean_absolute_error: 0.0315 - mean_absolute_percentage_error: 15.5737\n",
      "Bin:  6\n",
      "9/9 [==============================] - 0s 32ms/step - loss: 0.0000e+00 - mean_absolute_error: 0.0295 - mean_absolute_percentage_error: 10.5521\n",
      "Bin:  7\n",
      "5/5 [==============================] - 0s 26ms/step - loss: 0.0000e+00 - mean_absolute_error: 0.0345 - mean_absolute_percentage_error: 10.0507\n",
      "Bin:  8\n",
      "3/3 [==============================] - 0s 19ms/step - loss: 0.0000e+00 - mean_absolute_error: 0.0360 - mean_absolute_percentage_error: 8.7694\n",
      "Bin:  9\n",
      "4/4 [==============================] - 0s 20ms/step - loss: 0.0000e+00 - mean_absolute_error: 0.0474 - mean_absolute_percentage_error: 10.9776\n",
      "Bin:  10\n",
      "3/3 [==============================] - 0s 20ms/step - loss: 0.0000e+00 - mean_absolute_error: 0.0597 - mean_absolute_percentage_error: 12.8605\n",
      "Bin:  11\n",
      "6/6 [==============================] - 0s 28ms/step - loss: 0.0000e+00 - mean_absolute_error: 0.0564 - mean_absolute_percentage_error: 10.6638\n",
      "Bin:  12\n",
      "3/3 [==============================] - 0s 21ms/step - loss: 0.0000e+00 - mean_absolute_error: 0.0657 - mean_absolute_percentage_error: 10.9914\n",
      "Bin:  13\n",
      "3/3 [==============================] - 0s 20ms/step - loss: 0.0000e+00 - mean_absolute_error: 0.0850 - mean_absolute_percentage_error: 13.6505\n",
      "Bin:  14\n",
      "3/3 [==============================] - 0s 19ms/step - loss: 0.0000e+00 - mean_absolute_error: 0.1441 - mean_absolute_percentage_error: 24.8480\n",
      "Bin:  15\n",
      "2/2 [==============================] - 0s 18ms/step - loss: 0.0000e+00 - mean_absolute_error: 0.0868 - mean_absolute_percentage_error: 11.7310\n",
      "Bin:  16\n",
      "4/4 [==============================] - 0s 25ms/step - loss: 0.0000e+00 - mean_absolute_error: 0.0938 - mean_absolute_percentage_error: 12.2177\n",
      "Bin:  17\n",
      "2/2 [==============================] - 0s 17ms/step - loss: 0.0000e+00 - mean_absolute_error: 0.0983 - mean_absolute_percentage_error: 12.4929\n",
      "Bin:  18\n",
      "4/4 [==============================] - 0s 21ms/step - loss: 0.0000e+00 - mean_absolute_error: 0.0898 - mean_absolute_percentage_error: 9.4369\n",
      "Bin:  19\n",
      "2/2 [==============================] - 0s 8ms/step - loss: 0.0000e+00 - mean_absolute_error: 0.1293 - mean_absolute_percentage_error: 13.2546\n",
      "Bin:  20\n",
      "1/1 [==============================] - 0s 2ms/step - loss: 0.0000e+00 - mean_absolute_error: 0.1712 - mean_absolute_percentage_error: 16.7161\n"
     ]
    }
   ],
   "source": [
    "#--- Test models ---#\n",
    "error_mae = np.empty([len(bin_edges) - 1, 5]) * np.nan \n",
    "error_mape = np.empty([len(bin_edges) - 1, 5]) * np.nan\n",
    "for k in range(2, 7):\n",
    "    print(\"Num forces: \", k)\n",
    "    for i in range(1, len(bin_edges) - 1):\n",
    "        if (sum(bins[k] == i) > 0):\n",
    "            print(\"Bin: \", i)\n",
    "            loss = models_m[k].evaluate(X[k][bins[k] == i, ], y_lm[k][bins[k] == i, ])\n",
    "            error_mae[i - 1, k - 2] = loss[1]\n",
    "            error_mape[i - 1, k - 2] = loss[2]"
   ]
  },
  {
   "cell_type": "code",
   "execution_count": 53,
   "metadata": {},
   "outputs": [],
   "source": [
    "df_error_mae = pd.DataFrame(error_mae, columns = [str(i) + \" forces\" for i in range(2, 7)])\n",
    "df_error_mae[\"Mean bin magnitude\"] = (bin_edges[1:] - bin_edges[:-1]) / 2 + bin_edges[:-1]\n",
    "df_error_mae = pd.melt(df_error_mae, id_vars=[\"Mean bin magnitude\"], value_name=\"Mean absolute error\", var_name=\"Forces\")"
   ]
  },
  {
   "cell_type": "code",
   "execution_count": 54,
   "metadata": {},
   "outputs": [
    {
     "data": {
      "text/plain": [
       "<AxesSubplot:xlabel='Mean bin magnitude', ylabel='Mean absolute error'>"
      ]
     },
     "execution_count": 54,
     "metadata": {},
     "output_type": "execute_result"
    },
    {
     "data": {
      "image/png": "[encoded data removed]",
      "text/plain": [
       "<Figure size 432x288 with 1 Axes>"
      ]
     },
     "metadata": {},
     "output_type": "display_data"
    }
   ],
   "source": [
    "sns.set_theme(style=\"whitegrid\")\n",
    "sns.lineplot(data=df_error_mae, x=\"Mean bin magnitude\", y=\"Mean absolute error\", hue=\"Forces\")"
   ]
  },
  {
   "cell_type": "code",
   "execution_count": 55,
   "metadata": {},
   "outputs": [],
   "source": [
    "df_error_mape = pd.DataFrame(error_mape, columns = [str(i) + \" forces\" for i in range(2, 7)])\n",
    "df_error_mape[\"Mean bin magnitude\"] = (bin_edges[1:] - bin_edges[:-1]) / 2 + bin_edges[:-1]\n",
    "df_error_mape = pd.melt(df_error_mape, id_vars=[\"Mean bin magnitude\"], value_name=\"Mean absolute percent error\", var_name=\"Forces\")"
   ]
  },
  {
   "cell_type": "code",
   "execution_count": 56,
   "metadata": {},
   "outputs": [
    {
     "data": {
      "text/plain": [
       "<AxesSubplot:xlabel='Mean bin magnitude', ylabel='Mean absolute percent error'>"
      ]
     },
     "execution_count": 56,
     "metadata": {},
     "output_type": "execute_result"
    },
    {
     "data": {
      "image/png": "[encoded data removed]",
      "text/plain": [
       "<Figure size 432x288 with 1 Axes>"
      ]
     },
     "metadata": {},
     "output_type": "display_data"
    }
   ],
   "source": [
    "sns.lineplot(data=df_error_mape, x=\"Mean bin magnitude\", y=\"Mean absolute percent error\", hue=\"Forces\")"
   ]
  },
  {
   "cell_type": "code",
   "execution_count": null,
   "metadata": {},
   "outputs": [],
   "source": []
  }
 ],
 "metadata": {
  "kernelspec": {
   "display_name": "Python 3",
   "language": "python",
   "name": "python3"
  },
  "language_info": {
   "codemirror_mode": {
    "name": "ipython",
    "version": 3
   },
   "file_extension": ".py",
   "mimetype": "text/x-python",
   "name": "python",
   "nbconvert_exporter": "python",
   "pygments_lexer": "ipython3",
   "version": "3.8.5"
  }
 },
 "nbformat": 4,
 "nbformat_minor": 2
}
