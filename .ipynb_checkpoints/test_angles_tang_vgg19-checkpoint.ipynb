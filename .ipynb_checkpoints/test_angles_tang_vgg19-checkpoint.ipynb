{
 "cells": [
  {
   "cell_type": "markdown",
   "metadata": {},
   "source": [
    "#### Loading libraries"
   ]
  },
  {
   "cell_type": "code",
   "execution_count": 1,
   "metadata": {},
   "outputs": [],
   "source": [
    "# Load tensorflow\n",
    "import tensorflow as tf\n",
    "# Below command is to avoid the known bug which prevents computation on some GPU devices\n",
    "physical_devices = tf.config.experimental.list_physical_devices('GPU')\n",
    "assert len(physical_devices) > 0, \"Not enough GPU hardware devices available\"\n",
    "tf.config.experimental.set_memory_growth(physical_devices[0], True)\n",
    "# Load preprocessing tools\n",
    "from scipy.ndimage.filters import gaussian_filter\n",
    "from tensorflow.keras.utils import to_categorical\n",
    "from PIL import Image\n",
    "# Load model building blocks\n",
    "from tensorflow.keras import Input\n",
    "from tensorflow.keras.models import Model, load_model\n",
    "from tensorflow.keras.layers import Dense, Flatten, Dropout, GlobalAveragePooling2D\n",
    "from tensorflow.keras.callbacks import EarlyStopping\n",
    "from tensorflow.keras.callbacks import ModelCheckpoint\n",
    "# Load pre-trained model library\n",
    "from tensorflow.keras import applications\n",
    "# Load miscelaneous libraries\n",
    "import numpy as np\n",
    "import os\n",
    "import matplotlib.pylab as plt\n",
    "import gc\n",
    "# Settings to set the max output of numpy to infty\n",
    "# import sys\n",
    "# np.set_printoptions(threshold=sys.maxsize)"
   ]
  },
  {
   "cell_type": "markdown",
   "metadata": {},
   "source": [
    "#### Define image processor and data generator"
   ]
  },
  {
   "cell_type": "code",
   "execution_count": 2,
   "metadata": {},
   "outputs": [],
   "source": [
    "# Define gaussian blur class\n",
    "class GaussBlur:\n",
    "    def __init__(self, radius):\n",
    "        self.radius = radius\n",
    "    def blur(self, image):\n",
    "        return gaussian_filter(image, sigma = self.radius)"
   ]
  },
  {
   "cell_type": "code",
   "execution_count": 3,
   "metadata": {},
   "outputs": [],
   "source": [
    "# Define class for data generation\n",
    "class DataGenerator:\n",
    "    'Generates data for Keras'\n",
    "    def __init__(self, list_image_paths = None,  \n",
    "                 dim = None,\n",
    "                 n_channels = 3, \n",
    "                 rescale = 1, \n",
    "                 preprocessing_func = None):\n",
    "        'Initialization'\n",
    "        self.list_image_paths = list_image_paths\n",
    "        self.dim = dim\n",
    "        self.n_channels = n_channels\n",
    "        self.rescale = rescale\n",
    "        self.preprocessing_func = preprocessing_func\n",
    "\n",
    "    def generate(self):\n",
    "        'Generates data containing batch_size samples' # X : (n_samples, *dim, n_channels)\n",
    "        \n",
    "        # Initialisation\n",
    "        X = np.empty((len(self.list_image_paths), *self.dim, self.n_channels))\n",
    "        \n",
    "        # Generate data\n",
    "        for i, image_path in enumerate(self.list_image_paths):\n",
    "            # Load image and transform\n",
    "            image = Image.open(os.path.join(image_path))\n",
    "            if self.dim is not None:\n",
    "                image = image.resize(self.dim, resample = Image.NEAREST)\n",
    "            image = np.array(image)[:, :, :self.n_channels]\n",
    "            image = image * self.rescale\n",
    "            if self.preprocessing_func is not None:\n",
    "                image = self.preprocessing_func(image)\n",
    "            # Store sample\n",
    "            X[i,] = image\n",
    "\n",
    "        return X"
   ]
  },
  {
   "cell_type": "code",
   "execution_count": 4,
   "metadata": {},
   "outputs": [],
   "source": [
    "# Define algorithm for reordering the data based on the index array\n",
    "def reorder(ind, arr):\n",
    "    new_arr = np.zeros(arr.shape)\n",
    "    for i in range(len(arr)):\n",
    "        new_arr[i] = arr[ind[i]]\n",
    "    return new_arr  \n",
    "\n",
    "def order_labels(y_lai, y_lm, y_lat):\n",
    "    y_lm_reord = dict()\n",
    "    y_lai_reord = dict()\n",
    "    y_lat_reord = dict()\n",
    "    # Perform reording\n",
    "    for k in range(5):\n",
    "        i = k + 2\n",
    "        y_lai_reord[i] = np.sort(y_lai[i], axis = -1) \n",
    "        ind_matrix = np.argsort(y_lai[i], axis = -1)\n",
    "        y_lm_reord[i] = np.array([reorder(ind_matrix[j,:], y_lm[i][j,:]) for j in range(y_lm[i].shape[0])])\n",
    "        y_lat_reord[i] = np.array([reorder(ind_matrix[j,:], y_lat[i][j,:]) for j in range(y_lat[i].shape[0])])\n",
    "    return y_lai_reord, y_lm_reord, y_lat_reord"
   ]
  },
  {
   "cell_type": "code",
   "execution_count": 5,
   "metadata": {},
   "outputs": [],
   "source": [
    "# Define sorter of image names in order by image number (default is alphanumric)\n",
    "def sorter(item):\n",
    "    # Since highest marks first, least error = most marks\n",
    "    radius = float(item[1 : item.find('_')])\n",
    "    num_img = int(item[item.find('g') + 1 : item.find('j') - 1])\n",
    "    return (radius, num_img)"
   ]
  },
  {
   "cell_type": "markdown",
   "metadata": {},
   "source": [
    "#### Load the data"
   ]
  },
  {
   "cell_type": "code",
   "execution_count": 6,
   "metadata": {},
   "outputs": [],
   "source": [
    "# Extract image paths\n",
    "img_paths = {}\n",
    "for k in range(5):\n",
    "    i = k + 2\n",
    "    path_prefix = os.path.join(os.getcwd(), 'image_data', 'test', str(i))\n",
    "    img_paths[i] = [os.path.join(path_prefix, name) for name in sorted(os.listdir(path_prefix), key = sorter)]\n",
    "\n",
    "# Apply data generators\n",
    "gaussblur = GaussBlur(1)\n",
    "params = {'dim': (128, 128), \n",
    "          'n_channels': 3, \n",
    "          'rescale': 1 / 255, \n",
    "          'preprocessing_func': gaussblur.blur\n",
    "          }\n",
    "test_generator = {}\n",
    "for k in range(5):\n",
    "    i = k + 2\n",
    "    test_generator[i] = DataGenerator(img_paths[i], **params)\n",
    "    \n",
    "# Load images (for all number of forces) as matrix\n",
    "X = dict()\n",
    "for k in range(5):\n",
    "    i = k + 2\n",
    "    X[i] = test_generator[i].generate()"
   ]
  },
  {
   "cell_type": "code",
   "execution_count": 7,
   "metadata": {},
   "outputs": [],
   "source": [
    "# Load angle labels\n",
    "path_prefix = os.path.join(os.getcwd(), 'labels', 'test')\n",
    "y_lai = dict()\n",
    "for k in range(5):\n",
    "    i = k + 2\n",
    "    path = os.path.join(path_prefix, str(i))\n",
    "    y_lai[i] = np.load(os.path.join(path,'angles_tang.npy'))"
   ]
  },
  {
   "cell_type": "code",
   "execution_count": 8,
   "metadata": {},
   "outputs": [],
   "source": [
    "# Load models\n",
    "models_path = os.path.join(os.getcwd(), 'models')\n",
    "\n",
    "model_class = load_model(os.path.join(models_path, 'vgg19_num_forces.h5'))                       \n",
    "\n",
    "models_ai = dict()                         \n",
    "for k in range(5):\n",
    "     i = k + 2\n",
    "     models_ai[i] = load_model(os.path.join(models_path, 'vgg19_angles_tang_'+str(i)+'.h5'))"
   ]
  },
  {
   "cell_type": "code",
   "execution_count": 9,
   "metadata": {},
   "outputs": [],
   "source": [
    "# predict class\n",
    "predicted_class = dict()\n",
    "indices_correct_class = dict()\n",
    "for k in range(5):\n",
    "    i = k + 2\n",
    "    predicted_class[i] = model_class.predict(X[i]).argmax(-1)+2\n",
    "    indices_correct_class[i] = np.argwhere(predicted_class[i] == i).flatten().tolist()"
   ]
  },
  {
   "cell_type": "code",
   "execution_count": 10,
   "metadata": {},
   "outputs": [
    {
     "name": "stdout",
     "output_type": "stream",
     "text": [
      "Num forces:  2\n",
      "125/125 [==============================] - 4s 34ms/step - loss: 0.0220 - mean_absolute_error: 0.0220\n",
      "Num forces:  3\n",
      "125/125 [==============================] - 4s 35ms/step - loss: 0.0391 - mean_absolute_error: 0.0391\n",
      "Num forces:  4\n",
      "125/125 [==============================] - 4s 34ms/step - loss: 0.2325 - mean_absolute_error: 0.2325\n",
      "Num forces:  5\n",
      "125/125 [==============================] - 4s 32ms/step - loss: 0.2190 - mean_absolute_error: 0.2190\n",
      "Num forces:  6\n",
      "125/125 [==============================] - 38s 307ms/step - loss: 0.2227 - mean_absolute_error: 0.2227\n"
     ]
    }
   ],
   "source": [
    "for k in range(5):\n",
    "    i = k + 2\n",
    "    print(\"Num forces: \", i)\n",
    "    loss = models_ai[i].evaluate(X[i][indices_correct_class[i], ], y_lai[i][indices_correct_class[i], ])"
   ]
  },
  {
   "cell_type": "code",
   "execution_count": null,
   "metadata": {},
   "outputs": [],
   "source": []
  }
 ],
 "metadata": {
  "kernelspec": {
   "display_name": "Python 3",
   "language": "python",
   "name": "python3"
  },
  "language_info": {
   "codemirror_mode": {
    "name": "ipython",
    "version": 3
   },
   "file_extension": ".py",
   "mimetype": "text/x-python",
   "name": "python",
   "nbconvert_exporter": "python",
   "pygments_lexer": "ipython3",
   "version": "3.8.5"
  }
 },
 "nbformat": 4,
 "nbformat_minor": 2
}
