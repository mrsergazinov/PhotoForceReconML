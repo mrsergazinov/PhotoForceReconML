{
 "cells": [
  {
   "cell_type": "code",
   "execution_count": 54,
   "metadata": {},
   "outputs": [],
   "source": [
    "from PIL import Image\n",
    "from scipy.ndimage.filters import gaussian_filter\n",
    "import numpy as np\n",
    "import os"
   ]
  },
  {
   "cell_type": "code",
   "execution_count": 6,
   "metadata": {},
   "outputs": [
    {
     "data": {
      "text/plain": [
       "0.246"
      ]
     },
     "execution_count": 6,
     "metadata": {},
     "output_type": "execute_result"
    }
   ],
   "source": [
    "s = '0.123_world'\n",
    "float(s[:s.find('_')]) *2"
   ]
  },
  {
   "cell_type": "code",
   "execution_count": 16,
   "metadata": {},
   "outputs": [],
   "source": [
    "def sorter(item):\n",
    "    # Since highest marks first, least error = most marks\n",
    "    radius = float(item[1 : item.find('_')])\n",
    "    num_img = int(item[item.find('g') + 1 : item.find('j') - 1])\n",
    "    return (radius, num_img)"
   ]
  },
  {
   "cell_type": "code",
   "execution_count": 17,
   "metadata": {},
   "outputs": [
    {
     "data": {
      "text/plain": [
       "(0.004, 0)"
      ]
     },
     "execution_count": 17,
     "metadata": {},
     "output_type": "execute_result"
    }
   ],
   "source": [
    "sorter('r0.004_img0.jpg')"
   ]
  },
  {
   "cell_type": "code",
   "execution_count": 5,
   "metadata": {},
   "outputs": [],
   "source": [
    "rv = truncexpon(1, 3, 1)"
   ]
  },
  {
   "cell_type": "code",
   "execution_count": null,
   "metadata": {},
   "outputs": [],
   "source": []
  },
  {
   "cell_type": "code",
   "execution_count": null,
   "metadata": {},
   "outputs": [],
   "source": []
  },
  {
   "cell_type": "code",
   "execution_count": null,
   "metadata": {},
   "outputs": [],
   "source": []
  },
  {
   "cell_type": "code",
   "execution_count": null,
   "metadata": {},
   "outputs": [],
   "source": []
  },
  {
   "cell_type": "code",
   "execution_count": 61,
   "metadata": {},
   "outputs": [],
   "source": [
    "vals = rv.rvs(size = 100)"
   ]
  },
  {
   "cell_type": "code",
   "execution_count": 62,
   "metadata": {},
   "outputs": [],
   "source": [
    "lower, upper, scale = 0.01, 1, 1/4\n",
    "X = truncexpon(b = (upper-lower) / scale, loc=lower, scale=scale)\n",
    "data = X.rvs(10000)"
   ]
  },
  {
   "cell_type": "code",
   "execution_count": 63,
   "metadata": {
    "scrolled": true
   },
   "outputs": [
    {
     "data": {
      "image/png": "[encoded data removed]",
      "text/plain": [
       "<Figure size 432x288 with 1 Axes>"
      ]
     },
     "metadata": {
      "needs_background": "light"
     },
     "output_type": "display_data"
    }
   ],
   "source": [
    "fig, ax = plt.subplots()\n",
    "ax.hist(data)\n",
    "plt.show()"
   ]
  },
  {
   "cell_type": "code",
   "execution_count": 58,
   "metadata": {},
   "outputs": [],
   "source": [
    "import numpy as np\n",
    "import os"
   ]
  },
  {
   "cell_type": "code",
   "execution_count": 59,
   "metadata": {},
   "outputs": [],
   "source": [
    "dt = np.load(os.path.join(os.getcwd(), 'labels', 'train', '6', 'angles_inner.npy'))"
   ]
  },
  {
   "cell_type": "code",
   "execution_count": 60,
   "metadata": {},
   "outputs": [
    {
     "data": {
      "text/plain": [
       "array([[0.69092522, 1.48811512, 2.65878786, 3.46581561, 4.77361682,\n",
       "        5.40878286],\n",
       "       [0.95272461, 1.74991451, 2.92058724, 3.727615  , 5.03541621,\n",
       "        5.67058224],\n",
       "       [1.214524  , 2.01171389, 3.18238663, 3.98941438, 5.2972156 ,\n",
       "        5.93238163],\n",
       "       [1.47632338, 2.27351328, 3.44418602, 4.25121377, 5.55901498,\n",
       "        6.19418102],\n",
       "       [0.55933667, 1.79093453, 2.78350192, 3.62298191, 4.63190808,\n",
       "        5.37016535],\n",
       "       [0.82113606, 2.05273392, 3.04530131, 3.8847813 , 4.89370747,\n",
       "        5.63196474],\n",
       "       [1.08293545, 2.31453331, 3.3071007 , 4.14658069, 5.15550686,\n",
       "        5.89376412],\n",
       "       [1.34473484, 2.57633269, 3.56890008, 4.40838008, 5.41730624,\n",
       "        6.15556351],\n",
       "       [0.7683753 , 1.4297473 , 2.87049939, 3.83662589, 4.86473406,\n",
       "        6.18207124],\n",
       "       [1.03017469, 1.69154669, 3.13229877, 4.09842528, 5.12653345,\n",
       "        0.16068532],\n",
       "       [1.29197408, 1.95334608, 3.39409816, 4.36022467, 5.38833283,\n",
       "        0.4224847 ],\n",
       "       [1.55377346, 2.21514547, 3.65589755, 4.62202405, 5.65013222,\n",
       "        0.68428409],\n",
       "       [0.3634301 , 1.42026975, 2.41604638, 3.57507475, 4.51002407,\n",
       "        5.57959608],\n",
       "       [0.62522948, 1.68206913, 2.67784577, 3.83687414, 4.77182346,\n",
       "        5.84139546],\n",
       "       [0.88702887, 1.94386852, 2.93964516, 4.09867353, 5.03362284,\n",
       "        6.10319485],\n",
       "       [1.14882826, 2.20566791, 3.20144454, 4.36047292, 5.29542223,\n",
       "        0.08180893],\n",
       "       [0.6499201 , 1.7860409 , 2.57754001, 3.60097413, 4.95107478,\n",
       "        5.63425179],\n",
       "       [0.91171949, 2.04784029, 2.8393394 , 3.86277352, 5.21287416,\n",
       "        5.89605118],\n",
       "       [1.17351887, 2.30963968, 3.10113879, 4.12457291, 5.47467355,\n",
       "        6.15785057],\n",
       "       [1.43531826, 2.57143906, 3.36293818, 4.3863723 , 5.73647294,\n",
       "        0.13646465],\n",
       "       [0.42723277, 1.62211752, 2.38415828, 3.73534703, 4.55849957,\n",
       "        5.78342912],\n",
       "       [0.68903216, 1.8839169 , 2.64595767, 3.99714642, 4.82029896,\n",
       "        6.0452285 ],\n",
       "       [0.95083155, 2.14571629, 2.90775706, 4.2589458 , 5.08209835,\n",
       "        0.02384258],\n",
       "       [1.21263094, 2.40751568, 3.16955645, 4.52074519, 5.34389773,\n",
       "        0.28564197],\n",
       "       [0.36972306, 1.82434012, 2.73895893, 3.47630559, 4.72906731,\n",
       "        5.94265575],\n",
       "       [0.63152244, 2.08613951, 3.00075831, 3.73810498, 4.99086669,\n",
       "        6.20445514],\n",
       "       [0.89332183, 2.3479389 , 3.2625577 , 3.99990436, 5.25266608,\n",
       "        0.18306922],\n",
       "       [1.15512122, 2.60973829, 3.52435709, 4.26170375, 5.51446547,\n",
       "        0.4448686 ],\n",
       "       [0.50493961, 1.5411797 , 2.61192917, 3.77074326, 4.55672173,\n",
       "        6.15546624],\n",
       "       [0.766739  , 1.80297908, 2.87372855, 4.03254265, 4.81852112,\n",
       "        0.13408032],\n",
       "       [1.02853839, 2.06477847, 3.13552794, 4.29434204, 5.08032051,\n",
       "        0.39587971],\n",
       "       [1.29033777, 2.32657786, 3.39732733, 4.55614143, 5.3421199 ,\n",
       "        0.65767909],\n",
       "       [0.63266085, 1.52741936, 2.4500817 , 3.55781061, 4.48953401,\n",
       "        5.90724321],\n",
       "       [0.89446024, 1.78921874, 2.71188109, 3.81961   , 4.7513334 ,\n",
       "        6.1690426 ],\n",
       "       [1.15625962, 2.05101813, 2.97368047, 4.08140938, 5.01313279,\n",
       "        0.14765668],\n",
       "       [1.41805901, 2.31281752, 3.23547986, 4.34320877, 5.27493217,\n",
       "        0.40945607],\n",
       "       [0.71233535, 1.49172626, 2.45840082, 3.88157738, 4.82330167,\n",
       "        5.59304795],\n",
       "       [0.97413474, 1.75352565, 2.72020021, 4.14337677, 5.08510106,\n",
       "        5.85484734],\n",
       "       [1.23593413, 2.01532504, 2.9819996 , 4.40517615, 5.34690044,\n",
       "        6.11664673],\n",
       "       [1.49773352, 2.27712443, 3.24379898, 4.66697554, 5.60869983,\n",
       "        0.09526081],\n",
       "       [0.74983247, 1.60907922, 2.69078482, 3.70771961, 4.67539751,\n",
       "        5.89656272],\n",
       "       [1.01163186, 1.87087861, 2.95258421, 3.969519  , 4.9371969 ,\n",
       "        6.1583621 ],\n",
       "       [1.27343125, 2.132678  , 3.2143836 , 4.23131839, 5.19899629,\n",
       "        0.13697618],\n",
       "       [1.53523063, 2.39447739, 3.47618298, 4.49311778, 5.46079568,\n",
       "        0.39877557],\n",
       "       [0.47031048, 1.47723384, 2.77229714, 3.57705829, 4.74293111,\n",
       "        6.20565531],\n",
       "       [0.73210987, 1.73903323, 3.03409653, 3.83885768, 5.00473049,\n",
       "        0.18426939],\n",
       "       [0.99390925, 2.00083262, 3.29589592, 4.10065706, 5.26652988,\n",
       "        0.44606877],\n",
       "       [1.25570864, 2.262632  , 3.5576953 , 4.36245645, 5.52832927,\n",
       "        0.70786816],\n",
       "       [0.76961138, 1.7853768 , 2.86085723, 3.90209731, 4.92404567,\n",
       "        5.70270066],\n",
       "       [1.03141077, 2.04717619, 3.12265662, 4.1638967 , 5.18584506,\n",
       "        5.96450004],\n",
       "       [1.29321016, 2.30897558, 3.38445601, 4.42569609, 5.44764445,\n",
       "        6.22629943],\n",
       "       [1.55500955, 2.57077496, 3.6462554 , 4.68749548, 5.70944383,\n",
       "        0.20491351],\n",
       "       [0.61625242, 1.3290575 , 2.7543373 , 3.61972756, 4.8685393 ,\n",
       "        5.62444717],\n",
       "       [0.8780518 , 1.59085689, 3.01613669, 3.88152695, 5.13033868,\n",
       "        5.88624656],\n",
       "       [1.13985119, 1.85265628, 3.27793608, 4.14332633, 5.39213807,\n",
       "        6.14804595],\n",
       "       [1.40165058, 2.11445567, 3.53973547, 4.40512572, 5.65393746,\n",
       "        0.12666003],\n",
       "       [0.72719549, 1.36507977, 2.84094289, 3.66607559, 4.54289877,\n",
       "        0.15476395],\n",
       "       [0.98899488, 1.62687916, 3.10274228, 3.92787497, 4.80469815,\n",
       "        0.41656333],\n",
       "       [1.25079427, 1.88867855, 3.36454167, 4.18967436, 5.06649754,\n",
       "        0.67836272],\n",
       "       [1.51259366, 2.15047794, 3.62634106, 4.45147375, 5.32829693,\n",
       "        0.94016211],\n",
       "       [0.42251734, 1.79376736, 2.79262265, 3.46887452, 4.77431704,\n",
       "        6.13535713],\n",
       "       [0.68431673, 2.05556675, 3.05442203, 3.73067391, 5.03611642,\n",
       "        0.11397121],\n",
       "       [0.94611612, 2.31736614, 3.31622142, 3.9924733 , 5.29791581,\n",
       "        0.3757706 ],\n",
       "       [1.20791551, 2.57916552, 3.57802081, 4.25427269, 5.5597152 ,\n",
       "        0.63756998]])"
      ]
     },
     "execution_count": 60,
     "metadata": {},
     "output_type": "execute_result"
    }
   ],
   "source": [
    "dt"
   ]
  },
  {
   "cell_type": "code",
   "execution_count": 57,
   "metadata": {},
   "outputs": [
    {
     "data": {
      "text/plain": [
       "4"
      ]
     },
     "execution_count": 57,
     "metadata": {},
     "output_type": "execute_result"
    }
   ],
   "source": [
    "-2 % 6"
   ]
  },
  {
   "cell_type": "code",
   "execution_count": 55,
   "metadata": {},
   "outputs": [],
   "source": [
    "img = Image.open(os.path.join(os.getcwd(), 'image_data', 'train', '2', 'img2_r0.0055.jpg'))"
   ]
  },
  {
   "cell_type": "code",
   "execution_count": 56,
   "metadata": {},
   "outputs": [],
   "source": [
    "from PIL.ImageOps import expand"
   ]
  },
  {
   "cell_type": "code",
   "execution_count": 57,
   "metadata": {},
   "outputs": [],
   "source": [
    "height, width = img.size"
   ]
  },
  {
   "cell_type": "code",
   "execution_count": 60,
   "metadata": {},
   "outputs": [],
   "source": [
    "new_size = (106, 106)\n",
    "delta_w = new_size[0] - width\n",
    "delta_h = new_size[1] - height\n",
    "padding = (delta_w // 2, delta_h // 2, delta_w - (delta_w // 2), delta_h - (delta_h // 2))\n",
    "img = expand(img, padding, fill = 'white')"
   ]
  },
  {
   "cell_type": "code",
   "execution_count": 62,
   "metadata": {},
   "outputs": [
    {
     "data": {
      "image/png": "[encoded data removed]",
      "text/plain": [
       "<PIL.Image.Image image mode=RGB size=106x106 at 0x7F8FFDEB3760>"
      ]
     },
     "execution_count": 62,
     "metadata": {},
     "output_type": "execute_result"
    }
   ],
   "source": [
    "img"
   ]
  },
  {
   "cell_type": "code",
   "execution_count": 64,
   "metadata": {},
   "outputs": [],
   "source": [
    "img.save(os.path.join(os.getcwd(), 'image_data', 'train', '2', 'img2_r0.0055.jpg'))"
   ]
  },
  {
   "cell_type": "code",
   "execution_count": 27,
   "metadata": {},
   "outputs": [
    {
     "data": {
      "text/plain": [
       "<matplotlib.image.AxesImage at 0x7f8ffdf9b7f0>"
      ]
     },
     "execution_count": 27,
     "metadata": {},
     "output_type": "execute_result"
    },
    {
     "data": {
      "image/png": "[encoded data removed]",
      "text/plain": [
       "<Figure size 432x288 with 1 Axes>"
      ]
     },
     "metadata": {
      "needs_background": "light"
     },
     "output_type": "display_data"
    }
   ],
   "source": [
    "plt.imshow(blurred)"
   ]
  },
  {
   "cell_type": "code",
   "execution_count": 30,
   "metadata": {},
   "outputs": [
    {
     "data": {
      "text/plain": [
       "['img50_r0.0055.jpg',\n",
       " 'img56_r0.01.jpg',\n",
       " 'img27_r0.0055.jpg',\n",
       " 'img26_r0.01.jpg',\n",
       " 'img57_r0.01.jpg',\n",
       " 'img35_r0.0055.jpg',\n",
       " 'img59_r0.01.jpg',\n",
       " 'img39_r0.01.jpg',\n",
       " 'img46_r0.0055.jpg',\n",
       " 'img18_r0.0055.jpg',\n",
       " 'img11_r0.0055.jpg',\n",
       " 'img24_r0.0055.jpg',\n",
       " 'img18_r0.01.jpg',\n",
       " 'img52_r0.01.jpg',\n",
       " 'img31_r0.0055.jpg',\n",
       " 'img6_r0.01.jpg',\n",
       " 'img34_r0.0055.jpg',\n",
       " 'img6_r0.0055.jpg',\n",
       " 'img14_r0.0055.jpg',\n",
       " 'img25_r0.01.jpg',\n",
       " 'img55_r0.0055.jpg',\n",
       " 'img13_r0.01.jpg',\n",
       " 'img33_r0.0055.jpg',\n",
       " 'img32_r0.01.jpg',\n",
       " 'img7_r0.0055.jpg',\n",
       " 'img42_r0.0055.jpg',\n",
       " 'img15_r0.0055.jpg',\n",
       " 'img25_r0.0055.jpg',\n",
       " 'img8_r0.0055.jpg',\n",
       " 'img36_r0.0055.jpg',\n",
       " 'img34_r0.01.jpg',\n",
       " 'img5_r0.01.jpg',\n",
       " 'img45_r0.01.jpg',\n",
       " 'img32_r0.0055.jpg',\n",
       " 'img0_r0.0055.jpg',\n",
       " 'img42_r0.01.jpg',\n",
       " 'img58_r0.01.jpg',\n",
       " 'img52_r0.0055.jpg',\n",
       " 'img31_r0.01.jpg',\n",
       " 'img29_r0.0055.jpg',\n",
       " 'img2_r0.01.jpg',\n",
       " 'img27_r0.01.jpg',\n",
       " 'img15_r0.01.jpg',\n",
       " 'img53_r0.01.jpg',\n",
       " 'img11_r0.01.jpg',\n",
       " 'img37_r0.01.jpg',\n",
       " 'img29_r0.01.jpg',\n",
       " 'img12_r0.01.jpg',\n",
       " 'img38_r0.01.jpg',\n",
       " 'img49_r0.0055.jpg',\n",
       " 'img48_r0.0055.jpg',\n",
       " 'img43_r0.0055.jpg',\n",
       " 'img10_r0.0055.jpg',\n",
       " 'img30_r0.01.jpg',\n",
       " 'img55_r0.01.jpg',\n",
       " 'img39_r0.0055.jpg',\n",
       " 'img35_r0.01.jpg',\n",
       " 'img20_r0.01.jpg',\n",
       " 'img24_r0.01.jpg',\n",
       " 'img4_r0.0055.jpg',\n",
       " 'img1_r0.0055.jpg',\n",
       " 'img3_r0.01.jpg',\n",
       " 'img12_r0.0055.jpg',\n",
       " 'img23_r0.01.jpg',\n",
       " 'img28_r0.01.jpg',\n",
       " 'img37_r0.0055.jpg',\n",
       " 'img40_r0.0055.jpg',\n",
       " 'img8_r0.01.jpg',\n",
       " 'img17_r0.01.jpg',\n",
       " 'img13_r0.0055.jpg',\n",
       " 'img4_r0.01.jpg',\n",
       " 'img9_r0.0055.jpg',\n",
       " 'img45_r0.0055.jpg',\n",
       " 'img7_r0.01.jpg',\n",
       " 'img40_r0.01.jpg',\n",
       " 'img49_r0.01.jpg',\n",
       " 'img47_r0.0055.jpg',\n",
       " 'img10_r0.01.jpg',\n",
       " 'img53_r0.0055.jpg',\n",
       " 'img23_r0.0055.jpg',\n",
       " 'img43_r0.01.jpg',\n",
       " 'img48_r0.01.jpg',\n",
       " 'img36_r0.01.jpg',\n",
       " 'img2_r0.0055.jpg',\n",
       " 'img22_r0.0055.jpg',\n",
       " 'img47_r0.01.jpg',\n",
       " 'img20_r0.0055.jpg',\n",
       " 'img51_r0.01.jpg',\n",
       " 'img22_r0.01.jpg',\n",
       " 'img44_r0.01.jpg',\n",
       " 'img59_r0.0055.jpg',\n",
       " 'img5_r0.0055.jpg',\n",
       " 'img26_r0.0055.jpg',\n",
       " 'img0_r0.01.jpg',\n",
       " 'img44_r0.0055.jpg',\n",
       " 'img17_r0.0055.jpg',\n",
       " 'img51_r0.0055.jpg',\n",
       " 'img28_r0.0055.jpg',\n",
       " 'img54_r0.0055.jpg',\n",
       " 'img41_r0.01.jpg',\n",
       " 'img16_r0.01.jpg',\n",
       " 'img46_r0.01.jpg',\n",
       " 'img50_r0.01.jpg',\n",
       " 'img57_r0.0055.jpg',\n",
       " 'img56_r0.0055.jpg',\n",
       " 'img21_r0.0055.jpg',\n",
       " 'img19_r0.01.jpg',\n",
       " 'img3_r0.0055.jpg',\n",
       " 'img16_r0.0055.jpg',\n",
       " 'img38_r0.0055.jpg',\n",
       " 'img54_r0.01.jpg',\n",
       " 'img14_r0.01.jpg',\n",
       " 'img19_r0.0055.jpg',\n",
       " 'img58_r0.0055.jpg',\n",
       " 'img9_r0.01.jpg',\n",
       " 'img1_r0.01.jpg',\n",
       " 'img41_r0.0055.jpg',\n",
       " 'img30_r0.0055.jpg',\n",
       " 'img21_r0.01.jpg',\n",
       " 'img33_r0.01.jpg']"
      ]
     },
     "execution_count": 30,
     "metadata": {},
     "output_type": "execute_result"
    }
   ],
   "source": [
    "os.listdir(os.path.join(os.getcwd(), 'image_data', 'train', '2'))"
   ]
  },
  {
   "cell_type": "code",
   "execution_count": null,
   "metadata": {},
   "outputs": [],
   "source": []
  }
 ],
 "metadata": {
  "kernelspec": {
   "display_name": "Python 3",
   "language": "python",
   "name": "python3"
  },
  "language_info": {
   "codemirror_mode": {
    "name": "ipython",
    "version": 3
   },
   "file_extension": ".py",
   "mimetype": "text/x-python",
   "name": "python",
   "nbconvert_exporter": "python",
   "pygments_lexer": "ipython3",
   "version": "3.8.5"
  }
 },
 "nbformat": 4,
 "nbformat_minor": 4
}
